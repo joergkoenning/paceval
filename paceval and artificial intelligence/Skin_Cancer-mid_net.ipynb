{
 "cells": [
  {
   "cell_type": "code",
   "execution_count": 1,
   "id": "8fdd56de-ecaf-4719-be3b-ace932b948b7",
   "metadata": {},
   "outputs": [],
   "source": [
    "Float = Float32; # Define datatype to be used for all operations"
   ]
  },
  {
   "cell_type": "code",
   "execution_count": 2,
   "id": "8eaca5fe-4c98-4c81-ac59-023048528c20",
   "metadata": {},
   "outputs": [
    {
     "data": {
      "text/plain": [
       "false"
      ]
     },
     "execution_count": 2,
     "metadata": {},
     "output_type": "execute_result"
    }
   ],
   "source": [
    "using MLUtils, MLDataUtils, MLDatasets, Images, Augmentor, Flux, ProgressMeter, Plots, BenchmarkTools\n",
    "using CUDA\n",
    "using Printf\n",
    "using BSON: @save, @load\n",
    "using SymPy\n",
    "using Base.Iterators\n",
    "using CSV, DataFrames\n",
    "\n",
    "ProgressMeter.ijulia_behavior(:clear)"
   ]
  },
  {
   "cell_type": "markdown",
   "id": "ae06e6a7-3b9a-48e7-9471-fbcf6afe284b",
   "metadata": {},
   "source": [
    "# Load Dataset"
   ]
  },
  {
   "cell_type": "code",
   "execution_count": 30,
   "id": "e3846804-2cb8-4c4f-ab19-dd94b560cf3e",
   "metadata": {},
   "outputs": [
    {
     "data": {
      "text/plain": [
       "convert_img"
      ]
     },
     "execution_count": 30,
     "metadata": {},
     "output_type": "execute_result"
    }
   ],
   "source": [
    "\"\"\"Bring a matrix of RGB into the format of a tensor with the color channels as the last dimention\"\"\"\n",
    "convert_img(img) = Float.(permutedims(channelview(img), (2,3,1)))"
   ]
  },
  {
   "cell_type": "code",
   "execution_count": 31,
   "id": "8642e7a2-c1ef-4350-8b72-2f1c92856e23",
   "metadata": {},
   "outputs": [
    {
     "data": {
      "text/plain": [
       "convert_imgs"
      ]
     },
     "execution_count": 31,
     "metadata": {},
     "output_type": "execute_result"
    }
   ],
   "source": [
    "\"\"\"Given a vector of RGB matrices, converts everything into a single tensor with \n",
    "the color channel as the third and the samples as the last dimention\"\"\"\n",
    "function convert_imgs(imgs)\n",
    "    nb_imgs = length(imgs)\n",
    "    height, width = size(imgs[1])\n",
    "    tensor = Array{Float, 4}(undef, height, width, 3, nb_imgs)\n",
    "    @showprogress 1 \" Converting images\" for (i, img) in enumerate(imgs)\n",
    "        tensor[:,:,:,i] .= convert_img(img)\n",
    "    end\n",
    "    tensor\n",
    "end"
   ]
  },
  {
   "cell_type": "code",
   "execution_count": 32,
   "id": "2137bbff-e740-4a5d-a803-92a63699e6d7",
   "metadata": {},
   "outputs": [
    {
     "data": {
      "text/plain": [
       "load_ham10000"
      ]
     },
     "execution_count": 32,
     "metadata": {},
     "output_type": "execute_result"
    }
   ],
   "source": [
    "\"\"\" Load the HAM10000 dataset\"\"\"\n",
    "function load_ham10000(path::String; max_samples::Int = 100)\n",
    "    # Load the CSV file containing the image filenames and labels\n",
    "    df = CSV.read(joinpath(path, \"HAM10000_metadata.csv\"), DataFrame)\n",
    "\n",
    "    # Create a dictionary to map the class names to integer labels\n",
    "    class_names = unique(df[:, :dx])\n",
    "    class_dict = Dict(zip(class_names, 1:length(class_names)))\n",
    "\n",
    "    # Load the images and labels\n",
    "    images = []\n",
    "    labels = []\n",
    "    @showprogress 1 \"Loading images\" for i in 1:min(max_samples, size(df, 1))\n",
    "        # Load the image\n",
    "        img = load(joinpath(path, df[i, :image_id]*\".jpg\"))\n",
    "        # Get the label for the image\n",
    "        label = class_dict[df[i, :dx]]\n",
    "        # Add the image and label to the list\n",
    "        push!(images, img)\n",
    "        push!(labels, label)\n",
    "    end\n",
    "\n",
    "    images = convert_imgs(images) # Convert the images to the format needed for the neural networks\n",
    "    \n",
    "    return images, Int.(labels), class_dict\n",
    "end"
   ]
  },
  {
   "cell_type": "markdown",
   "id": "f65c0927-2553-4477-9171-924e8290ee6f",
   "metadata": {},
   "source": [
    "#### Load, shuffle, split and prepare dataset"
   ]
  },
  {
   "cell_type": "code",
   "execution_count": 35,
   "id": "4b8ebb6f-b74b-4dac-a13d-b6f3c831d9a6",
   "metadata": {},
   "outputs": [
    {
     "name": "stderr",
     "output_type": "stream",
     "text": [
      "\u001b[32mLoading images 100%|█████████████████████████████████████| Time: 0:00:03\u001b[39m\n"
     ]
    }
   ],
   "source": [
    "X, Y, class_dict = load_ham10000(\"dataset\", max_samples=20000)\n",
    "(Xtrain, ytrain), (Xtest, ytest) = MLUtils.splitobs(MLUtils.shuffleobs((X, Y)), at=0.8);"
   ]
  },
  {
   "cell_type": "code",
   "execution_count": 36,
   "id": "c98b573f-d0a6-4359-8091-98013fa39968",
   "metadata": {},
   "outputs": [
    {
     "data": {
      "text/plain": [
       "Dict{String7, Int64} with 7 entries:\n",
       "  String7(\"df\")    => 3\n",
       "  String7(\"nv\")    => 2\n",
       "  String7(\"vasc\")  => 5\n",
       "  String7(\"mel\")   => 4\n",
       "  String7(\"akiec\") => 7\n",
       "  String7(\"bcc\")   => 6\n",
       "  String7(\"bkl\")   => 1"
      ]
     },
     "execution_count": 36,
     "metadata": {},
     "output_type": "execute_result"
    }
   ],
   "source": [
    "class_dict"
   ]
  },
  {
   "cell_type": "markdown",
   "id": "e3429537-ad74-4af6-a061-1d758ae54600",
   "metadata": {},
   "source": [
    "Transform labels to One of K coding"
   ]
  },
  {
   "cell_type": "code",
   "execution_count": 37,
   "id": "95a319d4-a19d-483d-b6cf-89a24e26db22",
   "metadata": {},
   "outputs": [
    {
     "data": {
      "text/plain": [
       "(\"7×8012 Matrix{Float32}\", \"7×2003 Matrix{Float32}\")"
      ]
     },
     "execution_count": 37,
     "metadata": {},
     "output_type": "execute_result"
    }
   ],
   "source": [
    "Ytrain = convertlabel(LabelEnc.OneOfK{Float}, ytrain, 1:7)\n",
    "Ytest = convertlabel(LabelEnc.OneOfK{Float}, ytest, 1:7)\n",
    "summary(Ytrain), summary(Ytest)"
   ]
  },
  {
   "cell_type": "code",
   "execution_count": 38,
   "id": "82d9eec7-d98e-407c-8728-42d8fcdee2de",
   "metadata": {},
   "outputs": [
    {
     "data": {
      "image/png": "[encoded data removed]",
      "text/plain": [
       "45×60 reinterpret(reshape, RGB{Float32}, ::StackedView{Float32, 3, Tuple{Matrix{Float32}, Matrix{Float32}, Matrix{Float32}}}) with eltype RGB{Float32}:\n",
       " RGB{Float32}(0.780392,0.72549,0.823529)   …  RGB{Float32}(0.764706,0.647059,0.74902)\n",
       " RGB{Float32}(0.784314,0.729412,0.827451)     RGB{Float32}(0.760784,0.643137,0.737255)\n",
       " RGB{Float32}(0.784314,0.713726,0.807843)     RGB{Float32}(0.772549,0.654902,0.74902)\n",
       " RGB{Float32}(0.796078,0.72549,0.827451)      RGB{Float32}(0.792157,0.690196,0.803922)\n",
       " RGB{Float32}(0.807843,0.737255,0.831373)     RGB{Float32}(0.796078,0.682353,0.792157)\n",
       " RGB{Float32}(0.792157,0.721569,0.823529)  …  RGB{Float32}(0.796078,0.686275,0.776471)\n",
       " RGB{Float32}(0.815686,0.768627,0.862745)     RGB{Float32}(0.784314,0.658824,0.752941)\n",
       " RGB{Float32}(0.827451,0.780392,0.87451)      RGB{Float32}(0.788235,0.654902,0.752941)\n",
       " RGB{Float32}(0.831373,0.780392,0.858824)     RGB{Float32}(0.796078,0.647059,0.737255)\n",
       " RGB{Float32}(0.819608,0.760784,0.835294)     RGB{Float32}(0.788235,0.639216,0.737255)\n",
       " RGB{Float32}(0.847059,0.8,0.878431)       …  RGB{Float32}(0.796078,0.658824,0.745098)\n",
       " RGB{Float32}(0.831373,0.776471,0.843137)     RGB{Float32}(0.807843,0.682353,0.764706)\n",
       " RGB{Float32}(0.835294,0.780392,0.847059)     RGB{Float32}(0.819608,0.690196,0.764706)\n",
       " ⋮                                         ⋱  \n",
       " RGB{Float32}(0.827451,0.745098,0.819608)     RGB{Float32}(0.85098,0.772549,0.882353)\n",
       " RGB{Float32}(0.811765,0.737255,0.815686)     RGB{Float32}(0.827451,0.74902,0.854902)\n",
       " RGB{Float32}(0.811765,0.72549,0.807843)   …  RGB{Float32}(0.811765,0.721569,0.823529)\n",
       " RGB{Float32}(0.819608,0.752941,0.827451)     RGB{Float32}(0.807843,0.717647,0.819608)\n",
       " RGB{Float32}(0.811765,0.745098,0.815686)     RGB{Float32}(0.811765,0.733333,0.839216)\n",
       " RGB{Float32}(0.807843,0.72549,0.784314)      RGB{Float32}(0.823529,0.745098,0.85098)\n",
       " RGB{Float32}(0.784314,0.698039,0.74902)      RGB{Float32}(0.807843,0.713726,0.807843)\n",
       " RGB{Float32}(0.803922,0.721569,0.780392)  …  RGB{Float32}(0.796078,0.709804,0.8)\n",
       " RGB{Float32}(0.764706,0.67451,0.737255)      RGB{Float32}(0.8,0.709804,0.823529)\n",
       " RGB{Float32}(0.760784,0.670588,0.733333)     RGB{Float32}(0.803922,0.713726,0.827451)\n",
       " RGB{Float32}(0.760784,0.670588,0.733333)     RGB{Float32}(0.803922,0.733333,0.835294)\n",
       " RGB{Float32}(0.772549,0.682353,0.752941)     RGB{Float32}(0.815686,0.737255,0.843137)"
      ]
     },
     "execution_count": 38,
     "metadata": {},
     "output_type": "execute_result"
    }
   ],
   "source": [
    "colorview(RGB, StackedView(Xtrain[:,:,1,1], Xtrain[:,:,2,1], Xtrain[:,:,3,1]))"
   ]
  },
  {
   "cell_type": "markdown",
   "id": "d303c22d-4f39-413f-a18e-866e90649723",
   "metadata": {},
   "source": [
    "# Define Neural Network Architecture"
   ]
  },
  {
   "cell_type": "code",
   "execution_count": 39,
   "id": "2cd455b9-be7d-447d-b48d-5c5c9c442330",
   "metadata": {},
   "outputs": [
    {
     "data": {
      "image/svg+xml": [
       "<?xml version=\"1.0\" encoding=\"utf-8\"?>\n",
       "<svg xmlns=\"http://www.w3.org/2000/svg\" xmlns:xlink=\"http://www.w3.org/1999/xlink\" width=\"600\" height=\"400\" viewBox=\"0 0 2400 1600\">\n",
       "<defs>\n",
       "  <clipPath id=\"clip720\">\n",
       "    <rect x=\"0\" y=\"0\" width=\"2400\" height=\"1600\"/>\n",
       "  </clipPath>\n",
       "</defs>\n",
       "<path clip-path=\"url(#clip720)\" d=\"\n",
       "M0 1600 L2400 1600 L2400 0 L0 0  Z\n",
       "  \" fill=\"#ffffff\" fill-rule=\"evenodd\" fill-opacity=\"1\"/>\n",
       "<defs>\n",
       "  <clipPath id=\"clip721\">\n",
       "    <rect x=\"480\" y=\"0\" width=\"1681\" height=\"1600\"/>\n",
       "  </clipPath>\n",
       "</defs>\n",
       "<path clip-path=\"url(#clip720)\" d=\"\n",
       "M112.177 1486.45 L2352.76 1486.45 L2352.76 47.2441 L112.177 47.2441  Z\n",
       "  \" fill=\"#ffffff\" fill-rule=\"evenodd\" fill-opacity=\"1\"/>\n",
       "<defs>\n",
       "  <clipPath id=\"clip722\">\n",
       "    <rect x=\"112\" y=\"47\" width=\"2242\" height=\"1440\"/>\n",
       "  </clipPath>\n",
       "</defs>\n",
       "<polyline clip-path=\"url(#clip722)\" style=\"stroke:#000000; stroke-linecap:round; stroke-linejoin:round; stroke-width:2; stroke-opacity:0.1; fill:none\" points=\"\n",
       "  386.965,1486.45 386.965,47.2441 \n",
       "  \"/>\n",
       "<polyline clip-path=\"url(#clip722)\" style=\"stroke:#000000; stroke-linecap:round; stroke-linejoin:round; stroke-width:2; stroke-opacity:0.1; fill:none\" points=\"\n",
       "  809.716,1486.45 809.716,47.2441 \n",
       "  \"/>\n",
       "<polyline clip-path=\"url(#clip722)\" style=\"stroke:#000000; stroke-linecap:round; stroke-linejoin:round; stroke-width:2; stroke-opacity:0.1; fill:none\" points=\"\n",
       "  1232.47,1486.45 1232.47,47.2441 \n",
       "  \"/>\n",
       "<polyline clip-path=\"url(#clip722)\" style=\"stroke:#000000; stroke-linecap:round; stroke-linejoin:round; stroke-width:2; stroke-opacity:0.1; fill:none\" points=\"\n",
       "  1655.22,1486.45 1655.22,47.2441 \n",
       "  \"/>\n",
       "<polyline clip-path=\"url(#clip722)\" style=\"stroke:#000000; stroke-linecap:round; stroke-linejoin:round; stroke-width:2; stroke-opacity:0.1; fill:none\" points=\"\n",
       "  2077.97,1486.45 2077.97,47.2441 \n",
       "  \"/>\n",
       "<polyline clip-path=\"url(#clip720)\" style=\"stroke:#000000; stroke-linecap:round; stroke-linejoin:round; stroke-width:4; stroke-opacity:1; fill:none\" points=\"\n",
       "  112.177,1486.45 2352.76,1486.45 \n",
       "  \"/>\n",
       "<polyline clip-path=\"url(#clip720)\" style=\"stroke:#000000; stroke-linecap:round; stroke-linejoin:round; stroke-width:4; stroke-opacity:1; fill:none\" points=\"\n",
       "  386.965,1486.45 386.965,1467.55 \n",
       "  \"/>\n",
       "<polyline clip-path=\"url(#clip720)\" style=\"stroke:#000000; stroke-linecap:round; stroke-linejoin:round; stroke-width:4; stroke-opacity:1; fill:none\" points=\"\n",
       "  809.716,1486.45 809.716,1467.55 \n",
       "  \"/>\n",
       "<polyline clip-path=\"url(#clip720)\" style=\"stroke:#000000; stroke-linecap:round; stroke-linejoin:round; stroke-width:4; stroke-opacity:1; fill:none\" points=\"\n",
       "  1232.47,1486.45 1232.47,1467.55 \n",
       "  \"/>\n",
       "<polyline clip-path=\"url(#clip720)\" style=\"stroke:#000000; stroke-linecap:round; stroke-linejoin:round; stroke-width:4; stroke-opacity:1; fill:none\" points=\"\n",
       "  1655.22,1486.45 1655.22,1467.55 \n",
       "  \"/>\n",
       "<polyline clip-path=\"url(#clip720)\" style=\"stroke:#000000; stroke-linecap:round; stroke-linejoin:round; stroke-width:4; stroke-opacity:1; fill:none\" points=\"\n",
       "  2077.97,1486.45 2077.97,1467.55 \n",
       "  \"/>\n",
       "<path clip-path=\"url(#clip720)\" d=\"M355.866 1532.02 L385.542 1532.02 L385.542 1535.95 L355.866 1535.95 L355.866 1532.02 Z\" fill=\"#000000\" fill-rule=\"evenodd\" fill-opacity=\"1\" /><path clip-path=\"url(#clip720)\" d=\"M408.481 1518.36 L396.676 1536.81 L408.481 1536.81 L408.481 1518.36 M407.254 1514.29 L413.134 1514.29 L413.134 1536.81 L418.065 1536.81 L418.065 1540.7 L413.134 1540.7 L413.134 1548.85 L408.481 1548.85 L408.481 1540.7 L392.879 1540.7 L392.879 1536.19 L407.254 1514.29 Z\" fill=\"#000000\" fill-rule=\"evenodd\" fill-opacity=\"1\" /><path clip-path=\"url(#clip720)\" d=\"M779.658 1532.02 L809.334 1532.02 L809.334 1535.95 L779.658 1535.95 L779.658 1532.02 Z\" fill=\"#000000\" fill-rule=\"evenodd\" fill-opacity=\"1\" /><path clip-path=\"url(#clip720)\" d=\"M823.454 1544.91 L839.774 1544.91 L839.774 1548.85 L817.829 1548.85 L817.829 1544.91 Q820.491 1542.16 825.075 1537.53 Q829.681 1532.88 830.862 1531.53 Q833.107 1529.01 833.987 1527.27 Q834.889 1525.51 834.889 1523.82 Q834.889 1521.07 832.945 1519.33 Q831.024 1517.6 827.922 1517.6 Q825.723 1517.6 823.269 1518.36 Q820.838 1519.13 818.061 1520.68 L818.061 1515.95 Q820.885 1514.82 823.338 1514.24 Q825.792 1513.66 827.829 1513.66 Q833.2 1513.66 836.394 1516.35 Q839.588 1519.03 839.588 1523.52 Q839.588 1525.65 838.778 1527.57 Q837.991 1529.47 835.885 1532.07 Q835.306 1532.74 832.204 1535.95 Q829.102 1539.15 823.454 1544.91 Z\" fill=\"#000000\" fill-rule=\"evenodd\" fill-opacity=\"1\" /><path clip-path=\"url(#clip720)\" d=\"M1232.47 1517.37 Q1228.86 1517.37 1227.03 1520.93 Q1225.22 1524.47 1225.22 1531.6 Q1225.22 1538.71 1227.03 1542.27 Q1228.86 1545.82 1232.47 1545.82 Q1236.1 1545.82 1237.91 1542.27 Q1239.74 1538.71 1239.74 1531.6 Q1239.74 1524.47 1237.91 1520.93 Q1236.1 1517.37 1232.47 1517.37 M1232.47 1513.66 Q1238.28 1513.66 1241.33 1518.27 Q1244.41 1522.85 1244.41 1531.6 Q1244.41 1540.33 1241.33 1544.94 Q1238.28 1549.52 1232.47 1549.52 Q1226.66 1549.52 1223.58 1544.94 Q1220.52 1540.33 1220.52 1531.6 Q1220.52 1522.85 1223.58 1518.27 Q1226.66 1513.66 1232.47 1513.66 Z\" fill=\"#000000\" fill-rule=\"evenodd\" fill-opacity=\"1\" /><path clip-path=\"url(#clip720)\" d=\"M1649.87 1544.91 L1666.19 1544.91 L1666.19 1548.85 L1644.25 1548.85 L1644.25 1544.91 Q1646.91 1542.16 1651.49 1537.53 Q1656.1 1532.88 1657.28 1531.53 Q1659.52 1529.01 1660.4 1527.27 Q1661.31 1525.51 1661.31 1523.82 Q1661.31 1521.07 1659.36 1519.33 Q1657.44 1517.6 1654.34 1517.6 Q1652.14 1517.6 1649.68 1518.36 Q1647.25 1519.13 1644.48 1520.68 L1644.48 1515.95 Q1647.3 1514.82 1649.75 1514.24 Q1652.21 1513.66 1654.25 1513.66 Q1659.62 1513.66 1662.81 1516.35 Q1666 1519.03 1666 1523.52 Q1666 1525.65 1665.19 1527.57 Q1664.41 1529.47 1662.3 1532.07 Q1661.72 1532.74 1658.62 1535.95 Q1655.52 1539.15 1649.87 1544.91 Z\" fill=\"#000000\" fill-rule=\"evenodd\" fill-opacity=\"1\" /><path clip-path=\"url(#clip720)\" d=\"M2080.98 1518.36 L2069.17 1536.81 L2080.98 1536.81 L2080.98 1518.36 M2079.75 1514.29 L2085.63 1514.29 L2085.63 1536.81 L2090.56 1536.81 L2090.56 1540.7 L2085.63 1540.7 L2085.63 1548.85 L2080.98 1548.85 L2080.98 1540.7 L2065.38 1540.7 L2065.38 1536.19 L2079.75 1514.29 Z\" fill=\"#000000\" fill-rule=\"evenodd\" fill-opacity=\"1\" /><polyline clip-path=\"url(#clip722)\" style=\"stroke:#000000; stroke-linecap:round; stroke-linejoin:round; stroke-width:2; stroke-opacity:0.1; fill:none\" points=\"\n",
       "  112.177,1366.72 2352.76,1366.72 \n",
       "  \"/>\n",
       "<polyline clip-path=\"url(#clip722)\" style=\"stroke:#000000; stroke-linecap:round; stroke-linejoin:round; stroke-width:2; stroke-opacity:0.1; fill:none\" points=\"\n",
       "  112.177,1110.95 2352.76,1110.95 \n",
       "  \"/>\n",
       "<polyline clip-path=\"url(#clip722)\" style=\"stroke:#000000; stroke-linecap:round; stroke-linejoin:round; stroke-width:2; stroke-opacity:0.1; fill:none\" points=\"\n",
       "  112.177,855.178 2352.76,855.178 \n",
       "  \"/>\n",
       "<polyline clip-path=\"url(#clip722)\" style=\"stroke:#000000; stroke-linecap:round; stroke-linejoin:round; stroke-width:2; stroke-opacity:0.1; fill:none\" points=\"\n",
       "  112.177,599.406 2352.76,599.406 \n",
       "  \"/>\n",
       "<polyline clip-path=\"url(#clip722)\" style=\"stroke:#000000; stroke-linecap:round; stroke-linejoin:round; stroke-width:2; stroke-opacity:0.1; fill:none\" points=\"\n",
       "  112.177,343.634 2352.76,343.634 \n",
       "  \"/>\n",
       "<polyline clip-path=\"url(#clip722)\" style=\"stroke:#000000; stroke-linecap:round; stroke-linejoin:round; stroke-width:2; stroke-opacity:0.1; fill:none\" points=\"\n",
       "  112.177,87.8617 2352.76,87.8617 \n",
       "  \"/>\n",
       "<polyline clip-path=\"url(#clip720)\" style=\"stroke:#000000; stroke-linecap:round; stroke-linejoin:round; stroke-width:4; stroke-opacity:1; fill:none\" points=\"\n",
       "  112.177,1486.45 112.177,47.2441 \n",
       "  \"/>\n",
       "<polyline clip-path=\"url(#clip720)\" style=\"stroke:#000000; stroke-linecap:round; stroke-linejoin:round; stroke-width:4; stroke-opacity:1; fill:none\" points=\"\n",
       "  112.177,1366.72 131.075,1366.72 \n",
       "  \"/>\n",
       "<polyline clip-path=\"url(#clip720)\" style=\"stroke:#000000; stroke-linecap:round; stroke-linejoin:round; stroke-width:4; stroke-opacity:1; fill:none\" points=\"\n",
       "  112.177,1110.95 131.075,1110.95 \n",
       "  \"/>\n",
       "<polyline clip-path=\"url(#clip720)\" style=\"stroke:#000000; stroke-linecap:round; stroke-linejoin:round; stroke-width:4; stroke-opacity:1; fill:none\" points=\"\n",
       "  112.177,855.178 131.075,855.178 \n",
       "  \"/>\n",
       "<polyline clip-path=\"url(#clip720)\" style=\"stroke:#000000; stroke-linecap:round; stroke-linejoin:round; stroke-width:4; stroke-opacity:1; fill:none\" points=\"\n",
       "  112.177,599.406 131.075,599.406 \n",
       "  \"/>\n",
       "<polyline clip-path=\"url(#clip720)\" style=\"stroke:#000000; stroke-linecap:round; stroke-linejoin:round; stroke-width:4; stroke-opacity:1; fill:none\" points=\"\n",
       "  112.177,343.634 131.075,343.634 \n",
       "  \"/>\n",
       "<polyline clip-path=\"url(#clip720)\" style=\"stroke:#000000; stroke-linecap:round; stroke-linejoin:round; stroke-width:4; stroke-opacity:1; fill:none\" points=\"\n",
       "  112.177,87.8617 131.075,87.8617 \n",
       "  \"/>\n",
       "<path clip-path=\"url(#clip720)\" d=\"M64.2328 1352.52 Q60.6217 1352.52 58.793 1356.09 Q56.9875 1359.63 56.9875 1366.76 Q56.9875 1373.86 58.793 1377.43 Q60.6217 1380.97 64.2328 1380.97 Q67.867 1380.97 69.6726 1377.43 Q71.5013 1373.86 71.5013 1366.76 Q71.5013 1359.63 69.6726 1356.09 Q67.867 1352.52 64.2328 1352.52 M64.2328 1348.82 Q70.0429 1348.82 73.0985 1353.42 Q76.1772 1358.01 76.1772 1366.76 Q76.1772 1375.48 73.0985 1380.09 Q70.0429 1384.67 64.2328 1384.67 Q58.4226 1384.67 55.344 1380.09 Q52.2884 1375.48 52.2884 1366.76 Q52.2884 1358.01 55.344 1353.42 Q58.4226 1348.82 64.2328 1348.82 Z\" fill=\"#000000\" fill-rule=\"evenodd\" fill-opacity=\"1\" /><path clip-path=\"url(#clip720)\" d=\"M56.2699 1124.3 L63.9087 1124.3 L63.9087 1097.93 L55.5986 1099.6 L55.5986 1095.34 L63.8624 1093.67 L68.5383 1093.67 L68.5383 1124.3 L76.1772 1124.3 L76.1772 1128.23 L56.2699 1128.23 L56.2699 1124.3 Z\" fill=\"#000000\" fill-rule=\"evenodd\" fill-opacity=\"1\" /><path clip-path=\"url(#clip720)\" d=\"M59.8578 868.523 L76.1772 868.523 L76.1772 872.458 L54.2328 872.458 L54.2328 868.523 Q56.8949 865.769 61.4782 861.139 Q66.0846 856.486 67.2652 855.144 Q69.5105 852.621 70.3902 850.884 Q71.2929 849.125 71.2929 847.435 Q71.2929 844.681 69.3485 842.945 Q67.4272 841.209 64.3254 841.209 Q62.1263 841.209 59.6726 841.972 Q57.2421 842.736 54.4643 844.287 L54.4643 839.565 Q57.2884 838.431 59.7421 837.852 Q62.1958 837.273 64.2328 837.273 Q69.6031 837.273 72.7976 839.959 Q75.992 842.644 75.992 847.134 Q75.992 849.264 75.1818 851.185 Q74.3948 853.084 72.2883 855.676 Q71.7096 856.347 68.6078 859.565 Q65.5059 862.759 59.8578 868.523 Z\" fill=\"#000000\" fill-rule=\"evenodd\" fill-opacity=\"1\" /><path clip-path=\"url(#clip720)\" d=\"M69.0476 598.052 Q72.404 598.77 74.279 601.038 Q76.1772 603.307 76.1772 606.64 Q76.1772 611.756 72.6587 614.557 Q69.1402 617.357 62.6587 617.357 Q60.4828 617.357 58.168 616.918 Q55.8764 616.501 53.4227 615.645 L53.4227 611.131 Q55.3671 612.265 57.6819 612.844 Q59.9967 613.422 62.5198 613.422 Q66.918 613.422 69.2096 611.686 Q71.5244 609.95 71.5244 606.64 Q71.5244 603.584 69.3717 601.871 Q67.242 600.135 63.4226 600.135 L59.3949 600.135 L59.3949 596.293 L63.6078 596.293 Q67.0569 596.293 68.8855 594.927 Q70.7142 593.538 70.7142 590.946 Q70.7142 588.284 68.8161 586.872 Q66.9411 585.436 63.4226 585.436 Q61.5013 585.436 59.3023 585.853 Q57.1032 586.27 54.4643 587.149 L54.4643 582.983 Q57.1264 582.242 59.4412 581.872 Q61.7791 581.501 63.8393 581.501 Q69.1633 581.501 72.2652 583.932 Q75.367 586.339 75.367 590.459 Q75.367 593.33 73.7235 595.321 Q72.08 597.288 69.0476 598.052 Z\" fill=\"#000000\" fill-rule=\"evenodd\" fill-opacity=\"1\" /><path clip-path=\"url(#clip720)\" d=\"M66.5939 330.428 L54.7884 348.877 L66.5939 348.877 L66.5939 330.428 M65.367 326.354 L71.2466 326.354 L71.2466 348.877 L76.1772 348.877 L76.1772 352.766 L71.2466 352.766 L71.2466 360.914 L66.5939 360.914 L66.5939 352.766 L50.9921 352.766 L50.9921 348.252 L65.367 326.354 Z\" fill=\"#000000\" fill-rule=\"evenodd\" fill-opacity=\"1\" /><path clip-path=\"url(#clip720)\" d=\"M55.2745 70.5817 L73.6309 70.5817 L73.6309 74.5169 L59.5569 74.5169 L59.5569 82.9891 Q60.5754 82.6418 61.5939 82.4798 Q62.6124 82.2946 63.6309 82.2946 Q69.418 82.2946 72.7976 85.4659 Q76.1772 88.6372 76.1772 94.0538 Q76.1772 99.6325 72.705 102.734 Q69.2328 105.813 62.9134 105.813 Q60.7374 105.813 58.4689 105.443 Q56.2236 105.072 53.8162 104.332 L53.8162 99.6325 Q55.8995 100.767 58.1217 101.322 Q60.3439 101.878 62.8208 101.878 Q66.8254 101.878 69.1633 99.7714 Q71.5013 97.6649 71.5013 94.0538 Q71.5013 90.4427 69.1633 88.3362 Q66.8254 86.2298 62.8208 86.2298 Q60.9458 86.2298 59.0708 86.6464 Q57.2189 87.0631 55.2745 87.9427 L55.2745 70.5817 Z\" fill=\"#000000\" fill-rule=\"evenodd\" fill-opacity=\"1\" /><polyline clip-path=\"url(#clip722)\" style=\"stroke:#009af9; stroke-linecap:round; stroke-linejoin:round; stroke-width:4; stroke-opacity:1; fill:none\" points=\"\n",
       "  175.59,1375.31 189.351,1375.77 316.598,1381.18 393.068,1385.69 457.722,1390.41 527.955,1396.6 592.704,1403.34 662.121,1411.62 742.547,1422.25 814.021,1431.87 \n",
       "  876.697,1439.38 910.864,1442.61 945.031,1444.84 979.4,1445.72 1013.77,1444.8 1051.77,1441.13 1089.77,1434.02 1107.85,1429.25 1125.93,1423.48 1144.01,1416.66 \n",
       "  1162.08,1408.74 1180.88,1399.28 1199.68,1388.55 1218.47,1376.52 1237.27,1363.19 1253.09,1350.97 1268.92,1337.86 1284.74,1323.87 1300.56,1309.05 1319.88,1289.88 \n",
       "  1339.2,1269.62 1358.52,1248.37 1377.84,1226.23 1413.23,1183.75 1448.62,1139.37 1514,1054.53 1580.23,967.379 1654.45,870.51 1721.7,784.228 1798.7,687.185 \n",
       "  1870,598.639 1940.29,512.197 2008.54,428.8 2078.5,343.648 2155.15,250.59 2266.5,115.642 2289.34,87.9763 \n",
       "  \"/>\n",
       "<path clip-path=\"url(#clip720)\" d=\"\n",
       "M1976.69 198.898 L2278.07 198.898 L2278.07 95.2176 L1976.69 95.2176  Z\n",
       "  \" fill=\"#ffffff\" fill-rule=\"evenodd\" fill-opacity=\"1\"/>\n",
       "<polyline clip-path=\"url(#clip720)\" style=\"stroke:#000000; stroke-linecap:round; stroke-linejoin:round; stroke-width:4; stroke-opacity:1; fill:none\" points=\"\n",
       "  1976.69,198.898 2278.07,198.898 2278.07,95.2176 1976.69,95.2176 1976.69,198.898 \n",
       "  \"/>\n",
       "<polyline clip-path=\"url(#clip720)\" style=\"stroke:#009af9; stroke-linecap:round; stroke-linejoin:round; stroke-width:4; stroke-opacity:1; fill:none\" points=\"\n",
       "  2001.58,147.058 2150.95,147.058 \n",
       "  \"/>\n",
       "<path clip-path=\"url(#clip720)\" d=\"M2189.69 166.745 Q2187.89 171.375 2186.17 172.787 Q2184.46 174.199 2181.59 174.199 L2178.19 174.199 L2178.19 170.634 L2180.69 170.634 Q2182.45 170.634 2183.42 169.8 Q2184.39 168.967 2185.57 165.865 L2186.34 163.921 L2175.85 138.412 L2180.36 138.412 L2188.46 158.689 L2196.57 138.412 L2201.08 138.412 L2189.69 166.745 Z\" fill=\"#000000\" fill-rule=\"evenodd\" fill-opacity=\"1\" /><path clip-path=\"url(#clip720)\" d=\"M2208.37 160.402 L2216.01 160.402 L2216.01 134.037 L2207.7 135.703 L2207.7 131.444 L2215.96 129.778 L2220.64 129.778 L2220.64 160.402 L2228.28 160.402 L2228.28 164.338 L2208.37 164.338 L2208.37 160.402 Z\" fill=\"#000000\" fill-rule=\"evenodd\" fill-opacity=\"1\" /></svg>\n"
      ]
     },
     "execution_count": 39,
     "metadata": {},
     "output_type": "execute_result"
    }
   ],
   "source": [
    "softplus(x) = log.(1 .+ exp.(x))\n",
    "mish(x) = x .* tanh.(softplus.(x))\n",
    "plot(mish)"
   ]
  },
  {
   "cell_type": "code",
   "execution_count": 40,
   "id": "49ba2eb0-899e-4e4a-b2c2-3374e1a8ea61",
   "metadata": {},
   "outputs": [
    {
     "data": {
      "text/plain": [
       "Chain(\n",
       "  Conv((3, 3), 3 => 16, mish, pad=1),   \u001b[90m# 448 parameters\u001b[39m\n",
       "  MeanPool((2, 2)),\n",
       "  Conv((3, 3), 16 => 32, mish, pad=1),  \u001b[90m# 4_640 parameters\u001b[39m\n",
       "  MeanPool((2, 2)),\n",
       "  Conv((3, 3), 32 => 64, mish, pad=1),  \u001b[90m# 18_496 parameters\u001b[39m\n",
       "  MeanPool((2, 2)),\n",
       "  Conv((3, 3), 64 => 128, mish, pad=1),  \u001b[90m# 73_856 parameters\u001b[39m\n",
       "  MeanPool((2, 2)),\n",
       "  Flux.flatten,\n",
       "  Dense(768 => 64),                     \u001b[90m# 49_216 parameters\u001b[39m\n",
       "  Dense(64 => 7),                       \u001b[90m# 455 parameters\u001b[39m\n",
       ") \u001b[90m                  # Total: 12 arrays, \u001b[39m147_111 parameters, 2.875 KiB."
      ]
     },
     "execution_count": 40,
     "metadata": {},
     "output_type": "execute_result"
    }
   ],
   "source": [
    "model = Chain(\n",
    "   # First convolution, operating upon a 28x28 image\n",
    "   Conv((3, 3), 3=>16, pad=(1,1), mish),\n",
    "   MeanPool((2,2)),\n",
    " \n",
    "   # Second convolution, operating upon a 14x14 image\n",
    "   Conv((3, 3), 16=>32, pad=(1,1), mish),\n",
    "   MeanPool((2,2)),\n",
    " \n",
    "   # Third convolution, operating upon a 7x7 image\n",
    "   Conv((3, 3), 32=>64, pad=(1,1), mish),\n",
    "   MeanPool((2,2)),\n",
    "   \n",
    "   Conv((3, 3), 64=>128, pad=(1,1), mish),\n",
    "   MeanPool((2,2)),\n",
    " \n",
    "   # Reshape 3d array into a 2d one using `Flux.flatten`, at this point it should be (3, 3, 32, N)\n",
    "   Flux.flatten,\n",
    "   #Dense(14*14*16, 10)\n",
    "   Dense(768, 64),\n",
    "   Dense(64, 7)\n",
    ") |> gpu"
   ]
  },
  {
   "cell_type": "code",
   "execution_count": 41,
   "id": "49a9b8e5-81ce-407b-8ad9-a7fafc8595cf",
   "metadata": {},
   "outputs": [
    {
     "data": {
      "text/plain": [
       "accuracy (generic function with 1 method)"
      ]
     },
     "execution_count": 41,
     "metadata": {},
     "output_type": "execute_result"
    }
   ],
   "source": [
    "loss(x, y) = Flux.Losses.logitcrossentropy(model(x), y)\n",
    "accuracy(x,y) = sum(y' .== (c.I[1] for c in argmax(model(x), dims=1)))/length(y)"
   ]
  },
  {
   "cell_type": "markdown",
   "id": "4cfa0030-4142-4c92-91cd-26f5fc66685b",
   "metadata": {},
   "source": [
    "# Train Neural Network"
   ]
  },
  {
   "cell_type": "code",
   "execution_count": 42,
   "id": "4d789942-e7f1-4eb8-8872-34adea2c6328",
   "metadata": {},
   "outputs": [
    {
     "data": {
      "text/plain": [
       "1.9872195f0"
      ]
     },
     "execution_count": 42,
     "metadata": {},
     "output_type": "execute_result"
    }
   ],
   "source": [
    "loss(gpu(collect(Xtest)), gpu(Ytest))"
   ]
  },
  {
   "cell_type": "code",
   "execution_count": 43,
   "id": "552342d6-c1ef-42aa-8fc8-d59bc283001e",
   "metadata": {},
   "outputs": [
    {
     "data": {
      "text/plain": [
       "train_batch (generic function with 1 method)"
      ]
     },
     "execution_count": 43,
     "metadata": {},
     "output_type": "execute_result"
    }
   ],
   "source": [
    "function train_batch(x, y, loss, opt, params, epochs; batchsize=128)\n",
    "    gpu_Xtest = collect(Xtest) |> gpu\n",
    "    gpu_Ytest = Ytest |> gpu\n",
    "    gpu_ytest = ytest |> gpu\n",
    "    gpu_train_Xtest = x[:,:,:, 1:128] |> gpu\n",
    "    gpu_train_Ytest = y[:, 1:128] |> gpu\n",
    "    p = Progress(epochs, showspeed=true)\n",
    "    for epoch in 1:epochs\n",
    "        data = MLUtils.eachobs(MLUtils.shuffleobs((x, y)), batchsize=batchsize)\n",
    "        batch_p = Progress(length(data), showspeed=true)\n",
    "        for (i,batch) in enumerate(data)\n",
    "            batch = (gpu(batch[1]), gpu(batch[2]))\n",
    "            Flux.train!(loss, params, [batch], opt)\n",
    "        end\n",
    "        trainloss = loss(gpu_train_Xtest, gpu_train_Ytest)\n",
    "        testaccuracy = accuracy(gpu_Xtest, ytest)\n",
    "        testloss = loss(gpu_Xtest, gpu_Ytest)\n",
    "        ProgressMeter.next!(p; showvalues = [(:testloss, testloss), (:testaccuracy, testaccuracy), (:trainloss, trainloss)])\n",
    "    end\n",
    "end"
   ]
  },
  {
   "cell_type": "code",
   "execution_count": null,
   "id": "f260d57f-418c-44d2-a5d6-59a327276152",
   "metadata": {},
   "outputs": [],
   "source": [
    "train_batch(Xtrain, Ytrain, loss, RAdam(0.0001), Flux.params(model), 20; batchsize=8)"
   ]
  },
  {
   "cell_type": "markdown",
   "id": "dfa20069-eec8-4619-94f7-363428fb789b",
   "metadata": {},
   "source": [
    "### Save or Load the model so we don't have to train every time again"
   ]
  },
  {
   "cell_type": "code",
   "execution_count": 45,
   "id": "3a2bc663-9b7c-40b2-a182-8efa6e66ca5d",
   "metadata": {},
   "outputs": [],
   "source": [
    "model = cpu(model);"
   ]
  },
  {
   "cell_type": "code",
   "execution_count": 26,
   "id": "da6a4d2a-cb34-4f40-8f52-ce1a15fed087",
   "metadata": {},
   "outputs": [],
   "source": [
    "@save \"ham10000_midCNN_acc73.bson\" model"
   ]
  },
  {
   "cell_type": "code",
   "execution_count": 46,
   "id": "3dbb526b-1732-47dc-b55a-f4a646a84b33",
   "metadata": {},
   "outputs": [
    {
     "data": {
      "text/plain": [
       "Chain(\n",
       "  Conv((3, 3), 3 => 16, mish, pad=1),   \u001b[90m# 448 parameters\u001b[39m\n",
       "  MeanPool((2, 2)),\n",
       "  Conv((3, 3), 16 => 32, mish, pad=1),  \u001b[90m# 4_640 parameters\u001b[39m\n",
       "  MeanPool((2, 2)),\n",
       "  Conv((3, 3), 32 => 64, mish, pad=1),  \u001b[90m# 18_496 parameters\u001b[39m\n",
       "  MeanPool((2, 2)),\n",
       "  Conv((3, 3), 64 => 128, mish, pad=1),  \u001b[90m# 73_856 parameters\u001b[39m\n",
       "  MeanPool((2, 2)),\n",
       "  Flux.flatten,\n",
       "  Dense(768 => 64),                     \u001b[90m# 49_216 parameters\u001b[39m\n",
       "  Dense(64 => 7),                       \u001b[90m# 455 parameters\u001b[39m\n",
       ") \u001b[90m                  # Total: 12 arrays, \u001b[39m147_111 parameters, 576.621 KiB."
      ]
     },
     "execution_count": 46,
     "metadata": {},
     "output_type": "execute_result"
    }
   ],
   "source": [
    "@load \"ham10000_midCNN_acc73.bson\" model\n",
    "model"
   ]
  },
  {
   "cell_type": "markdown",
   "id": "cd3092df-5ab1-4a06-8da3-f1a5c041a6a6",
   "metadata": {},
   "source": [
    "# Define Record Type for Formula Extraction"
   ]
  },
  {
   "cell_type": "markdown",
   "id": "eb94d010-5f94-40fe-b2ad-a153ac74c03b",
   "metadata": {},
   "source": [
    "We now define a data type that we will send through the network instead of a floating point number. The new data type wraps another data type (e.g. a float) but also records everything that happens to it and generates a formula for the value that it wraps while it is manipulated.\n",
    "\n",
    "We can then send a matrix of instances of this data type through the network and the output values will not only be the correct neuron outputs, but also a formula of how we got to this result"
   ]
  },
  {
   "cell_type": "code",
   "execution_count": 47,
   "id": "9aa83f39-f3c1-4537-89d4-421008079803",
   "metadata": {},
   "outputs": [
    {
     "data": {
      "text/plain": [
       "joinrecurse"
      ]
     },
     "execution_count": 47,
     "metadata": {},
     "output_type": "execute_result"
    }
   ],
   "source": [
    "\"\"\"\n",
    "Recursively joins strings and Arrays of String\n",
    "\"\"\"\n",
    "function joinrecurse(a)\n",
    "    if typeof(a) <: AbstractString\n",
    "        return a\n",
    "    end\n",
    "    return join([joinrecurse(i) for i in a])\n",
    "end"
   ]
  },
  {
   "cell_type": "code",
   "execution_count": 48,
   "id": "ed404ec9-33dd-48a0-84e4-0083ddfa9b23",
   "metadata": {},
   "outputs": [],
   "source": [
    "struct RecordFormula{T<:Real} <: Number\n",
    "    val::T\n",
    "    formula::Vector{Any}\n",
    "end\n",
    "\n",
    "RecordFormula(v::T, f::S) where{T<:Real, S} = RecordFormula{T}(v, f)\n",
    "RecordFormula{S}(v::T) where {S, T<:Real} = RecordFormula{S}(S(v), [string(v)])\n",
    "RecordFormula(v::T) where {T<:Real} = RecordFormula{T}(v, [string(v)])\n",
    "RecordFormula(v::Bool) = RecordFormula{Int}(Int(v))\n",
    "val(r::RecordFormula) = r.val\n",
    "formula(r::RecordFormula) = joinrecurse(r.formula)\n",
    "Base.Pair(r::RecordFormula) = Pair(formula(r)=>val(r))\n",
    "\n",
    "Base.similar(a::Array{T}, m::Int) where {T<:RecordFormula} = zeros(T, m)\n",
    "Base.similar(a::AbstractArray{T}, dims::Base.DimOrInd...) where {T<:RecordFormula} = zeros(T, Base.to_shape(dims))\n",
    "Base.similar(a::Array{T}, dims::Dims{N}) where {T<:RecordFormula,N} = zeros(T, dims)\n",
    "Base.similar(a::AbstractArray, ::Type{T}, dims::Base.DimOrInd...) where {T<:RecordFormula} = zeros(T, Base.to_shape(dims))\n",
    "\n",
    "Base.typemin(t::Type{RecordFormula{T}}) where {T} = typemin(T)\n",
    "Base.typemin(x::RecordFormula{T}) where {T} = typemin(T)\n",
    "\n",
    "recordtostring(r::RecordFormula) = formula(r)*\";\"*@sprintf(\"%.20g\", val(r))\n",
    "\n",
    "Base.convert(::Type{RecordFormula{T}}, v::T) where {T} = RecordFormula{T}(v, [string(v)])\n",
    "Base.convert(::Type{RecordFormula{S}}, v::RecordFormula{T}) where {S, T} = RecordFormula{S}(S(val(v)), v.formula)\n",
    "Base.convert(::Type{RecordFormula{T}}, x::Number) where {T} = RecordFormula(x)\n",
    "Base.promote_rule(::Type, ::Type{RecordFormula{T}}) where {T} = RecordFormula{T}\n",
    "Base.promote_rule(::Type{RecordFormula{S}}, ::Type{RecordFormula{T}}) where {S,T} = RecordFormula{promote_type(S,T)}\n",
    "Base.promote_rule(::Type{Bool}, ::Type{RecordFormula{T}}) where {T} = RecordFormula{T}\n",
    "\n",
    "Base.:(==)(a::RecordFormula, b::RecordFormula) = val(a) == val(b)"
   ]
  },
  {
   "cell_type": "code",
   "execution_count": 49,
   "id": "d2063b9d-7a7e-4cfc-b84d-7b103e8d20c4",
   "metadata": {},
   "outputs": [],
   "source": [
    "for op in [:*, :+, :-, :/]\n",
    "    @eval begin\n",
    "        function Base.$op(a::RecordFormula, b::RecordFormula)\n",
    "            str = [\"(\", a.formula, string($op), b.formula, \")\"]\n",
    "            newval = $op(a.val, b.val)\n",
    "            \n",
    "            return RecordFormula(newval, str)\n",
    "        end\n",
    "    end\n",
    "end\n",
    "\n",
    "for op in [:sin, :cos, :tan, :tanh, :log, :exp, :-, :abs]\n",
    "    @eval begin\n",
    "        function Base.$op(a::RecordFormula)\n",
    "            str = [string($op), \"(\", a.formula, \")\"]\n",
    "            newval = $op(a.val)\n",
    "            \n",
    "            return RecordFormula(newval, str)\n",
    "        end\n",
    "    end\n",
    "end"
   ]
  },
  {
   "cell_type": "code",
   "execution_count": 51,
   "id": "226c06ec-04f8-4c68-9e4d-21a10c184edf",
   "metadata": {},
   "outputs": [],
   "source": [
    "function Base.max(a::RecordFormula, b::RecordFormula)\n",
    "    v = max(val(a), val(b))\n",
    "    return RecordFormula(v, [\"(\",formula(a),\" max \", formula(b),\")\"])\n",
    "end\n",
    "\n",
    "Base.max(a::Real, b::RecordFormula) = max(RecordFormula(a), b)"
   ]
  },
  {
   "cell_type": "code",
   "execution_count": 52,
   "id": "93d2571c-fd0c-453c-9b3c-05e64820c5ba",
   "metadata": {},
   "outputs": [
    {
     "data": {
      "text/plain": [
       "recordify (generic function with 1 method)"
      ]
     },
     "execution_count": 52,
     "metadata": {},
     "output_type": "execute_result"
    }
   ],
   "source": [
    "function recordify(a::Array{T, 1}, name::String) where T\n",
    "    res = Array{RecordFormula, 1}(size(a))\n",
    "    for r in 1:size(a, 1)\n",
    "        res[r] = RecordFormula(a[r], [\"$(name)_$(r)_\"])\n",
    "    end\n",
    "    return res\n",
    "end"
   ]
  },
  {
   "cell_type": "code",
   "execution_count": 53,
   "id": "fd57dddb-6adb-419c-a4aa-12d58da89400",
   "metadata": {},
   "outputs": [
    {
     "data": {
      "text/plain": [
       "recordify (generic function with 2 methods)"
      ]
     },
     "execution_count": 53,
     "metadata": {},
     "output_type": "execute_result"
    }
   ],
   "source": [
    "function recordify(a::Array{T, 2}, name::String) where T\n",
    "    res = Array{RecordFormula, 2}(size(a))\n",
    "    for c in 1:size(a, 2)\n",
    "        for r in 1:size(a, 1)\n",
    "            res[r,c] = RecordFormula(a[r,c], [\"$(name)_$(r)_$(c)_\"])\n",
    "        end\n",
    "    end\n",
    "    return res\n",
    "end"
   ]
  },
  {
   "cell_type": "code",
   "execution_count": 54,
   "id": "9caf9b81-c5f4-46fa-8f82-01de5834eaac",
   "metadata": {},
   "outputs": [
    {
     "data": {
      "text/plain": [
       "recordify (generic function with 3 methods)"
      ]
     },
     "execution_count": 54,
     "metadata": {},
     "output_type": "execute_result"
    }
   ],
   "source": [
    "function recordify(a::Array{T, 3}, name::String) where T\n",
    "    res = Array{RecordFormula, 3}(size(a))\n",
    "    for k in 1:size(a, 3), j in 1:size(a, 2), i in 1:size(a, 1)\n",
    "        res[i,j,k] = RecordFormula(a[i,j,k], [\"$(name)_$(i)_$(j)_$(k)_\"])\n",
    "    end\n",
    "    return res\n",
    "end"
   ]
  },
  {
   "cell_type": "code",
   "execution_count": 55,
   "id": "6c8ae992-0f0b-47a1-88a0-612fd0e22182",
   "metadata": {},
   "outputs": [
    {
     "data": {
      "text/plain": [
       "recordify (generic function with 4 methods)"
      ]
     },
     "execution_count": 55,
     "metadata": {},
     "output_type": "execute_result"
    }
   ],
   "source": [
    "function recordify(a::Array{T, 4}, name::String) where T\n",
    "    res = Array{RecordFormula, 4}(size(a))\n",
    "    for l in 1:size(a, 4), k in 1:size(a, 3), j in 1:size(a, 2), i in 1:size(a, 1)\n",
    "        res[i,j,k,l] = RecordFormula(a[i,j,k,l], [\"$(name)_$(i)_$(j)_$(k)_$(l)_\"])\n",
    "    end\n",
    "    return res\n",
    "end"
   ]
  },
  {
   "cell_type": "markdown",
   "id": "25a2c488-ce27-4e7a-9cba-dede87b2b058",
   "metadata": {},
   "source": [
    "# Extract Formulas"
   ]
  },
  {
   "cell_type": "code",
   "execution_count": 56,
   "id": "72705125-83db-436e-97a5-d209c15debcf",
   "metadata": {},
   "outputs": [
    {
     "data": {
      "text/plain": [
       "generate_layer_formula"
      ]
     },
     "execution_count": 56,
     "metadata": {},
     "output_type": "execute_result"
    }
   ],
   "source": [
    "\"\"\"Given the output of a layer, returns formulas for all the outputs and a new array where the formulas are replaced by intermediate variabels\"\"\"\n",
    "function generate_layer_formula(layer_out, layer_prefix)\n",
    "    res = copy(layer_out)\n",
    "    v = @view res[:]\n",
    "    formulas = []\n",
    "    for i in 1:length(v)\n",
    "        var_name = \"$(layer_prefix)_$i\"\n",
    "        f = formula(v[i])\n",
    "        push!(formulas, \"$var_name=$f\")\n",
    "        v[i] = RecordFormula(val(v[i]), [\"$(layer_prefix)_$i\"])\n",
    "    end\n",
    "        \n",
    "    return formulas, res\n",
    "end"
   ]
  },
  {
   "cell_type": "code",
   "execution_count": 57,
   "id": "d17456ed-cef1-4f64-9d1c-fcb133e81ea2",
   "metadata": {},
   "outputs": [
    {
     "data": {
      "text/plain": [
       "generate_input"
      ]
     },
     "execution_count": 57,
     "metadata": {},
     "output_type": "execute_result"
    }
   ],
   "source": [
    "\"\"\"Given an input image, creates an input with input variable placeholders to create formulas\"\"\"\n",
    "function generate_input(img)\n",
    "    o = map(x->RecordFormula(x[2], [\"in_$(x[1])\"]), enumerate(img))\n",
    "    return o\n",
    "end"
   ]
  },
  {
   "cell_type": "code",
   "execution_count": 58,
   "id": "3f402fcb-2950-499d-bd7e-df32902ecf2e",
   "metadata": {},
   "outputs": [
    {
     "data": {
      "text/plain": [
       "get_ranges_from_breaks (generic function with 1 method)"
      ]
     },
     "execution_count": 58,
     "metadata": {},
     "output_type": "execute_result"
    }
   ],
   "source": [
    "function get_ranges_from_breaks(breaks::Vector{Int})\n",
    "    ranges = [1:breaks[1]]\n",
    "    for i in 2:length(breaks)\n",
    "        push!(ranges, breaks[i-1]+1:breaks[i])\n",
    "    end\n",
    "    return ranges\n",
    "end"
   ]
  },
  {
   "cell_type": "code",
   "execution_count": 59,
   "id": "cd59ffd5-6f1b-4399-8836-7d66db94f706",
   "metadata": {},
   "outputs": [
    {
     "data": {
      "text/plain": [
       "formalize_model (generic function with 2 methods)"
      ]
     },
     "execution_count": 59,
     "metadata": {},
     "output_type": "execute_result"
    }
   ],
   "source": [
    "\"\"\"Given a model and an input, returns all formulas for all the layers of it\"\"\"\n",
    "function formalize_model(model, input, layerbreaks::Vector{Int})\n",
    "    all_formulas = []\n",
    "    max_layers = length(model)\n",
    "    ranges = get_ranges_from_breaks(layerbreaks)\n",
    "    @showprogress for (i, range) in enumerate(ranges)\n",
    "        modelpart = model[range]\n",
    "        model_out = modelpart(input)\n",
    "        layer_output_name = i == length(ranges) ? \"out\" : \"l$i\" \n",
    "        formulas, input = generate_layer_formula(model_out, layer_output_name)\n",
    "        push!(all_formulas, formulas)\n",
    "    end\n",
    "    return all_formulas\n",
    "end\n",
    "\n",
    "formalize_model(model, input) = formalize_model(model, input, collect(1:length(model)))"
   ]
  },
  {
   "cell_type": "code",
   "execution_count": 60,
   "id": "84e2038d-0faa-44d1-8ebd-0e856dc762c4",
   "metadata": {},
   "outputs": [
    {
     "data": {
      "text/plain": [
       "convert_image"
      ]
     },
     "execution_count": 60,
     "metadata": {},
     "output_type": "execute_result"
    }
   ],
   "source": [
    "\"\"\"Given an image, converts it to input assignments for the formulas and expected outputs\"\"\"\n",
    "function convert_image(img, model)\n",
    "    input = [\"in_$i=$val\" for (i, val) in enumerate(vec(img[:,:,:,:]))]\n",
    "    model_output = model(img)\n",
    "    output = [\"out_$i=$val\" for (i, val) in enumerate(vec(model_output))]\n",
    "    return input, output\n",
    "end"
   ]
  },
  {
   "cell_type": "code",
   "execution_count": 61,
   "id": "1036e345-5777-47a2-8493-3914e6d2ad03",
   "metadata": {},
   "outputs": [
    {
     "data": {
      "text/plain": [
       "Chain(\n",
       "  Conv((3, 3), 3 => 16, mish, pad=1),   \u001b[90m# 448 parameters\u001b[39m\n",
       "  MeanPool((2, 2)),\n",
       "  Conv((3, 3), 16 => 32, mish, pad=1),  \u001b[90m# 4_640 parameters\u001b[39m\n",
       "  MeanPool((2, 2)),\n",
       "  Conv((3, 3), 32 => 64, mish, pad=1),  \u001b[90m# 18_496 parameters\u001b[39m\n",
       "  MeanPool((2, 2)),\n",
       "  Conv((3, 3), 64 => 128, mish, pad=1),  \u001b[90m# 73_856 parameters\u001b[39m\n",
       "  MeanPool((2, 2)),\n",
       "  Flux.flatten,\n",
       "  Dense(768 => 64),                     \u001b[90m# 49_216 parameters\u001b[39m\n",
       "  Dense(64 => 7),                       \u001b[90m# 455 parameters\u001b[39m\n",
       ") \u001b[90m                  # Total: 12 arrays, \u001b[39m147_111 parameters, 576.621 KiB."
      ]
     },
     "execution_count": 61,
     "metadata": {},
     "output_type": "execute_result"
    }
   ],
   "source": [
    "model"
   ]
  },
  {
   "cell_type": "code",
   "execution_count": 62,
   "id": "99e71fb7-c398-4f19-ae2c-27976758cf44",
   "metadata": {},
   "outputs": [
    {
     "name": "stderr",
     "output_type": "stream",
     "text": [
      "\u001b[32mProgress: 100%|█████████████████████████████████████████| Time: 0:01:40\u001b[39m\n"
     ]
    }
   ],
   "source": [
    "# Generate formulas for the network using an arbitrary image as a dummy for input conversion. This can take some time (multiple minutes) \n",
    "# depending on the used computer\n",
    "model = cpu(model)\n",
    "# The last argument of the next call (list of integers) defines at which layer a formula should be generated and replaced by an intermediary variable\n",
    "all_formulas = formalize_model(model, generate_input(Xtrain[:,:,:,1:1]), [2, 4, 6, 8, 11]);"
   ]
  },
  {
   "cell_type": "markdown",
   "id": "ecbb8230-b89d-4820-b242-af705b3f76de",
   "metadata": {},
   "source": [
    "### Some code to test the correctness of the generated formulas"
   ]
  },
  {
   "cell_type": "code",
   "execution_count": 65,
   "id": "b01bb012-16a5-4bef-a5ee-74b6ea62cc5b",
   "metadata": {},
   "outputs": [
    {
     "data": {
      "text/plain": [
       "quick_eval_formulas"
      ]
     },
     "execution_count": 65,
     "metadata": {},
     "output_type": "execute_result"
    }
   ],
   "source": [
    "\"\"\"Given one formula and variable assignments, returns assignment for the output variable of the formula\"\"\"\n",
    "function quick_eval_formula(formula)\n",
    "    variable, formula = split(formula, \"=\")\n",
    "    res = eval(Meta.parse(String(formula)))\n",
    "    return \"$variable=$res\"\n",
    "end\n",
    "\n",
    "function eval_variables(variables)\n",
    "    for v in variables\n",
    "        eval(Meta.parse(v))\n",
    "    end\n",
    "end\n",
    "\n",
    "\"\"\"Given one formula and variable assignments, returns assignment for the output variable of the formula\"\"\"\n",
    "function quick_eval_formula(formula, input)\n",
    "    eval_variables(input)\n",
    "    quick_eval_formula(formula)\n",
    "end\n",
    "\n",
    "\"\"\"Evaluates all results from formulas generated from a neural network\"\"\"\n",
    "function quick_eval_formulas(all_formulas, input)\n",
    "    results = []\n",
    "    @showprogress 1 \"Evaluating Layer\" for layer in all_formulas\n",
    "        eval_variables(input)\n",
    "        new_inpt = []\n",
    "        @showprogress 1 \"Evaluationg Formula\" for formula in layer\n",
    "            out = quick_eval_formula(formula)\n",
    "            push!(new_inpt, out)\n",
    "        end\n",
    "        push!(results, new_inpt)\n",
    "        input=new_inpt\n",
    "    end\n",
    "    return results\n",
    "end"
   ]
  },
  {
   "cell_type": "code",
   "execution_count": 66,
   "id": "980bb026-9101-4971-9e19-fd6bc2c529c1",
   "metadata": {},
   "outputs": [
    {
     "data": {
      "text/plain": [
       "([\"in_1=0.78039217\", \"in_2=0.78431374\", \"in_3=0.78431374\", \"in_4=0.79607844\", \"in_5=0.80784315\", \"in_6=0.7921569\", \"in_7=0.8156863\", \"in_8=0.827451\", \"in_9=0.83137256\", \"in_10=0.81960785\"  …  \"in_8091=0.8235294\", \"in_8092=0.81960785\", \"in_8093=0.8392157\", \"in_8094=0.8509804\", \"in_8095=0.80784315\", \"in_8096=0.8\", \"in_8097=0.8235294\", \"in_8098=0.827451\", \"in_8099=0.8352941\", \"in_8100=0.84313726\"], [\"out_1=-0.58893865\", \"out_2=20.007702\", \"out_3=-17.589315\", \"out_4=-9.029855\", \"out_5=-0.49784443\", \"out_6=-1.5946568\", \"out_7=-4.934406\"])"
      ]
     },
     "execution_count": 66,
     "metadata": {},
     "output_type": "execute_result"
    }
   ],
   "source": [
    "i, o = convert_image(Xtrain[:,:,:,1:1], model)"
   ]
  },
  {
   "cell_type": "code",
   "execution_count": 67,
   "id": "4ee91eb5-357a-43f7-b3f3-c661fb32bb6a",
   "metadata": {},
   "outputs": [
    {
     "name": "stderr",
     "output_type": "stream",
     "text": [
      "\u001b[32mEvaluationg Formula 100%|████████████████████████████████| Time: 0:02:14\u001b[39m\n",
      "\u001b[32mEvaluationg Formula 100%|████████████████████████████████| Time: 0:05:10\u001b[39m\n",
      "\u001b[32mEvaluationg Formula 100%|████████████████████████████████| Time: 0:04:24\u001b[39m\n",
      "\u001b[32mEvaluationg Formula 100%|████████████████████████████████| Time: 0:02:45\u001b[39m\n",
      "\u001b[32mEvaluationg Formula 100%|████████████████████████████████| Time: 0:00:18\u001b[39m\n",
      "\u001b[32mEvaluating Layer 100%|███████████████████████████████████| Time: 0:14:56\u001b[39m\n"
     ]
    },
    {
     "name": "stdout",
     "output_type": "stream",
     "text": [
      "Difference formulas/direct model output: 1.3113022e-6\n",
      "Difference formulas/direct model output: 5.722046e-6\n",
      "Difference formulas/direct model output: -5.722046e-6\n",
      "Difference formulas/direct model output: -4.7683716e-6\n",
      "Difference formulas/direct model output: -1.0430813e-6\n",
      "Difference formulas/direct model output: -7.867813e-6\n",
      "Difference formulas/direct model output: -2.3841858e-6\n"
     ]
    }
   ],
   "source": [
    "results = quick_eval_formulas(all_formulas, i)\n",
    "for (res, expected) in zip(results[end], o)\n",
    "    res = parse(Float32, split(res, \"=\")[end])\n",
    "    expected = parse(Float32, split(expected, \"=\")[end])\n",
    "    println(\"Difference formulas/direct model output: $(res-expected)\")\n",
    "end"
   ]
  },
  {
   "cell_type": "markdown",
   "id": "b8479a9f-4f69-44a6-8ee4-806086842a29",
   "metadata": {},
   "source": [
    "### Generate the needed output files for the network"
   ]
  },
  {
   "cell_type": "code",
   "execution_count": 32,
   "id": "b2d9fbfa-54d7-44ef-bb1f-6fa760111abb",
   "metadata": {},
   "outputs": [
    {
     "data": {
      "text/plain": [
       "write_formulas"
      ]
     },
     "execution_count": 32,
     "metadata": {},
     "output_type": "execute_result"
    }
   ],
   "source": [
    "\"\"\"\n",
    "Deine Funktionen müssten dann jede in einer separaten Datei sein (anstatt in einer grossen).\n",
    "In der Datei dann nur die Funktion, d.h. nicht \" l1_1=\". Der Titel der Textdatei der \n",
    "Funktion müsste dann mit \"l1_1.txt\", \"l1_10.txt\", \" l1_11.txt\" usw. benannt werden bis dann \n",
    "\"out_1.txt\", \" out_2.txt\" usw.\n",
    "\"\"\"\n",
    "function write_formulas(all_formulas, base_dir)\n",
    "    formulas = Base.Iterators.flatten(all_formulas)|>collect\n",
    "    for (varname, formula) in split.(formulas, \"=\")\n",
    "        open(joinpath(base_dir, varname*\".txt\"), \"w\") do io\n",
    "            println(io, formula)\n",
    "        end\n",
    "    end\n",
    "end"
   ]
  },
  {
   "cell_type": "code",
   "execution_count": 33,
   "id": "baf764b5-974e-4950-a775-36602fd34c6b",
   "metadata": {},
   "outputs": [
    {
     "data": {
      "text/plain": [
       "write_input_variable_names (generic function with 1 method)"
      ]
     },
     "execution_count": 33,
     "metadata": {},
     "output_type": "execute_result"
    }
   ],
   "source": [
    "\"\"\"\n",
    "Alle Variablen, die in den Funktionen verwendet werden (Deine \"in_1 .. in_784\"),\n",
    "müssten in eine Datei, s. \"paceval_CNN_variablesString.txt\" durch Leerzeichen getrennt.\n",
    "\"\"\"\n",
    "get_input_variable_names(example_input_formulas) = first.(split.(example_input_formulas, \"=\"))\n",
    "\n",
    "function write_input_variable_names(example_input_formulas, filename)\n",
    "    open(filename, \"w\") do io\n",
    "        variable_names = get_input_variable_names(example_input_formulas)\n",
    "        println(io, join(variable_names, \" \"))\n",
    "    end\n",
    "end"
   ]
  },
  {
   "cell_type": "code",
   "execution_count": 34,
   "id": "4a6b0565-2d27-43a9-954e-2f3072a2dd87",
   "metadata": {},
   "outputs": [
    {
     "data": {
      "text/plain": [
       "write_layer_variable_names (generic function with 1 method)"
      ]
     },
     "execution_count": 34,
     "metadata": {},
     "output_type": "execute_result"
    }
   ],
   "source": [
    "\"\"\"\n",
    "Alle Layer, die es gibt (Deine \"l1_1 .. l2_16\") müssten ebenfalls in eine Datei\n",
    "durch Leerzeichen getrennt, und zwar in der Reihenfolge, wie Sie abgearbeitet werden.\n",
    "Wenn Layer parallelisiert, werden können dann fasse diese in einer Zeile zusammen\n",
    "\"\"\"\n",
    "function get_layer_variable_names(all_formulas)\n",
    "    result_layers = []\n",
    "    for layer in all_formulas\n",
    "        layer_variable_names = join(first.(split.(layer, \"=\")), \" \")\n",
    "        push!(result_layers, layer_variable_names)\n",
    "    end\n",
    "    result_layers\n",
    "end\n",
    "\n",
    "function write_layer_variable_names(all_formulas, filename)\n",
    "    open(filename, \"w\") do io\n",
    "        layer_variable_names = get_layer_variable_names(all_formulas)\n",
    "        for layer in layer_variable_names\n",
    "            println(io, layer)\n",
    "        end\n",
    "    end\n",
    "end"
   ]
  },
  {
   "cell_type": "code",
   "execution_count": 35,
   "id": "ce53c954-121c-4bec-a5e1-30894ea22863",
   "metadata": {},
   "outputs": [],
   "source": [
    "write_formulas(all_formulas, \"results/formulas\")\n",
    "write_input_variable_names(i, \"results/paceval_variablesString.txt\")\n",
    "write_layer_variable_names(all_formulas, \"results/paceval_layerVariableNames.txt\")"
   ]
  },
  {
   "cell_type": "markdown",
   "id": "19d0878e-3944-4f92-bb52-5513bc8023a9",
   "metadata": {},
   "source": [
    "### Generate Sample Files"
   ]
  },
  {
   "cell_type": "code",
   "execution_count": 36,
   "id": "e6653939-b2bc-4b35-b43c-2a5fe60a8fbd",
   "metadata": {},
   "outputs": [
    {
     "data": {
      "text/plain": [
       "write_image (generic function with 1 method)"
      ]
     },
     "execution_count": 36,
     "metadata": {},
     "output_type": "execute_result"
    }
   ],
   "source": [
    "\"\"\"\n",
    "Deine .sample Dateien müssten nur ; \n",
    "getrennte Werte sein, s. \"image01ValuesAsText.txt\". \n",
    "Jede neue Pixelreihe wäre eine neue Zeile\n",
    "\"\"\"\n",
    "partition(v, partition_size) = reshape(v, (partition_size, :))\n",
    "get_vals(v) = last.(split.(v,\"=\"))\n",
    "\n",
    "function write_image(img, model, base_filename)\n",
    "    input, output = convert_image(img, model)\n",
    "    input, output = get_vals(input), get_vals(output)\n",
    "    \n",
    "    width = size(img, 1)\n",
    "    input = partition(input, width*3) # * 3 because we have RGB\n",
    "    \n",
    "    open(base_filename*\".sample\", \"w\") do io\n",
    "        for i in 1:size(input,2)\n",
    "            println(io, join(input[:, i], \";\"))\n",
    "        end\n",
    "    end\n",
    "    \n",
    "    open(base_filename*\".expected_output\", \"w\") do io\n",
    "        println(io, join(output, \";\"))\n",
    "    end\n",
    "    \n",
    "    save(base_filename*\".png\", colorview(RGB, StackedView(img[:,:,1,1], img[:,:,2,1], img[:,:,3,1])))\n",
    "end"
   ]
  },
  {
   "cell_type": "code",
   "execution_count": 37,
   "id": "13372e53-a34a-46b2-9de1-fcebd4008106",
   "metadata": {},
   "outputs": [
    {
     "data": {
      "text/plain": [
       "get_correctly_predicted_samples"
      ]
     },
     "execution_count": 37,
     "metadata": {},
     "output_type": "execute_result"
    }
   ],
   "source": [
    "\"\"\"Given the test dataset and a model, collects samples for each class that are correctly predicted by the network\"\"\"\n",
    "function get_correctly_predicted_samples(X, Y, model, n)\n",
    "    correct = vec([c.I[1] for c in argmax(model(X), dims=1)]) .== Y\n",
    "    correct_X = X[:,:,:,correct]\n",
    "    correct_Y = Y[correct]\n",
    "    \n",
    "    allcls = unique(correct_Y)\n",
    "    samples = Dict(i => [] for i in allcls)\n",
    "    \n",
    "    isfull(d) = all(length.(values(d)) .== n)\n",
    "    \n",
    "    for (i, cls) in enumerate(correct_Y)\n",
    "        isfull(samples) && break\n",
    "        length(samples[cls]) == n && continue\n",
    "        push!(samples[cls], correct_X[:,:,:,i:i])\n",
    "    end\n",
    "    \n",
    "    return samples\n",
    "end"
   ]
  },
  {
   "cell_type": "code",
   "execution_count": 42,
   "id": "b2b8e01e-5bce-4b3d-a501-7297562120fd",
   "metadata": {},
   "outputs": [
    {
     "data": {
      "text/plain": [
       "Dict{Int64, Vector{Any}} with 7 entries:\n",
       "  5 => [[0.8 0.788235 … 0.803922 0.803922; 0.784314 0.772549 … 0.807843 0.81176…\n",
       "  4 => [[0.635294 0.643137 … 0.643137 0.639216; 0.639216 0.635294 … 0.65098 0.6…\n",
       "  6 => [[0.752941 0.784314 … 0.611765 0.619608; 0.760784 0.784314 … 0.596078 0.…\n",
       "  7 => [[0.745098 0.756863 … 0.270588 0.6; 0.756863 0.760784 … 0.643137 0.57647…\n",
       "  2 => [[0.909804 0.913725 … 0.87451 0.835294; 0.909804 0.913725 … 0.541176 0.8…\n",
       "  3 => [[0.803922 0.807843 … 0.807843 0.807843; 0.811765 0.807843 … 0.807843 0.…\n",
       "  1 => [[0.482353 0.462745 … 0.564706 0.537255; 0.501961 0.517647 … 0.533333 0.…"
      ]
     },
     "execution_count": 42,
     "metadata": {},
     "output_type": "execute_result"
    }
   ],
   "source": [
    "samples = get_correctly_predicted_samples(Xtest, ytest, model, 3)"
   ]
  },
  {
   "cell_type": "code",
   "execution_count": 43,
   "id": "40d30ab7-34c3-4206-8bd0-90ba85e4043c",
   "metadata": {},
   "outputs": [
    {
     "data": {
      "text/html": [
       "<table><tbody><tr><td style='text-align:center;vertical-align:middle; margin: 0.5em;border:1px #90999f solid;border-collapse:collapse'><img style='max-width: 100px; max-height:100px;display:inline' src=\"data:image/png;base64,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\"></td><td style='text-align:center;vertical-align:middle; margin: 0.5em;border:1px #90999f solid;border-collapse:collapse'><img style='max-width: 100px; max-height:100px;display:inline' src=\"data:image/png;base64,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\"></td><td style='text-align:center;vertical-align:middle; margin: 0.5em;border:1px #90999f solid;border-collapse:collapse'><img style='max-width: 100px; max-height:100px;display:inline' src=\"data:image/png;base64,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\"></td><td style='text-align:center;vertical-align:middle; margin: 0.5em;border:1px #90999f solid;border-collapse:collapse'><img style='max-width: 100px; max-height:100px;display:inline' src=\"data:image/png;base64,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\"></td><td style='text-align:center;vertical-align:middle; margin: 0.5em;border:1px #90999f solid;border-collapse:collapse'><img style='max-width: 100px; max-height:100px;display:inline' src=\"data:image/png;base64,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\"></td><td style='text-align:center;vertical-align:middle; margin: 0.5em;border:1px #90999f solid;border-collapse:collapse'><img style='max-width: 100px; max-height:100px;display:inline' src=\"data:image/png;base64,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\"></td><td style='text-align:center;vertical-align:middle; margin: 0.5em;border:1px #90999f solid;border-collapse:collapse'><img style='max-width: 100px; max-height:100px;display:inline' src=\"data:image/png;base64,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\"></td></tr><tr><td style='text-align:center;vertical-align:middle; margin: 0.5em;border:1px #90999f solid;border-collapse:collapse'><img style='max-width: 100px; max-height:100px;display:inline' src=\"data:image/png;base64,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\"></td><td style='text-align:center;vertical-align:middle; margin: 0.5em;border:1px #90999f solid;border-collapse:collapse'><img style='max-width: 100px; max-height:100px;display:inline' src=\"data:image/png;base64,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\"></td><td style='text-align:center;vertical-align:middle; margin: 0.5em;border:1px #90999f solid;border-collapse:collapse'><img style='max-width: 100px; max-height:100px;display:inline' src=\"data:image/png;base64,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\"></td><td style='text-align:center;vertical-align:middle; margin: 0.5em;border:1px #90999f solid;border-collapse:collapse'><img style='max-width: 100px; max-height:100px;display:inline' src=\"data:image/png;base64,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\"></td><td style='text-align:center;vertical-align:middle; margin: 0.5em;border:1px #90999f solid;border-collapse:collapse'><img style='max-width: 100px; max-height:100px;display:inline' src=\"data:image/png;base64,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\"></td><td style='text-align:center;vertical-align:middle; margin: 0.5em;border:1px #90999f solid;border-collapse:collapse'><img style='max-width: 100px; max-height:100px;display:inline' src=\"data:image/png;base64,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\"></td><td style='text-align:center;vertical-align:middle; margin: 0.5em;border:1px #90999f solid;border-collapse:collapse'><img style='max-width: 100px; max-height:100px;display:inline' src=\"data:image/png;base64,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\"></td></tr><tr><td style='text-align:center;vertical-align:middle; margin: 0.5em;border:1px #90999f solid;border-collapse:collapse'><img style='max-width: 100px; max-height:100px;display:inline' src=\"data:image/png;base64,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\"></td><td style='text-align:center;vertical-align:middle; margin: 0.5em;border:1px #90999f solid;border-collapse:collapse'><img style='max-width: 100px; max-height:100px;display:inline' src=\"data:image/png;base64,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\"></td><td style='text-align:center;vertical-align:middle; margin: 0.5em;border:1px #90999f solid;border-collapse:collapse'><img style='max-width: 100px; max-height:100px;display:inline' src=\"data:image/png;base64,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\"></td><td style='text-align:center;vertical-align:middle; margin: 0.5em;border:1px #90999f solid;border-collapse:collapse'><img style='max-width: 100px; max-height:100px;display:inline' src=\"data:image/png;base64,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\"></td><td style='text-align:center;vertical-align:middle; margin: 0.5em;border:1px #90999f solid;border-collapse:collapse'><img style='max-width: 100px; max-height:100px;display:inline' src=\"data:image/png;base64,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\"></td><td style='text-align:center;vertical-align:middle; margin: 0.5em;border:1px #90999f solid;border-collapse:collapse'><img style='max-width: 100px; max-height:100px;display:inline' src=\"data:image/png;base64,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\"></td><td style='text-align:center;vertical-align:middle; margin: 0.5em;border:1px #90999f solid;border-collapse:collapse'><img style='max-width: 100px; max-height:100px;display:inline' src=\"data:image/png;base64,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\"></td></tr></tbody></table>"
      ],
      "text/plain": [
       "3×7 Matrix{Base.ReinterpretArray{RGB{Float32}, 2, Float32, StackedView{Float32, 3, Tuple{Matrix{Float32}, Matrix{Float32}, Matrix{Float32}}}, true}}:\n",
       " [RGB{Float32}(0.482353,0.376471,0.411765) RGB{Float32}(0.462745,0.329412,0.364706) … RGB{Float32}(0.564706,0.47451,0.52549) RGB{Float32}(0.537255,0.454902,0.490196); RGB{Float32}(0.501961,0.411765,0.454902) RGB{Float32}(0.517647,0.423529,0.462745) … RGB{Float32}(0.533333,0.427451,0.470588) RGB{Float32}(0.52549,0.415686,0.447059); … ; RGB{Float32}(0.501961,0.396078,0.454902) RGB{Float32}(0.541176,0.439216,0.494118) … RGB{Float32}(0.545098,0.466667,0.505882) RGB{Float32}(0.52549,0.447059,0.490196); RGB{Float32}(0.52549,0.431373,0.494118) RGB{Float32}(0.501961,0.415686,0.462745) … RGB{Float32}(0.545098,0.466667,0.501961) RGB{Float32}(0.52549,0.447059,0.482353)]     …  [RGB{Float32}(0.745098,0.572549,0.643137) RGB{Float32}(0.756863,0.607843,0.607843) … RGB{Float32}(0.270588,0.196078,0.290196) RGB{Float32}(0.6,0.384314,0.407843); RGB{Float32}(0.756863,0.596078,0.596078) RGB{Float32}(0.760784,0.615686,0.647059) … RGB{Float32}(0.643137,0.439216,0.482353) RGB{Float32}(0.576471,0.258824,0.333333); … ; RGB{Float32}(0.764706,0.643137,0.658824) RGB{Float32}(0.772549,0.65098,0.670588) … RGB{Float32}(0.572549,0.341176,0.356863) RGB{Float32}(0.603922,0.435294,0.435294); RGB{Float32}(0.768627,0.639216,0.658824) RGB{Float32}(0.784314,0.662745,0.682353) … RGB{Float32}(0.619608,0.439216,0.458824) RGB{Float32}(0.607843,0.447059,0.47451)]\n",
       " [RGB{Float32}(0.811765,0.682353,0.682353) RGB{Float32}(0.815686,0.701961,0.690196) … RGB{Float32}(0.807843,0.67451,0.705882) RGB{Float32}(0.807843,0.67451,0.701961); RGB{Float32}(0.827451,0.705882,0.729412) RGB{Float32}(0.815686,0.709804,0.721569) … RGB{Float32}(0.811765,0.690196,0.709804) RGB{Float32}(0.819608,0.686275,0.72549); … ; RGB{Float32}(0.8,0.670588,0.698039) RGB{Float32}(0.819608,0.698039,0.745098) … RGB{Float32}(0.827451,0.717647,0.764706) RGB{Float32}(0.823529,0.721569,0.760784); RGB{Float32}(0.803922,0.666667,0.698039) RGB{Float32}(0.792157,0.662745,0.698039) … RGB{Float32}(0.843137,0.737255,0.792157) RGB{Float32}(0.839216,0.72549,0.752941)]           [RGB{Float32}(0.454902,0.32549,0.462745) RGB{Float32}(0.52549,0.388235,0.521569) … RGB{Float32}(0.313726,0.192157,0.341176) RGB{Float32}(0.207843,0.0980392,0.239216); RGB{Float32}(0.509804,0.376471,0.494118) RGB{Float32}(0.572549,0.439216,0.541176) … RGB{Float32}(0.380392,0.25098,0.4) RGB{Float32}(0.290196,0.164706,0.290196); … ; RGB{Float32}(0.501961,0.384314,0.501961) RGB{Float32}(0.564706,0.458824,0.584314) … RGB{Float32}(0.337255,0.25098,0.4) RGB{Float32}(0.258824,0.156863,0.305882); RGB{Float32}(0.439216,0.32549,0.458824) RGB{Float32}(0.517647,0.392157,0.521569) … RGB{Float32}(0.266667,0.184314,0.298039) RGB{Float32}(0.180392,0.0862745,0.211765)]\n",
       " [RGB{Float32}(0.827451,0.729412,0.709804) RGB{Float32}(0.823529,0.721569,0.705882) … RGB{Float32}(0.654902,0.541176,0.52549) RGB{Float32}(0.505882,0.392157,0.341176); RGB{Float32}(0.823529,0.713726,0.67451) RGB{Float32}(0.819608,0.745098,0.745098) … RGB{Float32}(0.705882,0.623529,0.627451) RGB{Float32}(0.698039,0.623529,0.619608); … ; RGB{Float32}(0.843137,0.737255,0.721569) RGB{Float32}(0.827451,0.745098,0.745098) … RGB{Float32}(0.65098,0.545098,0.521569) RGB{Float32}(0.592157,0.486275,0.454902); RGB{Float32}(0.807843,0.721569,0.709804) RGB{Float32}(0.847059,0.752941,0.780392) … RGB{Float32}(0.611765,0.509804,0.478431) RGB{Float32}(0.611765,0.501961,0.490196)]     [RGB{Float32}(0.670588,0.462745,0.415686) RGB{Float32}(0.690196,0.462745,0.419608) … RGB{Float32}(0.760784,0.52549,0.486275) RGB{Float32}(0.733333,0.509804,0.466667); RGB{Float32}(0.709804,0.490196,0.439216) RGB{Float32}(0.741176,0.509804,0.478431) … RGB{Float32}(0.788235,0.556863,0.521569) RGB{Float32}(0.74902,0.541176,0.494118); … ; RGB{Float32}(0.796078,0.454902,0.388235) RGB{Float32}(0.784314,0.478431,0.411765) … RGB{Float32}(0.796078,0.572549,0.505882) RGB{Float32}(0.768627,0.54902,0.501961); RGB{Float32}(0.8,0.54902,0.494118) RGB{Float32}(0.788235,0.533333,0.466667) … RGB{Float32}(0.752941,0.462745,0.415686) RGB{Float32}(0.784314,0.541176,0.470588)]"
      ]
     },
     "execution_count": 43,
     "metadata": {},
     "output_type": "execute_result"
    }
   ],
   "source": [
    "samples = get_correctly_predicted_samples(Xtest, ytest, model, 3)\n",
    "colorview.(RGB, [StackedView(samples[j][i][:,:,1,1], samples[j][i][:,:,2,1], samples[j][i][:,:,3,1]) for i in 1:3, j in 1:7])"
   ]
  },
  {
   "cell_type": "code",
   "execution_count": 44,
   "id": "1f425f4a-166c-4f68-b7ed-3e74f365d273",
   "metadata": {},
   "outputs": [
    {
     "name": "stderr",
     "output_type": "stream",
     "text": [
      "\u001b[32mProgress: 100%|█████████████████████████████████████████| Time: 0:00:00\u001b[39m\n"
     ]
    }
   ],
   "source": [
    "@showprogress for cls in 1:7, i in 1:3\n",
    "    write_image(samples[cls][i], model, \"results/ham10000_$(i)_cls_$(cls)\")\n",
    "end"
   ]
  }
 ],
 "metadata": {
  "kernelspec": {
   "display_name": "Julia 1.8.5",
   "language": "julia",
   "name": "julia-1.8"
  },
  "language_info": {
   "file_extension": ".jl",
   "mimetype": "application/julia",
   "name": "julia",
   "version": "1.8.5"
  }
 },
 "nbformat": 4,
 "nbformat_minor": 5
}
