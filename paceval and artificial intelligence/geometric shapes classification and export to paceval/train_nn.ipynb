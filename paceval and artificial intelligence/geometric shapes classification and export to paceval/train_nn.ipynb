{
 "cells": [
  {
   "cell_type": "code",
   "execution_count": 1,
   "metadata": {},
   "outputs": [],
   "source": [
    "import matplotlib.pyplot as plt\n",
    "import numpy as np\n",
    "import sys\n",
    "import os\n",
    "\n",
    "# Add the parent directory of your current notebook to sys.path\n",
    "sys.path.insert(0, os.path.abspath(os.path.join(os.getcwd(), '../..')))\n",
    "from NN_Class import NeuralNetwork"
   ]
  },
  {
   "cell_type": "markdown",
   "metadata": {},
   "source": [
    "# Load & Process the Data"
   ]
  },
  {
   "cell_type": "code",
   "execution_count": 2,
   "metadata": {},
   "outputs": [],
   "source": [
    "#load the data\n",
    "# create one big list of tuples for training and one for testing\n",
    "# keys are the image array and the values are the labels\n",
    "# 0 will be circle, 1 square, 2 triangle & 3 star\n",
    "# dict for training & test data\n",
    "training_data = []\n",
    "testing_data = []\n",
    "#triangles\n",
    "data_file_triangles = open(\"./shapes_processed_20/triangles.csv\")\n",
    "data_triangles = data_file_triangles.readlines()\n",
    "training_data_triangles = []\n",
    "test_data_triangles = []\n",
    "for i, record in enumerate(data_triangles):\n",
    "    all_values = record.split(\",\")\n",
    "    #scale and shift the inputs\n",
    "    inputs = ((np.asfarray(all_values) / 255) * 0.99)\n",
    "    if i < len(data_triangles)*0.8:\n",
    "        training_data_triangles.append(inputs)\n",
    "        training_data.append((inputs, 2))\n",
    "    else:\n",
    "        test_data_triangles.append(inputs)\n",
    "        testing_data.append((inputs, 2))\n",
    "    \n",
    "#circles\n",
    "data_file_cricles = open(\"./shapes_processed_20/circles.csv\")\n",
    "data_cricles = data_file_cricles.readlines()\n",
    "training_data_cricles = []\n",
    "test_data_cricles = []\n",
    "for i, record in enumerate(data_cricles):\n",
    "    all_values = record.split(\",\")\n",
    "    #scale and shift the inputs\n",
    "    inputs = ((np.asfarray(all_values) / 255) * 0.99)\n",
    "    if i < len(data_cricles)*0.8:\n",
    "        training_data_cricles.append(inputs)\n",
    "        training_data.append((inputs, 0))\n",
    "    else:\n",
    "        test_data_cricles.append(inputs)\n",
    "        testing_data.append((inputs, 0))\n",
    "        \n",
    "#squares\n",
    "data_file_squares = open(\"./shapes_processed_20/squares.csv\")\n",
    "data_squares = data_file_squares.readlines()\n",
    "training_data_squares = []\n",
    "test_data_squares = []\n",
    "for i, record in enumerate(data_squares):\n",
    "    all_values = record.split(\",\")\n",
    "    #scale and shift the inputs\n",
    "    inputs = ((np.asfarray(all_values) / 255) * 0.99)\n",
    "    if i < len(data_squares)*0.8:\n",
    "        training_data_squares.append(inputs)\n",
    "        training_data.append((inputs, 1))\n",
    "    else:\n",
    "        test_data_squares.append(inputs)\n",
    "        testing_data.append((inputs, 1))\n",
    "        \n",
    "#stars\n",
    "data_file_stars = open(\"./shapes_processed_20/stars.csv\")\n",
    "data_stars = data_file_stars.readlines()\n",
    "training_data_stars = []\n",
    "test_data_stars = []\n",
    "for i, record in enumerate(data_stars):\n",
    "    all_values = record.split(\",\")\n",
    "    #scale and shift the inputs\n",
    "    inputs = ((np.asfarray(all_values) / 255) * 0.99)\n",
    "    if i < len(data_stars)*0.8:\n",
    "        training_data_stars.append(inputs)\n",
    "        training_data.append((inputs, 3))\n",
    "    else:\n",
    "        test_data_stars.append(inputs)\n",
    "        testing_data.append((inputs, 3))\n"
   ]
  },
  {
   "cell_type": "code",
   "execution_count": 3,
   "metadata": {},
   "outputs": [
    {
     "name": "stdout",
     "output_type": "stream",
     "text": [
      "3500\n"
     ]
    },
    {
     "data": {
      "text/plain": [
       "<matplotlib.image.AxesImage at 0x126f209d0>"
      ]
     },
     "execution_count": 3,
     "metadata": {},
     "output_type": "execute_result"
    },
    {
     "data": {
      "image/png": "[encoded data removed]",
      "text/plain": [
       "<Figure size 640x480 with 1 Axes>"
      ]
     },
     "metadata": {},
     "output_type": "display_data"
    }
   ],
   "source": [
    "print(len(data_triangles))\n",
    "test_values = data_triangles[0].split(\",\")\n",
    "inputs = ((np.asfarray(test_values) / 255) * 0.99)\n",
    "plt.imshow(np.array(inputs).reshape(20,20), cmap='Greys', interpolation='None')"
   ]
  },
  {
   "cell_type": "code",
   "execution_count": 4,
   "metadata": {},
   "outputs": [],
   "source": [
    "#random shuffle the training & test data\n",
    "import random\n",
    "\n",
    "# Shuffle the training data\n",
    "random.shuffle(training_data)\n",
    "\n",
    "# Shuffle the test data\n",
    "random.shuffle(testing_data)"
   ]
  },
  {
   "cell_type": "code",
   "execution_count": 5,
   "metadata": {},
   "outputs": [],
   "source": [
    "#create the model\n",
    "output_nodes = 4\n",
    "NN = NeuralNetwork(400, 300, output_nodes, 0.1)"
   ]
  },
  {
   "cell_type": "markdown",
   "metadata": {},
   "source": [
    "# Train the Model using a custom python class"
   ]
  },
  {
   "cell_type": "code",
   "execution_count": 6,
   "metadata": {},
   "outputs": [],
   "source": [
    "# train the nn\n",
    "epochs = 5\n",
    "\n",
    "for e in range(epochs):\n",
    "    for record in training_data:\n",
    "        inputs = record[0]\n",
    "        #create targets\n",
    "        targets = np.zeros(output_nodes) + 0.01\n",
    "        targets[int(record[1])] = 0.99\n",
    "        NN.train(inputs, targets)"
   ]
  },
  {
   "cell_type": "markdown",
   "metadata": {},
   "source": [
    "# Test the Model"
   ]
  },
  {
   "cell_type": "code",
   "execution_count": 7,
   "metadata": {},
   "outputs": [],
   "source": [
    "# test the nn\n",
    "scorecard = []\n",
    "\n",
    "# loop through test data\n",
    "for record in testing_data:\n",
    "        inputs = record[0]\n",
    "        correct_label = record[1]\n",
    "        #query nn\n",
    "        outputs = NN.query(inputs)\n",
    "        label = np.argmax(outputs)\n",
    "        #evaluate\n",
    "        if (label == correct_label):\n",
    "            scorecard.append(1)\n",
    "        else:\n",
    "            scorecard.append(0)"
   ]
  },
  {
   "cell_type": "code",
   "execution_count": 8,
   "metadata": {},
   "outputs": [
    {
     "name": "stdout",
     "output_type": "stream",
     "text": [
      "Score: 1.0\n",
      "2800 2800\n"
     ]
    }
   ],
   "source": [
    "#calculate performance score\n",
    "score_total = sum(scorecard)\n",
    "print(f\"Score: {score_total/len(scorecard)}\")\n",
    "print(len(scorecard), score_total)"
   ]
  },
  {
   "cell_type": "markdown",
   "metadata": {},
   "source": [
    "# Save the model weights"
   ]
  },
  {
   "cell_type": "code",
   "execution_count": 9,
   "metadata": {},
   "outputs": [],
   "source": [
    "NN.save_weights()"
   ]
  }
 ],
 "metadata": {
  "kernelspec": {
   "display_name": "Python 3",
   "language": "python",
   "name": "python3"
  },
  "language_info": {
   "codemirror_mode": {
    "name": "ipython",
    "version": 3
   },
   "file_extension": ".py",
   "mimetype": "text/x-python",
   "name": "python",
   "nbconvert_exporter": "python",
   "pygments_lexer": "ipython3",
   "version": "3.11.7"
  }
 },
 "nbformat": 4,
 "nbformat_minor": 2
}
