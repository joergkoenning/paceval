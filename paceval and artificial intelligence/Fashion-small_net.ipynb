{
 "cells": [
  {
   "cell_type": "code",
   "execution_count": 3,
   "id": "cba85085-3d49-44be-a021-b7434e1b04f2",
   "metadata": {},
   "outputs": [],
   "source": [
    "Float = Float64; # Define datatype to be used for all operations"
   ]
  },
  {
   "cell_type": "code",
   "execution_count": 4,
   "id": "8eaca5fe-4c98-4c81-ac59-023048528c20",
   "metadata": {},
   "outputs": [
    {
     "name": "stderr",
     "output_type": "stream",
     "text": [
      "┌ Info: Precompiling SymPy [24249f21-da20-56a4-8eb1-6a02cf4ae2e6]\n",
      "└ @ Base loading.jl:1664\n"
     ]
    },
    {
     "data": {
      "text/plain": [
       "false"
      ]
     },
     "execution_count": 4,
     "metadata": {},
     "output_type": "execute_result"
    }
   ],
   "source": [
    "using MLUtils, MLDataUtils, MLDatasets, Images, Augmentor, Flux, ProgressMeter, Plots, BenchmarkTools\n",
    "using Printf\n",
    "using BSON: @save, @load\n",
    "using SymPy\n",
    "using Base.Iterators\n",
    "\n",
    "ProgressMeter.ijulia_behavior(:clear)"
   ]
  },
  {
   "cell_type": "markdown",
   "id": "ae06e6a7-3b9a-48e7-9471-fbcf6afe284b",
   "metadata": {},
   "source": [
    "# Load Dataset"
   ]
  },
  {
   "cell_type": "code",
   "execution_count": 3,
   "id": "ce189f52-c17c-4b5f-accd-dc8608ff1468",
   "metadata": {},
   "outputs": [
    {
     "data": {
      "text/plain": [
       "(\"28×28×60000 Array{Float64, 3}\", \"28×28×10000 Array{Float64, 3}\")"
      ]
     },
     "execution_count": 3,
     "metadata": {},
     "output_type": "execute_result"
    }
   ],
   "source": [
    "xtrain, ytrain = FashionMNIST(split=:train)[:]\n",
    "xtest, ytest = FashionMNIST(split=:test)[:]\n",
    "xtrain = Float.(xtrain)\n",
    "xtest = Float.(xtest)\n",
    "summary(xtrain), summary(xtest)"
   ]
  },
  {
   "cell_type": "code",
   "execution_count": 4,
   "id": "95a319d4-a19d-483d-b6cf-89a24e26db22",
   "metadata": {},
   "outputs": [
    {
     "data": {
      "text/plain": [
       "(\"10×60000 Matrix{Float64}\", \"10×10000 Matrix{Float64}\")"
      ]
     },
     "execution_count": 4,
     "metadata": {},
     "output_type": "execute_result"
    }
   ],
   "source": [
    "# Transform labels to One of K coding\n",
    "Ytrain = convertlabel(LabelEnc.OneOfK{Float}, ytrain, 0:9)\n",
    "Ytest = convertlabel(LabelEnc.OneOfK{Float}, ytest, 0:9)\n",
    "summary(Ytrain), summary(Ytest)"
   ]
  },
  {
   "cell_type": "code",
   "execution_count": 5,
   "id": "cd723b1c-72a1-40c9-b9bf-de930e82a11a",
   "metadata": {},
   "outputs": [
    {
     "data": {
      "image/png": "[encoded data removed]",
      "text/plain": [
       "28×56 reinterpret(reshape, Gray{Float64}, ::Matrix{Float64}) with eltype Gray{Float64}:\n",
       " Gray{Float64}(0.0)  Gray{Float64}(0.0)  …  Gray{Float64}(0.0)\n",
       " Gray{Float64}(0.0)  Gray{Float64}(0.0)     Gray{Float64}(0.0)\n",
       " Gray{Float64}(0.0)  Gray{Float64}(0.0)     Gray{Float64}(0.0)\n",
       " Gray{Float64}(0.0)  Gray{Float64}(0.0)     Gray{Float64}(0.0)\n",
       " Gray{Float64}(0.0)  Gray{Float64}(0.0)     Gray{Float64}(0.0)\n",
       " Gray{Float64}(0.0)  Gray{Float64}(0.0)  …  Gray{Float64}(0.0)\n",
       " Gray{Float64}(0.0)  Gray{Float64}(0.0)     Gray{Float64}(0.0)\n",
       " Gray{Float64}(0.0)  Gray{Float64}(0.0)     Gray{Float64}(0.0)\n",
       " Gray{Float64}(0.0)  Gray{Float64}(0.0)     Gray{Float64}(0.0)\n",
       " Gray{Float64}(0.0)  Gray{Float64}(0.0)     Gray{Float64}(0.0)\n",
       " Gray{Float64}(0.0)  Gray{Float64}(0.0)  …  Gray{Float64}(0.0)\n",
       " Gray{Float64}(0.0)  Gray{Float64}(0.0)     Gray{Float64}(0.0)\n",
       " Gray{Float64}(0.0)  Gray{Float64}(0.0)     Gray{Float64}(0.0)\n",
       " ⋮                                       ⋱  ⋮\n",
       " Gray{Float64}(0.0)  Gray{Float64}(0.0)     Gray{Float64}(0.168627)\n",
       " Gray{Float64}(0.0)  Gray{Float64}(0.0)     Gray{Float64}(0.243137)\n",
       " Gray{Float64}(0.0)  Gray{Float64}(0.0)     Gray{Float64}(0.227451)\n",
       " Gray{Float64}(0.0)  Gray{Float64}(0.0)     Gray{Float64}(0.141176)\n",
       " Gray{Float64}(0.0)  Gray{Float64}(0.0)  …  Gray{Float64}(0.192157)\n",
       " Gray{Float64}(0.0)  Gray{Float64}(0.0)     Gray{Float64}(0.0431373)\n",
       " Gray{Float64}(0.0)  Gray{Float64}(0.0)     Gray{Float64}(0.0)\n",
       " Gray{Float64}(0.0)  Gray{Float64}(0.0)     Gray{Float64}(0.0)\n",
       " Gray{Float64}(0.0)  Gray{Float64}(0.0)     Gray{Float64}(0.0)\n",
       " Gray{Float64}(0.0)  Gray{Float64}(0.0)  …  Gray{Float64}(0.0)\n",
       " Gray{Float64}(0.0)  Gray{Float64}(0.0)     Gray{Float64}(0.0)\n",
       " Gray{Float64}(0.0)  Gray{Float64}(0.0)     Gray{Float64}(0.0)"
      ]
     },
     "execution_count": 5,
     "metadata": {},
     "output_type": "execute_result"
    }
   ],
   "source": [
    "# Flip images (because Julia uses column major order) and bring to the correct number of dimensions\n",
    "Xtrain = Float.(reshape(permutedims(xtrain, (2,1,3)), 28, 28, 1, :));\n",
    "Xtest = Float.(reshape(permutedims(xtest, (2,1,3)), 28, 28, 1, :));\n",
    "colorview(Gray, [Xtrain[:,:,1,3] Xtest[:,:,1,1]])"
   ]
  },
  {
   "cell_type": "markdown",
   "id": "ecbcbc6d-7f2b-4b05-84db-c8788bd9c60e",
   "metadata": {},
   "source": [
    "# Set up Data Augmentation"
   ]
  },
  {
   "cell_type": "code",
   "execution_count": 6,
   "id": "35061882-45e9-4323-9108-d87d9a8cb4fd",
   "metadata": {},
   "outputs": [
    {
     "data": {
      "text/plain": [
       "5-step Augmentor.ImmutablePipeline:\n",
       " 1.) Rotate by θ ∈ LinRange{Float64}(-25.0, 25.0, 10) degree\n",
       " 2.) Zoom by I ∈ {0.8×0.8, 0.85×0.85, 0.9×0.9, 0.95×0.95, 1.0×1.0, 1.05×1.05, 1.1×1.1, 1.15×1.15, 1.2×1.2}\n",
       " 3.) ShearX by ϕ ∈ -20:20 degree\n",
       " 4.) ShearY by ψ ∈ -20:20 degree\n",
       " 5.) Crop a 28×28 window around the center"
      ]
     },
     "execution_count": 6,
     "metadata": {},
     "output_type": "execute_result"
    }
   ],
   "source": [
    "augmentpipeline = Rotate(LinRange(-25,25,10)) |>\n",
    "    Zoom(0.8:0.05:1.2) |> \n",
    "    ShearX(-20:20) |> \n",
    "    ShearY(-20:20) |> \n",
    "    #ElasticDistortion(5) |> \n",
    "    CropSize(28,28)"
   ]
  },
  {
   "cell_type": "code",
   "execution_count": 7,
   "id": "835ddc8a-1d3b-47b6-aa8b-cc18307ef353",
   "metadata": {},
   "outputs": [
    {
     "data": {
      "image/png": "[encoded data removed]",
      "text/plain": [
       "28×280 reinterpret(reshape, Gray{Float64}, ::Matrix{Float64}) with eltype Gray{Float64}:\n",
       " Gray{Float64}(0.0)         …  Gray{Float64}(0.0)\n",
       " Gray{Float64}(0.0)            Gray{Float64}(0.0)\n",
       " Gray{Float64}(0.0)            Gray{Float64}(0.0)\n",
       " Gray{Float64}(0.0)            Gray{Float64}(0.0)\n",
       " Gray{Float64}(0.0)            Gray{Float64}(0.0)\n",
       " Gray{Float64}(0.0)         …  Gray{Float64}(0.00323546)\n",
       " Gray{Float64}(0.0)            Gray{Float64}(0.007304)\n",
       " Gray{Float64}(0.0)            Gray{Float64}(0.0284298)\n",
       " Gray{Float64}(0.0)            Gray{Float64}(0.176314)\n",
       " Gray{Float64}(0.0)            Gray{Float64}(0.0798217)\n",
       " Gray{Float64}(0.0)         …  Gray{Float64}(0.0)\n",
       " Gray{Float64}(0.0)            Gray{Float64}(0.0)\n",
       " Gray{Float64}(0.0113675)      Gray{Float64}(0.203985)\n",
       " ⋮                          ⋱  \n",
       " Gray{Float64}(0.0)            Gray{Float64}(0.0)\n",
       " Gray{Float64}(0.00656238)     Gray{Float64}(0.0)\n",
       " Gray{Float64}(0.0)            Gray{Float64}(0.0)\n",
       " Gray{Float64}(0.0)            Gray{Float64}(0.0833674)\n",
       " Gray{Float64}(0.0)         …  Gray{Float64}(0.238485)\n",
       " Gray{Float64}(0.0)            Gray{Float64}(0.43994)\n",
       " Gray{Float64}(0.0)            Gray{Float64}(0.34437)\n",
       " Gray{Float64}(0.0)            Gray{Float64}(0.0)\n",
       " Gray{Float64}(0.0)            Gray{Float64}(0.0)\n",
       " Gray{Float64}(0.0)         …  Gray{Float64}(0.0)\n",
       " Gray{Float64}(0.0)            Gray{Float64}(0.0)\n",
       " Gray{Float64}(0.0)            Gray{Float64}(0.0)"
      ]
     },
     "execution_count": 7,
     "metadata": {},
     "output_type": "execute_result"
    }
   ],
   "source": [
    "# Test Data Augmentation\n",
    "testaugment = hcat((augment(Xtrain[:,:,1,1], augmentpipeline) for _ in 1:10)...)\n",
    "colorview(Gray, testaugment)"
   ]
  },
  {
   "cell_type": "code",
   "execution_count": 8,
   "id": "de32db46-3e7d-434a-976c-830415d8d4ca",
   "metadata": {},
   "outputs": [
    {
     "data": {
      "text/plain": [
       "augment_batch (generic function with 1 method)"
      ]
     },
     "execution_count": 8,
     "metadata": {},
     "output_type": "execute_result"
    }
   ],
   "source": [
    "function augment_batch(batch, augmentpipeline)\n",
    "    src = batch[:,:,1,:]\n",
    "    dst = similar(src)\n",
    "    augmentbatch!(dst, src, augmentpipeline, ObsDim.Last())\n",
    "    return reshape(dst, 28, 28, 1, :)\n",
    "end"
   ]
  },
  {
   "cell_type": "markdown",
   "id": "d303c22d-4f39-413f-a18e-866e90649723",
   "metadata": {},
   "source": [
    "# Create the Neural Network Model"
   ]
  },
  {
   "cell_type": "markdown",
   "id": "a66e70c1-3a96-40b6-8293-15ea3d324e6b",
   "metadata": {},
   "source": [
    "#### Define closed-form versions of activation functions"
   ]
  },
  {
   "cell_type": "code",
   "execution_count": 9,
   "id": "843bd26c-10f2-409a-9bbc-9608103fd85d",
   "metadata": {},
   "outputs": [
    {
     "data": {
      "image/svg+xml": [
       "<?xml version=\"1.0\" encoding=\"utf-8\"?>\n",
       "<svg xmlns=\"http://www.w3.org/2000/svg\" xmlns:xlink=\"http://www.w3.org/1999/xlink\" width=\"600\" height=\"400\" viewBox=\"0 0 2400 1600\">\n",
       "<defs>\n",
       "  <clipPath id=\"clip140\">\n",
       "    <rect x=\"0\" y=\"0\" width=\"2400\" height=\"1600\"/>\n",
       "  </clipPath>\n",
       "</defs>\n",
       "<path clip-path=\"url(#clip140)\" d=\"\n",
       "M0 1600 L2400 1600 L2400 0 L0 0  Z\n",
       "  \" fill=\"#ffffff\" fill-rule=\"evenodd\" fill-opacity=\"1\"/>\n",
       "<defs>\n",
       "  <clipPath id=\"clip141\">\n",
       "    <rect x=\"480\" y=\"0\" width=\"1681\" height=\"1600\"/>\n",
       "  </clipPath>\n",
       "</defs>\n",
       "<path clip-path=\"url(#clip140)\" d=\"\n",
       "M186.274 1486.45 L2352.76 1486.45 L2352.76 47.2441 L186.274 47.2441  Z\n",
       "  \" fill=\"#ffffff\" fill-rule=\"evenodd\" fill-opacity=\"1\"/>\n",
       "<defs>\n",
       "  <clipPath id=\"clip142\">\n",
       "    <rect x=\"186\" y=\"47\" width=\"2167\" height=\"1440\"/>\n",
       "  </clipPath>\n",
       "</defs>\n",
       "<polyline clip-path=\"url(#clip142)\" style=\"stroke:#000000; stroke-linecap:round; stroke-linejoin:round; stroke-width:2; stroke-opacity:0.1; fill:none\" points=\"\n",
       "  451.975,1486.45 451.975,47.2441 \n",
       "  \"/>\n",
       "<polyline clip-path=\"url(#clip142)\" style=\"stroke:#000000; stroke-linecap:round; stroke-linejoin:round; stroke-width:2; stroke-opacity:0.1; fill:none\" points=\"\n",
       "  860.745,1486.45 860.745,47.2441 \n",
       "  \"/>\n",
       "<polyline clip-path=\"url(#clip142)\" style=\"stroke:#000000; stroke-linecap:round; stroke-linejoin:round; stroke-width:2; stroke-opacity:0.1; fill:none\" points=\"\n",
       "  1269.51,1486.45 1269.51,47.2441 \n",
       "  \"/>\n",
       "<polyline clip-path=\"url(#clip142)\" style=\"stroke:#000000; stroke-linecap:round; stroke-linejoin:round; stroke-width:2; stroke-opacity:0.1; fill:none\" points=\"\n",
       "  1678.29,1486.45 1678.29,47.2441 \n",
       "  \"/>\n",
       "<polyline clip-path=\"url(#clip142)\" style=\"stroke:#000000; stroke-linecap:round; stroke-linejoin:round; stroke-width:2; stroke-opacity:0.1; fill:none\" points=\"\n",
       "  2087.06,1486.45 2087.06,47.2441 \n",
       "  \"/>\n",
       "<polyline clip-path=\"url(#clip140)\" style=\"stroke:#000000; stroke-linecap:round; stroke-linejoin:round; stroke-width:4; stroke-opacity:1; fill:none\" points=\"\n",
       "  186.274,1486.45 2352.76,1486.45 \n",
       "  \"/>\n",
       "<polyline clip-path=\"url(#clip140)\" style=\"stroke:#000000; stroke-linecap:round; stroke-linejoin:round; stroke-width:4; stroke-opacity:1; fill:none\" points=\"\n",
       "  451.975,1486.45 451.975,1467.55 \n",
       "  \"/>\n",
       "<polyline clip-path=\"url(#clip140)\" style=\"stroke:#000000; stroke-linecap:round; stroke-linejoin:round; stroke-width:4; stroke-opacity:1; fill:none\" points=\"\n",
       "  860.745,1486.45 860.745,1467.55 \n",
       "  \"/>\n",
       "<polyline clip-path=\"url(#clip140)\" style=\"stroke:#000000; stroke-linecap:round; stroke-linejoin:round; stroke-width:4; stroke-opacity:1; fill:none\" points=\"\n",
       "  1269.51,1486.45 1269.51,1467.55 \n",
       "  \"/>\n",
       "<polyline clip-path=\"url(#clip140)\" style=\"stroke:#000000; stroke-linecap:round; stroke-linejoin:round; stroke-width:4; stroke-opacity:1; fill:none\" points=\"\n",
       "  1678.29,1486.45 1678.29,1467.55 \n",
       "  \"/>\n",
       "<polyline clip-path=\"url(#clip140)\" style=\"stroke:#000000; stroke-linecap:round; stroke-linejoin:round; stroke-width:4; stroke-opacity:1; fill:none\" points=\"\n",
       "  2087.06,1486.45 2087.06,1467.55 \n",
       "  \"/>\n",
       "<path clip-path=\"url(#clip140)\" d=\"M420.875 1532.02 L450.551 1532.02 L450.551 1535.95 L420.875 1535.95 L420.875 1532.02 Z\" fill=\"#000000\" fill-rule=\"evenodd\" fill-opacity=\"1\" /><path clip-path=\"url(#clip140)\" d=\"M473.491 1518.36 L461.685 1536.81 L473.491 1536.81 L473.491 1518.36 M472.264 1514.29 L478.143 1514.29 L478.143 1536.81 L483.074 1536.81 L483.074 1540.7 L478.143 1540.7 L478.143 1548.85 L473.491 1548.85 L473.491 1540.7 L457.889 1540.7 L457.889 1536.19 L472.264 1514.29 Z\" fill=\"#000000\" fill-rule=\"evenodd\" fill-opacity=\"1\" /><path clip-path=\"url(#clip140)\" d=\"M830.687 1532.02 L860.363 1532.02 L860.363 1535.95 L830.687 1535.95 L830.687 1532.02 Z\" fill=\"#000000\" fill-rule=\"evenodd\" fill-opacity=\"1\" /><path clip-path=\"url(#clip140)\" d=\"M874.483 1544.91 L890.802 1544.91 L890.802 1548.85 L868.858 1548.85 L868.858 1544.91 Q871.52 1542.16 876.103 1537.53 Q880.71 1532.88 881.891 1531.53 Q884.136 1529.01 885.015 1527.27 Q885.918 1525.51 885.918 1523.82 Q885.918 1521.07 883.974 1519.33 Q882.053 1517.6 878.951 1517.6 Q876.752 1517.6 874.298 1518.36 Q871.867 1519.13 869.09 1520.68 L869.09 1515.95 Q871.914 1514.82 874.367 1514.24 Q876.821 1513.66 878.858 1513.66 Q884.228 1513.66 887.423 1516.35 Q890.617 1519.03 890.617 1523.52 Q890.617 1525.65 889.807 1527.57 Q889.02 1529.47 886.914 1532.07 Q886.335 1532.74 883.233 1535.95 Q880.131 1539.15 874.483 1544.91 Z\" fill=\"#000000\" fill-rule=\"evenodd\" fill-opacity=\"1\" /><path clip-path=\"url(#clip140)\" d=\"M1269.51 1517.37 Q1265.9 1517.37 1264.08 1520.93 Q1262.27 1524.47 1262.27 1531.6 Q1262.27 1538.71 1264.08 1542.27 Q1265.9 1545.82 1269.51 1545.82 Q1273.15 1545.82 1274.95 1542.27 Q1276.78 1538.71 1276.78 1531.6 Q1276.78 1524.47 1274.95 1520.93 Q1273.15 1517.37 1269.51 1517.37 M1269.51 1513.66 Q1275.33 1513.66 1278.38 1518.27 Q1281.46 1522.85 1281.46 1531.6 Q1281.46 1540.33 1278.38 1544.94 Q1275.33 1549.52 1269.51 1549.52 Q1263.7 1549.52 1260.63 1544.94 Q1257.57 1540.33 1257.57 1531.6 Q1257.57 1522.85 1260.63 1518.27 Q1263.7 1513.66 1269.51 1513.66 Z\" fill=\"#000000\" fill-rule=\"evenodd\" fill-opacity=\"1\" /><path clip-path=\"url(#clip140)\" d=\"M1672.94 1544.91 L1689.26 1544.91 L1689.26 1548.85 L1667.31 1548.85 L1667.31 1544.91 Q1669.97 1542.16 1674.56 1537.53 Q1679.16 1532.88 1680.35 1531.53 Q1682.59 1529.01 1683.47 1527.27 Q1684.37 1525.51 1684.37 1523.82 Q1684.37 1521.07 1682.43 1519.33 Q1680.51 1517.6 1677.41 1517.6 Q1675.21 1517.6 1672.75 1518.36 Q1670.32 1519.13 1667.54 1520.68 L1667.54 1515.95 Q1670.37 1514.82 1672.82 1514.24 Q1675.28 1513.66 1677.31 1513.66 Q1682.68 1513.66 1685.88 1516.35 Q1689.07 1519.03 1689.07 1523.52 Q1689.07 1525.65 1688.26 1527.57 Q1687.47 1529.47 1685.37 1532.07 Q1684.79 1532.74 1681.69 1535.95 Q1678.59 1539.15 1672.94 1544.91 Z\" fill=\"#000000\" fill-rule=\"evenodd\" fill-opacity=\"1\" /><path clip-path=\"url(#clip140)\" d=\"M2090.06 1518.36 L2078.26 1536.81 L2090.06 1536.81 L2090.06 1518.36 M2088.84 1514.29 L2094.72 1514.29 L2094.72 1536.81 L2099.65 1536.81 L2099.65 1540.7 L2094.72 1540.7 L2094.72 1548.85 L2090.06 1548.85 L2090.06 1540.7 L2074.46 1540.7 L2074.46 1536.19 L2088.84 1514.29 Z\" fill=\"#000000\" fill-rule=\"evenodd\" fill-opacity=\"1\" /><polyline clip-path=\"url(#clip142)\" style=\"stroke:#000000; stroke-linecap:round; stroke-linejoin:round; stroke-width:2; stroke-opacity:0.1; fill:none\" points=\"\n",
       "  186.274,1454.93 2352.76,1454.93 \n",
       "  \"/>\n",
       "<polyline clip-path=\"url(#clip142)\" style=\"stroke:#000000; stroke-linecap:round; stroke-linejoin:round; stroke-width:2; stroke-opacity:0.1; fill:none\" points=\"\n",
       "  186.274,1110.89 2352.76,1110.89 \n",
       "  \"/>\n",
       "<polyline clip-path=\"url(#clip142)\" style=\"stroke:#000000; stroke-linecap:round; stroke-linejoin:round; stroke-width:2; stroke-opacity:0.1; fill:none\" points=\"\n",
       "  186.274,766.846 2352.76,766.846 \n",
       "  \"/>\n",
       "<polyline clip-path=\"url(#clip142)\" style=\"stroke:#000000; stroke-linecap:round; stroke-linejoin:round; stroke-width:2; stroke-opacity:0.1; fill:none\" points=\"\n",
       "  186.274,422.806 2352.76,422.806 \n",
       "  \"/>\n",
       "<polyline clip-path=\"url(#clip142)\" style=\"stroke:#000000; stroke-linecap:round; stroke-linejoin:round; stroke-width:2; stroke-opacity:0.1; fill:none\" points=\"\n",
       "  186.274,78.7658 2352.76,78.7658 \n",
       "  \"/>\n",
       "<polyline clip-path=\"url(#clip140)\" style=\"stroke:#000000; stroke-linecap:round; stroke-linejoin:round; stroke-width:4; stroke-opacity:1; fill:none\" points=\"\n",
       "  186.274,1486.45 186.274,47.2441 \n",
       "  \"/>\n",
       "<polyline clip-path=\"url(#clip140)\" style=\"stroke:#000000; stroke-linecap:round; stroke-linejoin:round; stroke-width:4; stroke-opacity:1; fill:none\" points=\"\n",
       "  186.274,1454.93 205.172,1454.93 \n",
       "  \"/>\n",
       "<polyline clip-path=\"url(#clip140)\" style=\"stroke:#000000; stroke-linecap:round; stroke-linejoin:round; stroke-width:4; stroke-opacity:1; fill:none\" points=\"\n",
       "  186.274,1110.89 205.172,1110.89 \n",
       "  \"/>\n",
       "<polyline clip-path=\"url(#clip140)\" style=\"stroke:#000000; stroke-linecap:round; stroke-linejoin:round; stroke-width:4; stroke-opacity:1; fill:none\" points=\"\n",
       "  186.274,766.846 205.172,766.846 \n",
       "  \"/>\n",
       "<polyline clip-path=\"url(#clip140)\" style=\"stroke:#000000; stroke-linecap:round; stroke-linejoin:round; stroke-width:4; stroke-opacity:1; fill:none\" points=\"\n",
       "  186.274,422.806 205.172,422.806 \n",
       "  \"/>\n",
       "<polyline clip-path=\"url(#clip140)\" style=\"stroke:#000000; stroke-linecap:round; stroke-linejoin:round; stroke-width:4; stroke-opacity:1; fill:none\" points=\"\n",
       "  186.274,78.7658 205.172,78.7658 \n",
       "  \"/>\n",
       "<path clip-path=\"url(#clip140)\" d=\"M62.9365 1440.72 Q59.3254 1440.72 57.4967 1444.29 Q55.6912 1447.83 55.6912 1454.96 Q55.6912 1462.07 57.4967 1465.63 Q59.3254 1469.17 62.9365 1469.17 Q66.5707 1469.17 68.3763 1465.63 Q70.205 1462.07 70.205 1454.96 Q70.205 1447.83 68.3763 1444.29 Q66.5707 1440.72 62.9365 1440.72 M62.9365 1437.02 Q68.7467 1437.02 71.8022 1441.63 Q74.8809 1446.21 74.8809 1454.96 Q74.8809 1463.69 71.8022 1468.29 Q68.7467 1472.88 62.9365 1472.88 Q57.1264 1472.88 54.0477 1468.29 Q50.9921 1463.69 50.9921 1454.96 Q50.9921 1446.21 54.0477 1441.63 Q57.1264 1437.02 62.9365 1437.02 Z\" fill=\"#000000\" fill-rule=\"evenodd\" fill-opacity=\"1\" /><path clip-path=\"url(#clip140)\" d=\"M83.0984 1466.33 L87.9827 1466.33 L87.9827 1472.21 L83.0984 1472.21 L83.0984 1466.33 Z\" fill=\"#000000\" fill-rule=\"evenodd\" fill-opacity=\"1\" /><path clip-path=\"url(#clip140)\" d=\"M108.168 1440.72 Q104.557 1440.72 102.728 1444.29 Q100.922 1447.83 100.922 1454.96 Q100.922 1462.07 102.728 1465.63 Q104.557 1469.17 108.168 1469.17 Q111.802 1469.17 113.608 1465.63 Q115.436 1462.07 115.436 1454.96 Q115.436 1447.83 113.608 1444.29 Q111.802 1440.72 108.168 1440.72 M108.168 1437.02 Q113.978 1437.02 117.033 1441.63 Q120.112 1446.21 120.112 1454.96 Q120.112 1463.69 117.033 1468.29 Q113.978 1472.88 108.168 1472.88 Q102.358 1472.88 99.2789 1468.29 Q96.2234 1463.69 96.2234 1454.96 Q96.2234 1446.21 99.2789 1441.63 Q102.358 1437.02 108.168 1437.02 Z\" fill=\"#000000\" fill-rule=\"evenodd\" fill-opacity=\"1\" /><path clip-path=\"url(#clip140)\" d=\"M138.33 1440.72 Q134.719 1440.72 132.89 1444.29 Q131.084 1447.83 131.084 1454.96 Q131.084 1462.07 132.89 1465.63 Q134.719 1469.17 138.33 1469.17 Q141.964 1469.17 143.769 1465.63 Q145.598 1462.07 145.598 1454.96 Q145.598 1447.83 143.769 1444.29 Q141.964 1440.72 138.33 1440.72 M138.33 1437.02 Q144.14 1437.02 147.195 1441.63 Q150.274 1446.21 150.274 1454.96 Q150.274 1463.69 147.195 1468.29 Q144.14 1472.88 138.33 1472.88 Q132.519 1472.88 129.441 1468.29 Q126.385 1463.69 126.385 1454.96 Q126.385 1446.21 129.441 1441.63 Q132.519 1437.02 138.33 1437.02 Z\" fill=\"#000000\" fill-rule=\"evenodd\" fill-opacity=\"1\" /><path clip-path=\"url(#clip140)\" d=\"M63.9319 1096.68 Q60.3208 1096.68 58.4921 1100.25 Q56.6865 1103.79 56.6865 1110.92 Q56.6865 1118.03 58.4921 1121.59 Q60.3208 1125.13 63.9319 1125.13 Q67.5661 1125.13 69.3717 1121.59 Q71.2004 1118.03 71.2004 1110.92 Q71.2004 1103.79 69.3717 1100.25 Q67.5661 1096.68 63.9319 1096.68 M63.9319 1092.98 Q69.742 1092.98 72.7976 1097.59 Q75.8763 1102.17 75.8763 1110.92 Q75.8763 1119.65 72.7976 1124.25 Q69.742 1128.84 63.9319 1128.84 Q58.1217 1128.84 55.043 1124.25 Q51.9875 1119.65 51.9875 1110.92 Q51.9875 1102.17 55.043 1097.59 Q58.1217 1092.98 63.9319 1092.98 Z\" fill=\"#000000\" fill-rule=\"evenodd\" fill-opacity=\"1\" /><path clip-path=\"url(#clip140)\" d=\"M84.0938 1122.29 L88.978 1122.29 L88.978 1128.17 L84.0938 1128.17 L84.0938 1122.29 Z\" fill=\"#000000\" fill-rule=\"evenodd\" fill-opacity=\"1\" /><path clip-path=\"url(#clip140)\" d=\"M103.191 1124.23 L119.51 1124.23 L119.51 1128.17 L97.566 1128.17 L97.566 1124.23 Q100.228 1121.48 104.811 1116.85 Q109.418 1112.19 110.598 1110.85 Q112.844 1108.33 113.723 1106.59 Q114.626 1104.83 114.626 1103.14 Q114.626 1100.39 112.682 1098.65 Q110.76 1096.92 107.658 1096.92 Q105.459 1096.92 103.006 1097.68 Q100.575 1098.44 97.7974 1099.99 L97.7974 1095.27 Q100.621 1094.14 103.075 1093.56 Q105.529 1092.98 107.566 1092.98 Q112.936 1092.98 116.131 1095.67 Q119.325 1098.35 119.325 1102.84 Q119.325 1104.97 118.515 1106.89 Q117.728 1108.79 115.621 1111.38 Q115.043 1112.06 111.941 1115.27 Q108.839 1118.47 103.191 1124.23 Z\" fill=\"#000000\" fill-rule=\"evenodd\" fill-opacity=\"1\" /><path clip-path=\"url(#clip140)\" d=\"M129.371 1093.61 L147.728 1093.61 L147.728 1097.54 L133.654 1097.54 L133.654 1106.01 Q134.672 1105.67 135.691 1105.5 Q136.709 1105.32 137.728 1105.32 Q143.515 1105.32 146.894 1108.49 Q150.274 1111.66 150.274 1117.08 Q150.274 1122.66 146.802 1125.76 Q143.33 1128.84 137.01 1128.84 Q134.834 1128.84 132.566 1128.47 Q130.32 1128.1 127.913 1127.36 L127.913 1122.66 Q129.996 1123.79 132.219 1124.35 Q134.441 1124.9 136.918 1124.9 Q140.922 1124.9 143.26 1122.8 Q145.598 1120.69 145.598 1117.08 Q145.598 1113.47 143.26 1111.36 Q140.922 1109.25 136.918 1109.25 Q135.043 1109.25 133.168 1109.67 Q131.316 1110.09 129.371 1110.97 L129.371 1093.61 Z\" fill=\"#000000\" fill-rule=\"evenodd\" fill-opacity=\"1\" /><path clip-path=\"url(#clip140)\" d=\"M62.9365 752.645 Q59.3254 752.645 57.4967 756.209 Q55.6912 759.751 55.6912 766.881 Q55.6912 773.987 57.4967 777.552 Q59.3254 781.094 62.9365 781.094 Q66.5707 781.094 68.3763 777.552 Q70.205 773.987 70.205 766.881 Q70.205 759.751 68.3763 756.209 Q66.5707 752.645 62.9365 752.645 M62.9365 748.941 Q68.7467 748.941 71.8022 753.547 Q74.8809 758.131 74.8809 766.881 Q74.8809 775.608 71.8022 780.214 Q68.7467 784.797 62.9365 784.797 Q57.1264 784.797 54.0477 780.214 Q50.9921 775.608 50.9921 766.881 Q50.9921 758.131 54.0477 753.547 Q57.1264 748.941 62.9365 748.941 Z\" fill=\"#000000\" fill-rule=\"evenodd\" fill-opacity=\"1\" /><path clip-path=\"url(#clip140)\" d=\"M83.0984 778.246 L87.9827 778.246 L87.9827 784.126 L83.0984 784.126 L83.0984 778.246 Z\" fill=\"#000000\" fill-rule=\"evenodd\" fill-opacity=\"1\" /><path clip-path=\"url(#clip140)\" d=\"M98.2141 749.566 L116.57 749.566 L116.57 753.501 L102.496 753.501 L102.496 761.973 Q103.515 761.626 104.534 761.464 Q105.552 761.279 106.571 761.279 Q112.358 761.279 115.737 764.45 Q119.117 767.621 119.117 773.038 Q119.117 778.617 115.645 781.719 Q112.172 784.797 105.853 784.797 Q103.677 784.797 101.409 784.427 Q99.1632 784.057 96.7558 783.316 L96.7558 778.617 Q98.8391 779.751 101.061 780.307 Q103.284 780.862 105.76 780.862 Q109.765 780.862 112.103 778.756 Q114.441 776.649 114.441 773.038 Q114.441 769.427 112.103 767.321 Q109.765 765.214 105.76 765.214 Q103.885 765.214 102.01 765.631 Q100.159 766.047 98.2141 766.927 L98.2141 749.566 Z\" fill=\"#000000\" fill-rule=\"evenodd\" fill-opacity=\"1\" /><path clip-path=\"url(#clip140)\" d=\"M138.33 752.645 Q134.719 752.645 132.89 756.209 Q131.084 759.751 131.084 766.881 Q131.084 773.987 132.89 777.552 Q134.719 781.094 138.33 781.094 Q141.964 781.094 143.769 777.552 Q145.598 773.987 145.598 766.881 Q145.598 759.751 143.769 756.209 Q141.964 752.645 138.33 752.645 M138.33 748.941 Q144.14 748.941 147.195 753.547 Q150.274 758.131 150.274 766.881 Q150.274 775.608 147.195 780.214 Q144.14 784.797 138.33 784.797 Q132.519 784.797 129.441 780.214 Q126.385 775.608 126.385 766.881 Q126.385 758.131 129.441 753.547 Q132.519 748.941 138.33 748.941 Z\" fill=\"#000000\" fill-rule=\"evenodd\" fill-opacity=\"1\" /><path clip-path=\"url(#clip140)\" d=\"M63.9319 408.605 Q60.3208 408.605 58.4921 412.169 Q56.6865 415.711 56.6865 422.841 Q56.6865 429.947 58.4921 433.512 Q60.3208 437.054 63.9319 437.054 Q67.5661 437.054 69.3717 433.512 Q71.2004 429.947 71.2004 422.841 Q71.2004 415.711 69.3717 412.169 Q67.5661 408.605 63.9319 408.605 M63.9319 404.901 Q69.742 404.901 72.7976 409.507 Q75.8763 414.091 75.8763 422.841 Q75.8763 431.567 72.7976 436.174 Q69.742 440.757 63.9319 440.757 Q58.1217 440.757 55.043 436.174 Q51.9875 431.567 51.9875 422.841 Q51.9875 414.091 55.043 409.507 Q58.1217 404.901 63.9319 404.901 Z\" fill=\"#000000\" fill-rule=\"evenodd\" fill-opacity=\"1\" /><path clip-path=\"url(#clip140)\" d=\"M84.0938 434.206 L88.978 434.206 L88.978 440.086 L84.0938 440.086 L84.0938 434.206 Z\" fill=\"#000000\" fill-rule=\"evenodd\" fill-opacity=\"1\" /><path clip-path=\"url(#clip140)\" d=\"M97.9826 405.526 L120.205 405.526 L120.205 407.517 L107.658 440.086 L102.774 440.086 L114.58 409.461 L97.9826 409.461 L97.9826 405.526 Z\" fill=\"#000000\" fill-rule=\"evenodd\" fill-opacity=\"1\" /><path clip-path=\"url(#clip140)\" d=\"M129.371 405.526 L147.728 405.526 L147.728 409.461 L133.654 409.461 L133.654 417.933 Q134.672 417.586 135.691 417.424 Q136.709 417.239 137.728 417.239 Q143.515 417.239 146.894 420.41 Q150.274 423.581 150.274 428.998 Q150.274 434.577 146.802 437.679 Q143.33 440.757 137.01 440.757 Q134.834 440.757 132.566 440.387 Q130.32 440.016 127.913 439.276 L127.913 434.577 Q129.996 435.711 132.219 436.266 Q134.441 436.822 136.918 436.822 Q140.922 436.822 143.26 434.716 Q145.598 432.609 145.598 428.998 Q145.598 425.387 143.26 423.28 Q140.922 421.174 136.918 421.174 Q135.043 421.174 133.168 421.591 Q131.316 422.007 129.371 422.887 L129.371 405.526 Z\" fill=\"#000000\" fill-rule=\"evenodd\" fill-opacity=\"1\" /><path clip-path=\"url(#clip140)\" d=\"M53.7467 92.1107 L61.3856 92.1107 L61.3856 65.7451 L53.0754 67.4117 L53.0754 63.1525 L61.3393 61.4858 L66.0152 61.4858 L66.0152 92.1107 L73.654 92.1107 L73.654 96.0458 L53.7467 96.0458 L53.7467 92.1107 Z\" fill=\"#000000\" fill-rule=\"evenodd\" fill-opacity=\"1\" /><path clip-path=\"url(#clip140)\" d=\"M83.0984 90.1662 L87.9827 90.1662 L87.9827 96.0458 L83.0984 96.0458 L83.0984 90.1662 Z\" fill=\"#000000\" fill-rule=\"evenodd\" fill-opacity=\"1\" /><path clip-path=\"url(#clip140)\" d=\"M108.168 64.5645 Q104.557 64.5645 102.728 68.1293 Q100.922 71.671 100.922 78.8006 Q100.922 85.907 102.728 89.4718 Q104.557 93.0135 108.168 93.0135 Q111.802 93.0135 113.608 89.4718 Q115.436 85.907 115.436 78.8006 Q115.436 71.671 113.608 68.1293 Q111.802 64.5645 108.168 64.5645 M108.168 60.8608 Q113.978 60.8608 117.033 65.4673 Q120.112 70.0506 120.112 78.8006 Q120.112 87.5274 117.033 92.1338 Q113.978 96.7171 108.168 96.7171 Q102.358 96.7171 99.2789 92.1338 Q96.2234 87.5274 96.2234 78.8006 Q96.2234 70.0506 99.2789 65.4673 Q102.358 60.8608 108.168 60.8608 Z\" fill=\"#000000\" fill-rule=\"evenodd\" fill-opacity=\"1\" /><path clip-path=\"url(#clip140)\" d=\"M138.33 64.5645 Q134.719 64.5645 132.89 68.1293 Q131.084 71.671 131.084 78.8006 Q131.084 85.907 132.89 89.4718 Q134.719 93.0135 138.33 93.0135 Q141.964 93.0135 143.769 89.4718 Q145.598 85.907 145.598 78.8006 Q145.598 71.671 143.769 68.1293 Q141.964 64.5645 138.33 64.5645 M138.33 60.8608 Q144.14 60.8608 147.195 65.4673 Q150.274 70.0506 150.274 78.8006 Q150.274 87.5274 147.195 92.1338 Q144.14 96.7171 138.33 96.7171 Q132.519 96.7171 129.441 92.1338 Q126.385 87.5274 126.385 78.8006 Q126.385 70.0506 129.441 65.4673 Q132.519 60.8608 138.33 60.8608 Z\" fill=\"#000000\" fill-rule=\"evenodd\" fill-opacity=\"1\" /><polyline clip-path=\"url(#clip142)\" style=\"stroke:#009af9; stroke-linecap:round; stroke-linejoin:round; stroke-width:4; stroke-opacity:1; fill:none\" points=\"\n",
       "  247.59,1445.72 260.896,1445.1 383.935,1437.09 457.876,1429.46 520.392,1420.58 554.347,1414.55 588.302,1407.51 619.606,1399.97 650.909,1391.3 684.47,1380.56 \n",
       "  718.031,1368.12 756.914,1351.3 795.798,1331.54 830.353,1311.18 864.908,1287.92 895.209,1264.91 925.511,1239.31 958.548,1208.26 991.585,1173.82 1008.2,1155.2 \n",
       "  1024.82,1135.7 1041.43,1115.34 1058.05,1094.12 1076.42,1069.68 1094.79,1044.26 1113.17,1017.9 1131.54,990.665 1166.5,936.672 1201.46,880.357 1274.16,759.025 \n",
       "  1335.36,656.957 1372.72,596.722 1410.08,539.142 1444.3,489.339 1478.52,442.783 1510.13,402.911 1541.74,366.166 1573.76,332.167 1605.77,301.367 1623.72,285.47 \n",
       "  1641.66,270.519 1659.6,256.485 1677.54,243.336 1693.8,232.155 1710.06,221.644 1726.31,211.775 1742.57,202.519 1779.8,183.48 1817.03,167.163 1851.5,154.196 \n",
       "  1885.97,143.036 1919.95,133.583 1953.93,125.471 1986.93,118.71 2019.92,112.903 2087.57,103.457 2161.69,96.041 2269.35,89.0196 2291.44,87.9763 \n",
       "  \"/>\n",
       "<path clip-path=\"url(#clip140)\" d=\"\n",
       "M1987.39 198.898 L2280.54 198.898 L2280.54 95.2176 L1987.39 95.2176  Z\n",
       "  \" fill=\"#ffffff\" fill-rule=\"evenodd\" fill-opacity=\"1\"/>\n",
       "<polyline clip-path=\"url(#clip140)\" style=\"stroke:#000000; stroke-linecap:round; stroke-linejoin:round; stroke-width:4; stroke-opacity:1; fill:none\" points=\"\n",
       "  1987.39,198.898 2280.54,198.898 2280.54,95.2176 1987.39,95.2176 1987.39,198.898 \n",
       "  \"/>\n",
       "<polyline clip-path=\"url(#clip140)\" style=\"stroke:#009af9; stroke-linecap:round; stroke-linejoin:round; stroke-width:4; stroke-opacity:1; fill:none\" points=\"\n",
       "  2011.46,147.058 2155.89,147.058 \n",
       "  \"/>\n",
       "<path clip-path=\"url(#clip140)\" d=\"M2193.81 166.745 Q2192 171.375 2190.29 172.787 Q2188.58 174.199 2185.71 174.199 L2182.3 174.199 L2182.3 170.634 L2184.8 170.634 Q2186.56 170.634 2187.53 169.8 Q2188.51 168.967 2189.69 165.865 L2190.45 163.921 L2179.97 138.412 L2184.48 138.412 L2192.58 158.689 L2200.68 138.412 L2205.2 138.412 L2193.81 166.745 Z\" fill=\"#000000\" fill-rule=\"evenodd\" fill-opacity=\"1\" /><path clip-path=\"url(#clip140)\" d=\"M2212.49 160.402 L2220.13 160.402 L2220.13 134.037 L2211.82 135.703 L2211.82 131.444 L2220.08 129.778 L2224.76 129.778 L2224.76 160.402 L2232.4 160.402 L2232.4 164.338 L2212.49 164.338 L2212.49 160.402 Z\" fill=\"#000000\" fill-rule=\"evenodd\" fill-opacity=\"1\" /></svg>\n"
      ]
     },
     "execution_count": 9,
     "metadata": {},
     "output_type": "execute_result"
    }
   ],
   "source": [
    "slow_sigmoid(x::Number) = 1 ./ (1 .+ exp.(.-x))\n",
    "plot(slow_sigmoid)"
   ]
  },
  {
   "cell_type": "markdown",
   "id": "da74369f-d2c4-4030-b977-e88f0483287e",
   "metadata": {},
   "source": [
    "#### Define the network architecture"
   ]
  },
  {
   "cell_type": "code",
   "execution_count": 36,
   "id": "49ba2eb0-899e-4e4a-b2c2-3374e1a8ea61",
   "metadata": {},
   "outputs": [
    {
     "data": {
      "text/plain": [
       "Chain(\n",
       "  Dense(784 => 32, slow_sigmoid),       \u001b[90m# 25_120 parameters\u001b[39m\n",
       "  Dense(32 => 16, slow_sigmoid),        \u001b[90m# 528 parameters\u001b[39m\n",
       "  Dense(16 => 10, slow_sigmoid),        \u001b[90m# 170 parameters\u001b[39m\n",
       ") \u001b[90m                  # Total: 6 arrays, \u001b[39m25_818 parameters, 101.227 KiB."
      ]
     },
     "execution_count": 36,
     "metadata": {},
     "output_type": "execute_result"
    }
   ],
   "source": [
    "model = Chain(\n",
    "  Dense(28 * 28, 32, slow_sigmoid),       \n",
    "  Dense(32, 16, slow_sigmoid),          \n",
    "  Dense(16, 10, slow_sigmoid),              \n",
    ")\n",
    "model"
   ]
  },
  {
   "cell_type": "markdown",
   "id": "61d443dd-beb8-4c29-8e9d-e3b872822e12",
   "metadata": {},
   "source": [
    "#### Define the loss function and an accuracy measure for evaluation"
   ]
  },
  {
   "cell_type": "code",
   "execution_count": null,
   "id": "f0a4ae0e-f7ea-4541-a80a-6720b5ab01ab",
   "metadata": {},
   "outputs": [],
   "source": [
    "loss(x, y) = Flux.Losses.logitcrossentropy(model(Flux.flatten(x)), y)\n",
    "accuracy(x,y) = sum(y' .== [c.I[1]-1 for c in argmax(model(Flux.flatten(x)), dims=1)])/length(y)"
   ]
  },
  {
   "cell_type": "markdown",
   "id": "4cfa0030-4142-4c92-91cd-26f5fc66685b",
   "metadata": {},
   "source": [
    "# Train Neural Network"
   ]
  },
  {
   "cell_type": "code",
   "execution_count": 10,
   "id": "552342d6-c1ef-42aa-8fc8-d59bc283001e",
   "metadata": {},
   "outputs": [
    {
     "data": {
      "text/plain": [
       "train_batch (generic function with 1 method)"
      ]
     },
     "execution_count": 10,
     "metadata": {},
     "output_type": "execute_result"
    }
   ],
   "source": [
    "function train_batch(x, y, loss, opt, params, epochs; batchsize=1024)\n",
    "    gpu_Xtest = Xtest # gpu here is a misnomer since for networks that small, training on a GPU does not make sense\n",
    "    gpu_Ytest = Ytest\n",
    "    gpu_ytest = ytest\n",
    "    gpu_train_Xtest = x[:,:,:, 1:512]\n",
    "    gpu_train_Ytest = y[:, 1:512]\n",
    "    p = Progress(epochs, showspeed=true)\n",
    "    for epoch in 1:epochs\n",
    "        data = MLUtils.eachobs(MLUtils.shuffleobs((x, y)), batchsize=batchsize)\n",
    "        for batch in data\n",
    "            x_ = augment_batch(batch[1], augmentpipeline)\n",
    "            y_ = batch[2]\n",
    "            batch = (batch[1], batch[2])\n",
    "            Flux.train!(loss, params, [batch], opt)\n",
    "        end\n",
    "        trainloss = loss(gpu_train_Xtest, gpu_train_Ytest)\n",
    "        testloss = loss(gpu_Xtest, gpu_Ytest)\n",
    "        testaccuracy = accuracy(gpu_Xtest, ytest)\n",
    "        ProgressMeter.next!(p; showvalues = [(:testloss, testloss), (:testaccuracy, testaccuracy), (:trainloss, trainloss)])\n",
    "    end\n",
    "end"
   ]
  },
  {
   "cell_type": "code",
   "execution_count": null,
   "id": "f260d57f-418c-44d2-a5d6-59a327276152",
   "metadata": {},
   "outputs": [],
   "source": [
    "train_batch(Xtrain, Ytrain, loss, Flux.Optimise.Optimiser(Flux.Optimise.ClipValue(1e-3), RAdam(0.001)), Flux.params(model), 150; batchsize=128)"
   ]
  },
  {
   "cell_type": "markdown",
   "id": "dfa20069-eec8-4619-94f7-363428fb789b",
   "metadata": {},
   "source": [
    "### Save and/or Load the model so we don't have to train every time again"
   ]
  },
  {
   "cell_type": "code",
   "execution_count": 75,
   "id": "da6a4d2a-cb34-4f40-8f52-ce1a15fed087",
   "metadata": {},
   "outputs": [],
   "source": [
    "@save \"fashionMNIST_small_dense_acc86.bson\" model"
   ]
  },
  {
   "cell_type": "code",
   "execution_count": 10,
   "id": "3dbb526b-1732-47dc-b55a-f4a646a84b33",
   "metadata": {},
   "outputs": [
    {
     "data": {
      "text/plain": [
       "Chain(\n",
       "  Dense(784 => 32, slow_sigmoid),       \u001b[90m# 25_120 parameters\u001b[39m\n",
       "  Dense(32 => 16, slow_sigmoid),        \u001b[90m# 528 parameters\u001b[39m\n",
       "  Dense(16 => 10, slow_sigmoid),        \u001b[90m# 170 parameters\u001b[39m\n",
       ") \u001b[90m                  # Total: 6 arrays, \u001b[39m25_818 parameters, 101.227 KiB."
      ]
     },
     "execution_count": 10,
     "metadata": {},
     "output_type": "execute_result"
    }
   ],
   "source": [
    "@load \"fashionMNIST_small_dense_acc86.bson\" model\n",
    "model"
   ]
  },
  {
   "cell_type": "markdown",
   "id": "cd3092df-5ab1-4a06-8da3-f1a5c041a6a6",
   "metadata": {},
   "source": [
    "# Define Record Type for Formula Extraction"
   ]
  },
  {
   "cell_type": "markdown",
   "id": "eb94d010-5f94-40fe-b2ad-a153ac74c03b",
   "metadata": {},
   "source": [
    "We now define a data type that we will send through the network instead of a floating point number. The new data type wraps another data type (e.g. a float) but also records everything that happens to it and generates a formula for the value that it wraps while it is manipulated.\n",
    "\n",
    "We can then send a matrix of instances of this data type through the network and the output values will not only be the correct neuron outputs, but also a formula of how we got to this result.\n",
    "\n",
    "More info can be found in the white paper."
   ]
  },
  {
   "cell_type": "code",
   "execution_count": 5,
   "id": "9aa83f39-f3c1-4537-89d4-421008079803",
   "metadata": {},
   "outputs": [
    {
     "data": {
      "text/plain": [
       "joinrecurse"
      ]
     },
     "execution_count": 5,
     "metadata": {},
     "output_type": "execute_result"
    }
   ],
   "source": [
    "\"\"\"\n",
    "Recursively joins strings and Arrays of String\n",
    "\"\"\"\n",
    "function joinrecurse(a)\n",
    "    if typeof(a) <: AbstractString\n",
    "        return a\n",
    "    end\n",
    "    return join([joinrecurse(i) for i in a])\n",
    "end"
   ]
  },
  {
   "cell_type": "code",
   "execution_count": 6,
   "id": "ed404ec9-33dd-48a0-84e4-0083ddfa9b23",
   "metadata": {},
   "outputs": [
    {
     "data": {
      "text/plain": [
       "recordtostring (generic function with 1 method)"
      ]
     },
     "execution_count": 6,
     "metadata": {},
     "output_type": "execute_result"
    }
   ],
   "source": [
    "struct RecordFormula{T<:Real} <: Number\n",
    "    val::T\n",
    "    formula::Vector{Any}\n",
    "end\n",
    "\n",
    "RecordFormula(v::T, f::S) where{T<:Real, S} = RecordFormula{T}(v, f)\n",
    "RecordFormula{S}(v::T) where {S, T<:Real} = RecordFormula{S}(S(v), [string(v)])\n",
    "RecordFormula(v::T) where {T<:Real} = RecordFormula{T}(v, [string(v)])\n",
    "RecordFormula(v::Bool) = RecordFormula{Int}(Int(v))\n",
    "val(r::RecordFormula) = r.val\n",
    "formula(r::RecordFormula) = joinrecurse(r.formula)\n",
    "Base.Pair(r::RecordFormula) = Pair(formula(r)=>val(r))\n",
    "\n",
    "Base.similar(a::Array{T}, m::Int) where {T<:RecordFormula} = zeros(T, m)\n",
    "Base.similar(a::AbstractArray{T}, dims::Base.DimOrInd...) where {T<:RecordFormula} = zeros(T, Base.to_shape(dims))\n",
    "Base.similar(a::Array{T}, dims::Dims{N}) where {T<:RecordFormula,N} = zeros(T, dims)\n",
    "Base.similar(a::AbstractArray, ::Type{T}, dims::Base.DimOrInd...) where {T<:RecordFormula} = zeros(T, Base.to_shape(dims))\n",
    "\n",
    "Base.typemin(t::Type{RecordFormula{T}}) where {T} = typemin(T)\n",
    "Base.typemin(x::RecordFormula{T}) where {T} = typemin(T)\n",
    "\n",
    "Base.convert(::Type{RecordFormula{T}}, v::T) where {T} = RecordFormula{T}(v, [string(v)])\n",
    "Base.convert(::Type{RecordFormula{S}}, v::RecordFormula{T}) where {S, T} = RecordFormula{S}(S(val(v)), v.formula)\n",
    "Base.convert(::Type{RecordFormula{T}}, x::Number) where {T} = RecordFormula(x)\n",
    "Base.promote_rule(::Type, ::Type{RecordFormula{T}}) where {T} = RecordFormula{T}\n",
    "Base.promote_rule(::Type{RecordFormula{S}}, ::Type{RecordFormula{T}}) where {S,T} = RecordFormula{promote_type(S,T)}\n",
    "Base.promote_rule(::Type{Bool}, ::Type{RecordFormula{T}}) where {T} = RecordFormula{T}\n",
    "\n",
    "Base.:(==)(a::RecordFormula, b::RecordFormula) = val(a) == val(b)\n",
    "\n",
    "recordtostring(r::RecordFormula) = formula(r)*\";\"*@sprintf(\"%.20g\", val(r))"
   ]
  },
  {
   "cell_type": "code",
   "execution_count": 7,
   "id": "d2063b9d-7a7e-4cfc-b84d-7b103e8d20c4",
   "metadata": {},
   "outputs": [],
   "source": [
    "for op in [:*, :+, :-, :/]\n",
    "    @eval begin\n",
    "        function Base.$op(a::RecordFormula, b::RecordFormula)\n",
    "            str = [\"(\", a.formula, string($op), b.formula, \")\"]\n",
    "            newval = $op(a.val, b.val)\n",
    "            \n",
    "            return RecordFormula(newval, str)\n",
    "        end\n",
    "    end\n",
    "end\n",
    "\n",
    "for op in [:sin, :cos, :tan, :tanh, :log, :exp, :-, :abs]\n",
    "    @eval begin\n",
    "        function Base.$op(a::RecordFormula)\n",
    "            str = [string($op), \"(\", a.formula, \")\"]\n",
    "            newval = $op(a.val)\n",
    "            \n",
    "            return RecordFormula(newval, str)\n",
    "        end\n",
    "    end\n",
    "end"
   ]
  },
  {
   "cell_type": "code",
   "execution_count": 9,
   "id": "226c06ec-04f8-4c68-9e4d-21a10c184edf",
   "metadata": {},
   "outputs": [],
   "source": [
    "function Base.max(a::RecordFormula, b::RecordFormula)\n",
    "    v = max(val(a), val(b))\n",
    "    return RecordFormula(v, [\"(\",formula(a),\" max \", formula(b),\")\"])\n",
    "end\n",
    "\n",
    "Base.max(a::Real, b::RecordFormula) = max(RecordFormula(a), b)"
   ]
  },
  {
   "cell_type": "markdown",
   "id": "3539ed0c-8a21-4d9d-9b8d-acb6165f5030",
   "metadata": {},
   "source": [
    "### Define functions to wrap elements of tensors/arrays into RecordFormulas to be passed through a neural network"
   ]
  },
  {
   "cell_type": "code",
   "execution_count": 16,
   "id": "93d2571c-fd0c-453c-9b3c-05e64820c5ba",
   "metadata": {},
   "outputs": [
    {
     "data": {
      "text/plain": [
       "recordify (generic function with 1 method)"
      ]
     },
     "execution_count": 16,
     "metadata": {},
     "output_type": "execute_result"
    }
   ],
   "source": [
    "function recordify(a::Array{T, 1}, name::String) where T\n",
    "    res = Array{RecordFormula, 1}(size(a))\n",
    "    for r in 1:size(a, 1)\n",
    "        res[r] = RecordFormula(a[r], [\"$(name)_$(r)_\"])\n",
    "    end\n",
    "    return res\n",
    "end"
   ]
  },
  {
   "cell_type": "code",
   "execution_count": 17,
   "id": "fd57dddb-6adb-419c-a4aa-12d58da89400",
   "metadata": {},
   "outputs": [
    {
     "data": {
      "text/plain": [
       "recordify (generic function with 2 methods)"
      ]
     },
     "execution_count": 17,
     "metadata": {},
     "output_type": "execute_result"
    }
   ],
   "source": [
    "function recordify(a::Array{T, 2}, name::String) where T\n",
    "    res = Array{RecordFormula, 2}(size(a))\n",
    "    for c in 1:size(a, 2)\n",
    "        for r in 1:size(a, 1)\n",
    "            res[r,c] = RecordFormula(a[r,c], [\"$(name)_$(r)_$(c)_\"])\n",
    "        end\n",
    "    end\n",
    "    return res\n",
    "end"
   ]
  },
  {
   "cell_type": "code",
   "execution_count": 18,
   "id": "9caf9b81-c5f4-46fa-8f82-01de5834eaac",
   "metadata": {},
   "outputs": [
    {
     "data": {
      "text/plain": [
       "recordify (generic function with 3 methods)"
      ]
     },
     "execution_count": 18,
     "metadata": {},
     "output_type": "execute_result"
    }
   ],
   "source": [
    "function recordify(a::Array{T, 3}, name::String) where T\n",
    "    res = Array{RecordFormula, 3}(size(a))\n",
    "    for k in 1:size(a, 3), j in 1:size(a, 2), i in 1:size(a, 1)\n",
    "        res[i,j,k] = RecordFormula(a[i,j,k], [\"$(name)_$(i)_$(j)_$(k)_\"])\n",
    "    end\n",
    "    return res\n",
    "end"
   ]
  },
  {
   "cell_type": "code",
   "execution_count": 19,
   "id": "6c8ae992-0f0b-47a1-88a0-612fd0e22182",
   "metadata": {},
   "outputs": [
    {
     "data": {
      "text/plain": [
       "recordify (generic function with 4 methods)"
      ]
     },
     "execution_count": 19,
     "metadata": {},
     "output_type": "execute_result"
    }
   ],
   "source": [
    "function recordify(a::Array{T, 4}, name::String) where T\n",
    "    res = Array{RecordFormula, 4}(size(a))\n",
    "    for l in 1:size(a, 4), k in 1:size(a, 3), j in 1:size(a, 2), i in 1:size(a, 1)\n",
    "        res[i,j,k,l] = RecordFormula(a[i,j,k,l], [\"$(name)_$(i)_$(j)_$(k)_$(l)_\"])\n",
    "    end\n",
    "    return res\n",
    "end"
   ]
  },
  {
   "cell_type": "markdown",
   "id": "25a2c488-ce27-4e7a-9cba-dede87b2b058",
   "metadata": {},
   "source": [
    "# Extract Formulas\n",
    "Define functions and helper functions to extract layerwise formulas from a neural networks"
   ]
  },
  {
   "cell_type": "code",
   "execution_count": 20,
   "id": "72705125-83db-436e-97a5-d209c15debcf",
   "metadata": {},
   "outputs": [
    {
     "data": {
      "text/plain": [
       "generate_layer_formula"
      ]
     },
     "execution_count": 20,
     "metadata": {},
     "output_type": "execute_result"
    }
   ],
   "source": [
    "\"\"\"Given the output of a layer, returns formulas for all the outputs and a new array where the formulas are replaced by intermediate variabels\"\"\"\n",
    "function generate_layer_formula(layer_out, layer_prefix)\n",
    "    res = copy(layer_out)\n",
    "    v = @view res[:]\n",
    "    formulas = []\n",
    "    for i in 1:length(v)\n",
    "        var_name = \"$(layer_prefix)_$i\"\n",
    "        f = formula(v[i])\n",
    "        push!(formulas, \"$var_name=$f\")\n",
    "        v[i] = RecordFormula(val(v[i]), [\"$(layer_prefix)_$i\"])\n",
    "    end\n",
    "        \n",
    "    return formulas, res\n",
    "end"
   ]
  },
  {
   "cell_type": "code",
   "execution_count": 21,
   "id": "d17456ed-cef1-4f64-9d1c-fcb133e81ea2",
   "metadata": {},
   "outputs": [
    {
     "data": {
      "text/plain": [
       "generate_input"
      ]
     },
     "execution_count": 21,
     "metadata": {},
     "output_type": "execute_result"
    }
   ],
   "source": [
    "\"\"\"Given an input image, creates an input with input variable placeholders to create formulas\"\"\"\n",
    "function generate_input(img)\n",
    "    o = map(x->RecordFormula(x[2], [\"in_$(x[1])\"]), enumerate(img))\n",
    "    return o\n",
    "end"
   ]
  },
  {
   "cell_type": "code",
   "execution_count": 22,
   "id": "cd59ffd5-6f1b-4399-8836-7d66db94f706",
   "metadata": {},
   "outputs": [
    {
     "data": {
      "text/plain": [
       "formalize_model"
      ]
     },
     "execution_count": 22,
     "metadata": {},
     "output_type": "execute_result"
    }
   ],
   "source": [
    "\"\"\"Given a model and an input, returns all formulas for all the layers of it\"\"\"\n",
    "function formalize_model(model, input)\n",
    "    input = Flux.flatten(input)\n",
    "    all_formulas = []\n",
    "    max_layers = length(model)\n",
    "    @showprogress for (i, layer) in enumerate(model)\n",
    "        model_out = layer(input)\n",
    "        layer_output_name = i == max_layers ? \"out\" : \"l$i\" \n",
    "        formulas, input = generate_layer_formula(model_out, layer_output_name)\n",
    "        push!(all_formulas, formulas)\n",
    "    end\n",
    "    return all_formulas\n",
    "end"
   ]
  },
  {
   "cell_type": "code",
   "execution_count": 23,
   "id": "84e2038d-0faa-44d1-8ebd-0e856dc762c4",
   "metadata": {},
   "outputs": [
    {
     "data": {
      "text/plain": [
       "convert_image"
      ]
     },
     "execution_count": 23,
     "metadata": {},
     "output_type": "execute_result"
    }
   ],
   "source": [
    "\"\"\"Given an image, converts it to input assignments for the formulas and expected outputs, used for testing\"\"\"\n",
    "function convert_image(img, model)\n",
    "    img = Flux.flatten(img)\n",
    "    input = [\"in_$i=$val\" for (i, val) in enumerate(vec(img[:,:,:,:]))]\n",
    "    model_output = model(img)\n",
    "    output = [\"out_$i=$val\" for (i, val) in enumerate(vec(model_output))]\n",
    "    return input, output\n",
    "end"
   ]
  },
  {
   "cell_type": "code",
   "execution_count": 24,
   "id": "99e71fb7-c398-4f19-ae2c-27976758cf44",
   "metadata": {},
   "outputs": [
    {
     "name": "stderr",
     "output_type": "stream",
     "text": [
      "\u001b[32mProgress: 100%|█████████████████████████████████████████| Time: 0:00:00\u001b[39m\n"
     ]
    }
   ],
   "source": [
    "# Generate formulas for the newtork using an arbitrary image as a dummy for input conversion\n",
    "all_formulas = formalize_model(model, generate_input(Xtrain[:,:,:,1:1]));"
   ]
  },
  {
   "cell_type": "markdown",
   "id": "ecbb8230-b89d-4820-b242-af705b3f76de",
   "metadata": {},
   "source": [
    "### Code to check the correctness of the generated formulas"
   ]
  },
  {
   "cell_type": "code",
   "execution_count": 25,
   "id": "b01bb012-16a5-4bef-a5ee-74b6ea62cc5b",
   "metadata": {},
   "outputs": [
    {
     "data": {
      "text/plain": [
       "quick_eval_formulas"
      ]
     },
     "execution_count": 25,
     "metadata": {},
     "output_type": "execute_result"
    }
   ],
   "source": [
    "\"\"\"Given one formula and variable assignments, returns assignment for the output variable of the formula\"\"\"\n",
    "function quick_eval_formula(formula)\n",
    "    variable, formula = split(formula, \"=\")\n",
    "    res = eval(Meta.parse(String(formula)))\n",
    "    return \"$variable=$res\"\n",
    "end\n",
    "\n",
    "function eval_variables(variables)\n",
    "    for v in variables\n",
    "        eval(Meta.parse(v))\n",
    "    end\n",
    "end\n",
    "\n",
    "\"\"\"Given one formula and variable assignments, returns assignment for the output variable of the formula\"\"\"\n",
    "function quick_eval_formula(formula, input)\n",
    "    eval_variables(input)\n",
    "    quick_eval_formula(formula)\n",
    "end\n",
    "\n",
    "\"\"\"Evaluates all results from formulas generated from a neural network\"\"\"\n",
    "function quick_eval_formulas(all_formulas, input)\n",
    "    results = []\n",
    "    for layer in all_formulas\n",
    "        eval_variables(input)\n",
    "        new_inpt = []\n",
    "        @showprogress for formula in layer\n",
    "            out = quick_eval_formula(formula)\n",
    "            push!(new_inpt, out)\n",
    "        end\n",
    "        push!(results, new_inpt)\n",
    "        input=new_inpt\n",
    "    end\n",
    "    return results\n",
    "end"
   ]
  },
  {
   "cell_type": "code",
   "execution_count": 26,
   "id": "980bb026-9101-4971-9e19-fd6bc2c529c1",
   "metadata": {},
   "outputs": [
    {
     "data": {
      "text/plain": [
       "([\"in_1=0.0\", \"in_2=0.0\", \"in_3=0.0\", \"in_4=0.0\", \"in_5=0.0\", \"in_6=0.0\", \"in_7=0.0\", \"in_8=0.0\", \"in_9=0.0\", \"in_10=0.0\"  …  \"in_775=0.0\", \"in_776=0.11372549086809158\", \"in_777=0.26274511218070984\", \"in_778=0.45098039507865906\", \"in_779=0.3607843220233917\", \"in_780=0.0\", \"in_781=0.0\", \"in_782=0.0\", \"in_783=0.0\", \"in_784=0.0\"], [\"out_1=7.195017215922993e-7\", \"out_2=1.3992065222262357e-8\", \"out_3=2.1722752647659776e-36\", \"out_4=2.1147685990010637e-9\", \"out_5=9.105949801740698e-30\", \"out_6=5.076764472763604e-5\", \"out_7=2.0398359679895836e-15\", \"out_8=5.836477275531755e-7\", \"out_9=1.804053291273806e-7\", \"out_10=0.9999997273455952\"])"
      ]
     },
     "execution_count": 26,
     "metadata": {},
     "output_type": "execute_result"
    }
   ],
   "source": [
    "i, o = convert_image(Xtrain[:,:,:,1:1], model)"
   ]
  },
  {
   "cell_type": "code",
   "execution_count": 39,
   "id": "debcb248-f24b-47e0-9e80-d43187cda085",
   "metadata": {},
   "outputs": [
    {
     "name": "stderr",
     "output_type": "stream",
     "text": [
      "\u001b[32mProgress: 100%|█████████████████████████████████████████| Time: 0:00:01\u001b[39m\n"
     ]
    },
    {
     "name": "stdout",
     "output_type": "stream",
     "text": [
      "Difference formulas/direct model output: 1.1368684e-13\n",
      "Difference formulas/direct model output: -1.7763568e-15\n",
      "Difference formulas/direct model output: 3.59e-43\n",
      "Difference formulas/direct model output: -8.881784e-16\n",
      "Difference formulas/direct model output: -3.0092655e-36\n",
      "Difference formulas/direct model output: 1.4551915e-11\n",
      "Difference formulas/direct model output: 2.1175824e-22\n",
      "Difference formulas/direct model output: 1.1368684e-13\n",
      "Difference formulas/direct model output: 0.0\n",
      "Difference formulas/direct model output: 0.0\n"
     ]
    }
   ],
   "source": [
    "results = quick_eval_formulas(all_formulas, i)\n",
    "for (res, expected) in zip(results[end], o)\n",
    "    res = parse(Float32, split(res, \"=\")[end])\n",
    "    expected = parse(Float32, split(expected, \"=\")[end])\n",
    "    println(\"Difference formulas/direct model output: $(res-expected)\")\n",
    "end"
   ]
  },
  {
   "cell_type": "markdown",
   "id": "b8479a9f-4f69-44a6-8ee4-806086842a29",
   "metadata": {},
   "source": [
    "### Generate output files for the network as required by Paceval\n",
    "Docstrings are part of an email from Jörg, defining the required output format"
   ]
  },
  {
   "cell_type": "code",
   "execution_count": 117,
   "id": "b2d9fbfa-54d7-44ef-bb1f-6fa760111abb",
   "metadata": {},
   "outputs": [
    {
     "data": {
      "text/plain": [
       "write_formulas"
      ]
     },
     "execution_count": 117,
     "metadata": {},
     "output_type": "execute_result"
    }
   ],
   "source": [
    "\"\"\"\n",
    "we create the files for all layers with the individual functions that provide\n",
    "variable results (l1_1, l1_2, ..., l2_1, l2_2, ...), as well as the functions\n",
    "for the outputs (out_1, out_2, ...) in the folder \"formulas\".\n",
    "\"\"\"\n",
    "function write_formulas(all_formulas, base_dir)\n",
    "    formulas = Base.Iterators.flatten(all_formulas)|>collect\n",
    "    for (varname, formula) in split.(formulas, \"=\")\n",
    "        open(joinpath(base_dir, varname*\".txt\"), \"w\") do io\n",
    "            println(io, formula)\n",
    "        end\n",
    "    end\n",
    "end"
   ]
  },
  {
   "cell_type": "code",
   "execution_count": 47,
   "id": "baf764b5-974e-4950-a775-36602fd34c6b",
   "metadata": {},
   "outputs": [
    {
     "data": {
      "text/plain": [
       "write_input_variable_names (generic function with 1 method)"
      ]
     },
     "execution_count": 47,
     "metadata": {},
     "output_type": "execute_result"
    }
   ],
   "source": [
    "\"\"\"\n",
    "we create the file 'paceval_variablesString.txt', which stores all variable\n",
    "identifiers used in the exported functions in the \"formulas\" folder.\n",
    "\"\"\"\n",
    "get_input_variable_names(example_input_formulas) = first.(split.(example_input_formulas, \"=\"))\n",
    "\n",
    "function write_input_variable_names(example_input_formulas, filename)\n",
    "    open(filename, \"w\") do io\n",
    "        variable_names = get_input_variable_names(example_input_formulas)\n",
    "        println(io, join(variable_names, \" \"))\n",
    "    end\n",
    "end"
   ]
  },
  {
   "cell_type": "code",
   "execution_count": 58,
   "id": "4a6b0565-2d27-43a9-954e-2f3072a2dd87",
   "metadata": {},
   "outputs": [
    {
     "data": {
      "text/plain": [
       "write_layer_variable_names (generic function with 1 method)"
      ]
     },
     "execution_count": 58,
     "metadata": {},
     "output_type": "execute_result"
    }
   ],
   "source": [
    "\"\"\"\n",
    "we create the file 'paceval_layerVariableNames.txt', in which all\n",
    "layers (l1_1, l1_2, ..., l2_1, l2_2, ...) up to the outputs (out_1, out_2, ...)\n",
    "are listed, in the order in which they must be processed (if layers can be\n", 
    "parallelized, they are listed in one line).\n",
    "\"\"\"\n",
    "function get_layer_variable_names(all_formulas)\n",
    "    result_layers = []\n",
    "    for layer in all_formulas\n",
    "        layer_variable_names = join(first.(split.(layer, \"=\")), \" \")\n",
    "        push!(result_layers, layer_variable_names)\n",
    "    end\n",
    "    result_layers\n",
    "end\n",
    "\n",
    "function write_layer_variable_names(all_formulas, filename)\n",
    "    open(filename, \"w\") do io\n",
    "        layer_variable_names = get_layer_variable_names(all_formulas)\n",
    "        for layer in layer_variable_names\n",
    "            println(io, layer)\n",
    "        end\n",
    "    end\n",
    "end"
   ]
  },
  {
   "cell_type": "markdown",
   "id": "91993945-9e93-40e2-90f4-eb5cc3f872a1",
   "metadata": {},
   "source": [
    "### Generate formulas for paceval"
   ]
  },
  {
   "cell_type": "code",
   "execution_count": 118,
   "id": "ce53c954-121c-4bec-a5e1-30894ea22863",
   "metadata": {},
   "outputs": [],
   "source": [
    "write_formulas(all_formulas, \"results/formulas\")\n",
    "write_input_variable_names(i, \"results/paceval_variablesString.txt\")\n",
    "write_layer_variable_names(all_formulas, \"results/paceval_layerVariableNames.txt\")"
   ]
  },
  {
   "cell_type": "markdown",
   "id": "19d0878e-3944-4f92-bb52-5513bc8023a9",
   "metadata": {},
   "source": [
    "## Generate Sample Files to be used for Testing"
   ]
  },
  {
   "cell_type": "code",
   "execution_count": 99,
   "id": "e6653939-b2bc-4b35-b43c-2a5fe60a8fbd",
   "metadata": {},
   "outputs": [
    {
     "data": {
      "text/plain": [
       "write_image (generic function with 1 method)"
      ]
     },
     "execution_count": 99,
     "metadata": {},
     "output_type": "execute_result"
    }
   ],
   "source": [
    "\"\"\"\n",
    "we create the example files in the folder \"examples\" (each text line with\n",
    "values ​​in the file corresponds to a pixel line of the image).\n",
    "\"\"\"\n",
    "partition(v, partition_size) = reshape(v, (partition_size, :))\n",
    "get_vals(v) = last.(split.(v,\"=\"))\n",
    "\n",
    "function write_image(img, model, base_filename)\n",
    "    input, output = convert_image(img, model)\n",
    "    input, output = get_vals(input), get_vals(output)\n",
    "    \n",
    "    width = size(img, 1)\n",
    "    input = partition(input, width)\n",
    "    \n",
    "    open(base_filename*\".sample\", \"w\") do io\n",
    "        for i in 1:size(input,2)\n",
    "            println(io, join(input[:, i], \";\"))\n",
    "        end\n",
    "    end\n",
    "    \n",
    "    open(base_filename*\".expected_output\", \"w\") do io\n",
    "        println(io, join(output, \";\"))\n",
    "    end\n",
    "end"
   ]
  },
  {
   "cell_type": "code",
   "execution_count": 120,
   "id": "13372e53-a34a-46b2-9de1-fcebd4008106",
   "metadata": {},
   "outputs": [
    {
     "data": {
      "text/plain": [
       "get_correctly_predicted_samples"
      ]
     },
     "execution_count": 120,
     "metadata": {},
     "output_type": "execute_result"
    }
   ],
   "source": [
    "\"\"\"Given the test dataset and a model, collects samples for each class that are correctly predicted by the network\"\"\"\n",
    "function get_correctly_predicted_samples(X, Y, model, n)\n",
    "    correct = vec([c.I[1]-1 for c in argmax(model(Flux.flatten(Xtest)), dims=1)]) .== ytest\n",
    "    correct_X = X[:,:,:,correct]\n",
    "    correct_Y = Y[correct]\n",
    "    \n",
    "    allcls = unique(correct_Y)\n",
    "    samples = Dict(i => [] for i in allcls)\n",
    "    \n",
    "    isfull(d) = all(length.(values(d)) .== n)\n",
    "    \n",
    "    for (i, cls) in enumerate(correct_Y)\n",
    "        isfull(samples) && break\n",
    "        length(samples[cls]) == n && continue\n",
    "        push!(samples[cls], correct_X[:,:,:,i:i])\n",
    "    end\n",
    "    \n",
    "    return samples\n",
    "end"
   ]
  },
  {
   "cell_type": "code",
   "execution_count": 71,
   "id": "40d30ab7-34c3-4206-8bd0-90ba85e4043c",
   "metadata": {},
   "outputs": [
    {
     "data": {
      "text/html": [
       "<table><tbody><tr><td style='text-align:center;vertical-align:middle; margin: 0.5em;border:1px #90999f solid;border-collapse:collapse'><img style='max-width: 100px; max-height:100px;display:inline' src=\"data:image/png;base64,iVBORw0KGgoAAAANSUhEUgAAAHAAAABwCAAAAADji6uXAAAABGdBTUEAALGPC/xhBQAAAAFzUkdCAK7OHOkAAAAgY0hSTQAAeiYAAICEAAD6AAAAgOgAAHUwAADqYAAAOpgAABdwnLpRPAAAA3lJREFUaAW9wb9rXWUYAODnO+dNbtM0NKIoAVEUQXRRpCCCgoqDODj5H+gkCuJQitKlsy5CN51cdBOcHHQUXcQuFUGoihp/Ya0mMc2993wOZzi5N83R6X2e8D+cwRv4EO/hJ7078Aruwcv41n8LyUKykCwcYwUv4WnciZ/wKl7DVcyxha+wh0/wOT7A+44XkoVkIVm4gYdwHjdjiu9RcRmnsIsZfsY+WnyNW/AiXsdjuOaokCwkC8nCDVzEFH9jgkBFxXWso0OHCareDH9ihnfxrKNCspAsJAtLHsQUU5xAYGYwQ9WraNHpNbgJe1jH/bhsUUgWkoVkYclbuBvf4gAzNPhLL7CKig4zFEywigO0aPAcLlgUkoVkIVlYsoWTWMMBCnZwGrdjF6cxwS4m+A2/ouitYQ+P44JFIVlIFpKFQ57EJv7GHB0a3I/r+A4/4ARuxTXciR08jC9xoNdhBw/gkkFIFpKFZOGQJ3ACf2CGinvxBfZxoBf4E1dR8Rmu4VF8ihlWcQpP4ZJBSBaShWThkPP4GWfxCD7GH5jiS7yADhOcwi84wDbuwzYCt+EAZ/GRRSFZSBaShSUXcRHP4xyu4Awewz/Yxj5mOInTeAar+AZbeBtvurGQLCQLycIhBQUd3sE5bOAK1vE7VtFgDfvYxAQz3IVf8aZei7lFIVlIFpKFQyqKQYuKFv9gA3NUtJhiExu4imrR3FEhWUgWkoUl1WCKqhfoUNBijnX8iNC7jh2DgmpRSBaShWRhSUG1qOgVtCiomGAXX6NBg2JQHRWShWQhWRjRoRgUNHoVFauYYQ8bqAYF1aKQLCQLycKIOQoqKloUvYoOBSuYo/hvIVlIFpKFEQ0adI5q0GCOioKKxriQLCQLycKIBg06NCho0DmqQYdV40KykCwkCyMKKjoEKjo0KKhoMUeDipPGhWQhWUgWlhSL5noNOoOqV1AMWuNCspAsJAtLqkGgoqCiGlR0aAwKDowLyUKykCyMaPVazNHptQadRTPjQrKQLCQLx1jHFbRYQafXoaKgGgQqqnEhWUgWkoURDRp0mBpUFBS9arBmXEgWkoVk4RgVHVrs6xW06FDR6FXM0WJqXEgWkoVkYUnRK5hgFQUzzFDQoUOgxQoKWmwaF5KFZCFZWFL1dvELVrCDLazpzRCYILCLffyFbeNCspAsJPsXOarcqeruCQMAAAAASUVORK5C\"></td><td style='text-align:center;vertical-align:middle; margin: 0.5em;border:1px #90999f solid;border-collapse:collapse'><img style='max-width: 100px; max-height:100px;display:inline' src=\"data:image/png;base64,iVBORw0KGgoAAAANSUhEUgAAAHAAAABwCAAAAADji6uXAAAABGdBTUEAALGPC/xhBQAAAAFzUkdCAK7OHOkAAAAgY0hSTQAAeiYAAICEAAD6AAAAgOgAAHUwAADqYAAAOpgAABdwnLpRPAAAAppJREFUaAW9wU+rlGUYB+BrZn7HsfGgFGK1CMIiEgojCKzctY0g2rUI+gItW9fnaNmiVkUgtRGCAlsEUeCiRdk/SQo9knnMcebM2+JZDBL4vG3u64qOCQa8hLfwLR7CD9jF/VjhJF7VF8WiWBSLjgkGvIsX8YrmBhYIbmGBl3HOvUWxKBbFomOjOY09XMURzHANa0zwOJ7EOfcWxaJYFIuRdnEVRzHFEjPMsdQ8oi+KRbEoFiM8qFlhwBQzrLHBgBs4oS+KRbEoFiM8pVnhPhzgAFNMMMMSx/VFsSgWxWKE07iD21hgjqPYw4AJ5tjXF8WiWBSLEZ7DBguscQzf4BlcxxIL/KYvikWxKBYjnMIKG+ziCs5gwBRTBHv6olgUi2IxwjGsscEuPrI1w4HmkL4oFsWiWIxwArcwaD7QLPEArmkW+qJYFItiMcICNxHN55qv8Dxmmmv6olgUi2LxP+xgjaXmZ5zFRPOXvigWxaJYjDRgBz/auowpBuNFsSgWxWKkNY7goq1P8TamxotiUSyKxUhTTPCTre9wCDuafX1RLIpFsRjhMhbY4Hdba81Ms68vikWxKBYj/IHHMMMTtu5oDjQLfVEsikWxGOFrnMISp/3XXLPUF8WiWBSLEb7Am1jhWXc7wEyz0RfFolgUixEu4DbW+NPd/sZEM9UXxaJYFIsRfsENzHEYJ3FJs0I0M31RLIpFsRhpjhnmOIlLmit4FHuY6YtiUSyKRccEAz7G65jgLM5r9jUTXNcXxaJYFIuOCQZ8gjewwmt4RxMMGLDUF8WiWBSLjik2+AzXMcfG1kU8jX/wsL4oFsWiWHQc2PoVZ3AEL+ACZjiMHRzXF8WiWBSLjsHWe/geH+KC5n0cw018qS+KRbEo9i+gPX918ef/mAAAAABJRU5ErkJg\"></td><td style='text-align:center;vertical-align:middle; margin: 0.5em;border:1px #90999f solid;border-collapse:collapse'><img style='max-width: 100px; max-height:100px;display:inline' src=\"data:image/png;base64,iVBORw0KGgoAAAANSUhEUgAAAHAAAABwCAAAAADji6uXAAAABGdBTUEAALGPC/xhBQAAAAFzUkdCAK7OHOkAAAAgY0hSTQAAeiYAAICEAAD6AAAAgOgAAHUwAADqYAAAOpgAABdwnLpRPAAAA7xJREFUaAW9wcuPXnMYAODnnO/95lK9jo5MVZBSWpEoC0lFmojEQkg3LPwDFhZiZWEjcUnYWFqIRLBii8RGsHENCQui0USkkpaqjE5nvs7MOcfit/hyzgzB4n2e8C/twp34QN8dWMEp/05IFpKFZOEfzOEJPIJ9WMQqFkxNsIYGH+NVvO/vhWQhWUgW/saLeBS7sIY1XMA8LqHGOlZRYxYP4CQ+xQnbC8lCspAsbONRPImzuIQOFcaYYIIOHUIxwQoa3IV38KCtQrKQLCQL23gWf6LFCEuKP9BiE1dgDhdQo8EsKpzDCezHeX0hWUgWkoVt7MFl1FjCy3gFX+EsrsFF/IyrsI4D+AUT7MY8DuG8vpAsJAvJwjZmMUGleArLGGEeH+EexXc4it14HM/hN9S4G1/oC8lCspAsDMwoWswq3sBJxQLuwTP4E49gAdfibTyHGg2O2SokC8lCsjBwtaLFvOKgqYcVb2INI3yDA1jRd9hWIVlIFpKFgUVTY2zgIGrFx4r3cQi/4358iG+wghqbWLJVSBaShWRh4KCiUqxiCS0q3IwXcIPiexzBdXgMx3EB6zhoq5AsJAvJwsCiosUIgRU8jzHuw224FbtwBC/gLRxTjNBibKuQLCQLycLAAUWLGoFlPKVYxjncojiLRUwUHUZoFSM0pkKykCwkCwOLptbxAU7gDBrMIHBRMcY5zOIilnEMvyuux2lTIVlIFpKFgb2KnTiD13E/VhU1KoSiQ2AWm3gNx0ztx2lTIVlIFpKFgQV02IHf8IdiA4FOX4cROszgc0WHNdT6QrKQLCQLA3txGXNYwVHFJsaKzlSFDh32olNUqLFfX0gWkoVkYWCETvEDblB0qNGhMtVhhMvYg18VI1RY1BeShWQhWRgINIpTOKEIRYUKnaJCjU3FGZzBlYqd+kKykCwkCwMTNIoWR7CB2lY1OrRoFDfiLJawjh36QrKQLCQLA5sYKca4EqsY6etMtRgpTuIn3I4O+/SFZCFZSBYGGswpjmAGlxFoUSkqVOgUI8X1+BYPocNYX0gWkoVkYWAdlWIf5rGOVtEqOnToUKHCMo7jlKLDvL6QLCQLycLABtawEy/hXsyjMdWhQ6UYocFufIR38TQazOgLyUKykCwM7ECDDYxxHodxGrWpSlGhxSYW8CvOKxpcpy8kC8lCsjDwCY5jglO4yX93CBcxhy/1hWQhWUgWBr7ADqyj9f+MMYsZrOgLyUKykCwM/IKvMcElRaBB5Z9VaPAj3sMefKYvJAvJQrK/AJpx10NtCMriAAAAAElFTkSuQmCC\"></td><td style='text-align:center;vertical-align:middle; margin: 0.5em;border:1px #90999f solid;border-collapse:collapse'><img style='max-width: 100px; max-height:100px;display:inline' src=\"data:image/png;base64,iVBORw0KGgoAAAANSUhEUgAAAHAAAABwCAAAAADji6uXAAAABGdBTUEAALGPC/xhBQAAAAFzUkdCAK7OHOkAAAAgY0hSTQAAeiYAAICEAAD6AAAAgOgAAHUwAADqYAAAOpgAABdwnLpRPAAAAnRJREFUaAW9wbGOVGUcB9BzZ36zOxt3o8FGWBESIawGGhNtjIVP4EtY29vwFiZ2lj6Dj2CHgg2BmJgQ3ZCsSMRdZnbutfgKup1vm/850WmOm3jqjTk2uIdHmGwXxaJYFItOC1zHU82AjeYaHuoTxaJYFItOZ/gaL/AAk+YrfIOf9IliUSyKRacFvsCn+BU/4D6WeKRfFItiUSw6rfEX5jjCdzjDCZ7rF8WiWBSLSzjFIV7iBV5jiVf6RbEoFsXiEn7Dh1hp1ljimWbA5GJRLIpFsegwYMJ/OMeACcf4CIN+USyKRbHoMGluYYMBOzjACW5oJttFsSgWxeISvsQfWOFAM+FIvygWxaJYdLqN53it+QcTJlzVL4pFsSgWnT7BDiYssMYSG7yvXxSLYlEsOn2GDWYYMGLQ/IlbeGK7KBbFolh0uosRa+xiQjBigXfxxHZRLIpFseh0EysEc5xjgQHBbfxsuygWxaJYdLqOx1hoJmwww4h7+kSxKBbFosMce9hgVzPDhB2c4z19olgUi2LR4YbmFPtYY8CAGc7wgT5RLIpFsehwpBkRrDBpBpzjUJ8oFsWiWHQ4xKRZaAYMCCbs6xPFolgUiw4H2CCYYY45Js2IhT5RLIpFsehwDSvMMcOkGTFhhl0ssHaxKBbFolh0eBsrDBgwYsCIEaPmCo5dLIpFsSgWHfax9saAASNWmuAdHLtYFItiUSw6LPEKM8wxYI4JIxb4HUvbRbEoFsWiw+d4qTnFKVZYYcKAJe7gFxeLYlEsikWH7/EtdnGAqzhBsMK/eAt/2y6KRbEoFh3u4yE+xh4e4wH2cIo7+FGfKBbFotj/HKZ6Puk5020AAAAASUVORK5C\"></td><td style='text-align:center;vertical-align:middle; margin: 0.5em;border:1px #90999f solid;border-collapse:collapse'><img style='max-width: 100px; max-height:100px;display:inline' src=\"data:image/png;base64,iVBORw0KGgoAAAANSUhEUgAAAHAAAABwCAAAAADji6uXAAAABGdBTUEAALGPC/xhBQAAAAFzUkdCAK7OHOkAAAAgY0hSTQAAeiYAAICEAAD6AAAAgOgAAHUwAADqYAAAOpgAABdwnLpRPAAAA5ZJREFUaAW9wbuKXHUcAODvnPnNbbO5aWQ1XkNIAgqCoraCWIiFKAR8Bx/AB1BLbSxsfAVtrSysrIJBI4gX0ELjelk2WbOX2TlnjsW/WDJzEmPz+77wHyp0itPYxnmcQYsZrrl3IVlIFpKFuxigRYUZhtjDFDcwwhwf4233JiQLyUKycBet4k28g6dxGe/jGbyMz/ERAg0qdO4sJAvJQrJwDxpcx3v4DK/gnOIt/OJI5+5CspAsJAtLKnQY4Vmcwhjn8RRexQ38jouKSxjjOob4Awv9QrKQLCQLSzrFk3ge3+NHfI1HcByv4yrOYIpd3I8LOMQcf+sXkoVkIVm4g9P4Cev4Cyewhb/xHF7At3gAx7GNLSwwdWchWUgWkoUe6ziO3/EarmGiuIURpphjgA572MMa1txZSBaShWShxymMsYkNPIBdNDjADuaosIWbqFFjhMAYM6tCspAsJAs9TuIQN7CNMbZRYYEJ9nGACabYwwYCN3ACf1kVkoVkIVnosYZDtJjiDP5Eh07RYIAaMzQ4QKM40C8kC8lCstBjghYH2MBp3MT9GKFBi0MsUGMHL+IqOlT6hWQhWUgWeoywhwonsIlT6LDAHDU6zBGKy/gB1zHRLyQLyUKy0GOMbVS4hAPMMMVAMcACNW4p3sAHOMS6fiFZSBaShR4ddjDGOfyDMSaYo8MCrWIPFTbxML5BrV9IFpKFZGHJBDVmOKFYwy4azDFUBDoc4mGcxSOKWr+QLCQLycKSgWIHFxX7mGGAdbSosUCNwG/YxAVFhwFatwvJQrKQLPTosIdn0WEfU7SYo1U0WKBS7OKSokagdbuQLCQLycKSISp0uA8V/sExjDDAIULRYoo5thCKBSqrQrKQLCQLS0YYoMEUHW5iAx3WMcYCHYaosYObeFTRoLYqJAvJQrKwpEKneAg/ocMCDRo0GKBSLBTf4ZKiQW1VSBaShWRhSYWF4jH8igpj1JiiRocaHaaKWwgM0CKsCslCspAs9BgppvgRLWbo0KLDSNE6sosp1tBgZFVIFpKFZGHJBK3iCXyJc3gI+9hGYIDAEEPFPk5igEa/kCwkC8nCksABBpjgCirMUOM+7KLGMRzHAhN8hU08iu8xtCokC8lCsrCkQ4ezGOETd7flyBUcw0u4hmNWhWQhWUgWljyOkziFd/1/H+JnPIga224XkoVkIVlYcgtD7OALRyp0/tunOMRAv5AsJAvJ/gXT8to0aD5y5AAAAABJRU5ErkJg\"></td><td style='text-align:center;vertical-align:middle; margin: 0.5em;border:1px #90999f solid;border-collapse:collapse'><img style='max-width: 100px; max-height:100px;display:inline' src=\"data:image/png;base64,iVBORw0KGgoAAAANSUhEUgAAAHAAAABwCAAAAADji6uXAAAABGdBTUEAALGPC/xhBQAAAAFzUkdCAK7OHOkAAAAgY0hSTQAAeiYAAICEAAD6AAAAgOgAAHUwAADqYAAAOpgAABdwnLpRPAAAAa1JREFUaAW9wTGLzgEAB+Dnfe9357oioRiuq6PMUkoyyWThO1wmyiofwWQ1XpnIYrAxmBS2W1BukesWznWo496j/oNEN+n3PFEWZVEWZVEWZVEWZVEWZVEWZVEWZVEWZVEWZVEWZVEWZVEWZVEWZVEWZVEWZVEWZVEWZVEWZVEWZVEWZVEWZVEWZbGHwziOOSxgBVdxDx/wGZ8Mxpj4bYRdf4uyKIuyjAx2Daawgwu4jhOYwzbe4Sie4Rou4jKeY2Iwg23s+rcoi7Ioi1/GmBjs4DRu4DXu4xU2cAlnsYQtrOMhVnEbj7Btb1EWZVGWXez400scwUd/WsaywSJu4RT24yYWsYZDGGGMKYwwjaeIsiiLsszjJL7iGya4g304h4OYxTSmcAbHsIk3eIK3eI8rOI9N/MAYwRgH8QJRFmVRli3MYgHzmGAFSwYz+I4vWMcDrGLN3+7iAH4gBiOMDDYQZVEWZdnAY//Ppr1FWZRFWZRFWZRFWZRFWZRFWZRFWZRFWZRFWZRFWZRFWZRFWZRFWZRFWZRFWZRFWZRFWZRFWZRFWZRFWZRFWZRF2U8fZ0Gu47UOlgAAAABJRU5ErkJg\"></td><td style='text-align:center;vertical-align:middle; margin: 0.5em;border:1px #90999f solid;border-collapse:collapse'><img style='max-width: 100px; max-height:100px;display:inline' src=\"data:image/png;base64,iVBORw0KGgoAAAANSUhEUgAAAHAAAABwCAAAAADji6uXAAAABGdBTUEAALGPC/xhBQAAAAFzUkdCAK7OHOkAAAAgY0hSTQAAeiYAAICEAAD6AAAAgOgAAHUwAADqYAAAOpgAABdwnLpRPAAABEZJREFUaAW9wT1sXAcdAPDfu/e/e3fns2u7aRxSYkREitRIpHwIUalZmMqAhNiZkBjYGYCNzowsCImhW8VUUIUYK7F1oUEIV05Dg3Cbpqkb5/xxX+8xvMFnx6BO/98vLOmgRqHVOOtlDNFDqVXhId72+YRkIVlIFpY0KLQarVV8F1/H97CDBiM8i08wwC/wJ7yJ+/63kCwkC8nCkgYFGq2f4AZK7OAN3MIEgR0c4AjPYRu/xhF+jj1PC8lCspAsLCnQaP0Um/gAM5T4GG/jB/gIUzT4O17FLg6wjdfwY08LyUKykCwsKdDgGr6IexhpHWILd/E+buARdnEbe+ijj2NcwY/wOgo0WiFZSBaShSW11lewQGCMCiXGWMef8QqOEQg8wArW0MMEL+F1NE6FZCFZSBYucBMnqFDgCB0ssIYP8RfMscBdFNhCoK/1bU8LyUKykCxc4Hk8QaX1AEMEZriJO9jEHq5iHVv4EDdxD4/Qw9SpkCwkC8nCOVtaQ2zgDmYotRaYYAM9FOjiCiaosK7VwdfwjlMhWUgWkoVzruMQFVbQYBNd9LU6WKDBZTSo0MUAT1Bhji/jHadCspAsJAvnXMMJOlrXcB9TlChxiBm20cEcEwS+gCPMMMMLzgrJQrKQLJxzFTUOUGENNQILlKhRocQTbOAEAxzgEh6jwC1nhWQhWUgWzhlhin1s402M0GCGChW6mCNQocYJdvB91Fhg4KyQLCQLycI5FY4xR4F/4DbGWjXWsY8ac8xRaL2HIQpM8IyzQrKQLCQLSwJdlCgwwx4KrSHmGOIRGjSYoUCJXQzRQWAFI4y1QrKQLCQLSy6hQIMSUwQCc/QwxjG66GOGBQossIeF1gkaXMGuVkgWkoVkYck6AidYx7/xBCt4gEAHC/QxwAJzdLGKET5GjRIdXMauVkgWkoVkYUmDMSZ4ATsYY65VoosGExyjjxINNnCIO1jFPmqMnArJQrKQLCx5FgsM8AzexXMYoUGgwhHmaDBABzPU2Mb7eBkD/BNrToVkIVlIFpZ8A330sYV9fAvHqNGgxBSBDkpMMMEct3CAYwywgm/iD1ohWUgWkoUlh+jjeazib7iFzzDUKlChRI0xpriMGl/CH/E7vIFDfORUSBaShWRhye+1RriOu/gh9jFCgc9wCT30EAjUeIjv4Le4jDFOnBWShWQhWbjAGO9iFZv4FF08wBCbKDBFjQpTrSFewlsuFpKFZCFZOKdABwu8gpnWETq4jn9pbaGDPo5wjP/gNt5CgcZZIVlIFpKFcxostL6KA/SwwA18gENcRYUCfRSYYoorWg0KNE6FZCFZSBYuUGKBbfSwixrv4VO8iBpdLDDGY/RQYYgKExRonArJQrKQLFyg0folfoZXsY57mKOPh9jAKjaxhcf4BL/BRKt2VkgWkoVk4QK11jF+pbWNF7GFNXS0ZpjhPv6Ksf8vJAvJQrL/Am1IEfyPFY79AAAAAElFTkSuQmCC\"></td><td style='text-align:center;vertical-align:middle; margin: 0.5em;border:1px #90999f solid;border-collapse:collapse'><img style='max-width: 100px; max-height:100px;display:inline' src=\"data:image/png;base64,iVBORw0KGgoAAAANSUhEUgAAAHAAAABwCAAAAADji6uXAAAABGdBTUEAALGPC/xhBQAAAAFzUkdCAK7OHOkAAAAgY0hSTQAAeiYAAICEAAD6AAAAgOgAAHUwAADqYAAAOpgAABdwnLpRPAAAAo1JREFUaAW9wb2LFgQAB+DnPX/mvb6e+VFx0gdqikLRlkvYkBG1SVC5NAQNFa3tDUHQ1scf0NZQQxSNgVQQRAnaF4EVdVhgeHXmYZ733lvwDicl4hC/54myKIuyKIuyKIuyKIuyKIuyKIuyKIuyKIuyKIuyKIuyKIuyKIuyKIuyKIuyKIuyKIvrNMAAa/7rfnzk2kZYRpRFWZTFdZpgYt1ruAMf4wh+xIJ1waqpF/AYHkCURVmUxTXMYIKJdXvxGd7CCYxxDq/jqHWrpp7EE5jDQURZlEVZXGGACQaYYM3UDZjHCbyKV3AKuzHCt3gQi3gZ7+Iy7sNzWMVJnEGURVmUxRUmpiamDpt6Eb/gaczgNhwyNcQAH2AJz+ApXMBOLOBTHMJWRFmURVlcxT5swzEcxEsYYR4jBH9hA2Ywi014G+/hAO7Ez/gQS3gcK4iyKIuy7McxnMUs5rARiziOz3EIaziPVWzADsxjC4bYhCGW8R0+we/YgaNYxF2IsiiLsjyLe3DJ1BhLuBk34iwuYA/uxq3YhiFmEVOXcBFf4F48jzG+wQRjnEaURVmU5R0s4nZsxxx2YYTdWMIejLCKMZZwEadwHDvxKB6ybg6bTS1jBVsQZVEWZfkaP+FXUxswi724BY/gTZzCOay4uvfxME5iDWNcwAAj7MJmRFmURVmWsBVHEFzGH/gKm/EGfsANuAlzpoYYYoBVnMElHMZJbMQYMxhhC84hyqIsyuIfC1gwtQ9D7Mc2rOEANuE8LmMNy1hEMIN5/IYVzGCA7ab+xCK+R5RFWZTFv5y27kv/vyiLsiiLsiiLsiiLsiiLsiiLsiiLsiiLsiiLsiiLsiiLsiiLsiiLsiiLsiiLsij7G2oCgFK88RROAAAAAElFTkSuQmCC\"></td><td style='text-align:center;vertical-align:middle; margin: 0.5em;border:1px #90999f solid;border-collapse:collapse'><img style='max-width: 100px; max-height:100px;display:inline' src=\"data:image/png;base64,iVBORw0KGgoAAAANSUhEUgAAAHAAAABwCAAAAADji6uXAAAABGdBTUEAALGPC/xhBQAAAAFzUkdCAK7OHOkAAAAgY0hSTQAAeiYAAICEAAD6AAAAgOgAAHUwAADqYAAAOpgAABdwnLpRPAAAAwxJREFUaAW9wT+Lp9UdB9Bzn99nZpzRXZQpsosKKzY2ChLQSoKddSBtXoDvxD6kE2LhOzBgY2Mp6GInKKjEENaI/3aX2Zl5nnszcIvZyYIowvecKBbFolgUi2JRLIpFsSgWxaJYFItiUSyKRbEoFsWiWBSLX/Am/u73aRguRbEoFsXi/wQrXsdTeB0bPsf3OPXbDFdFsSgWxeIhC1Ys+CsGXsQ93MAR7pkaGoZpYMWK62j4Bvexwyd4G1EsikWxeEg3vYNj/IiB6zjDwAGaaUEzddM+FnyHZxCc4mm8jSgWxaJYXGimgVv4HE9ixSEOsWHDCRr2XGropgUNR7iHJ/AAC15DFItiUSwuNHRcwy3cwZM4xQE6gm4KdtjQTQMdZ+jYR0z7CK4hikWxKBYXFnS8gi/wJzQEB1ixYuAAGzo6OoKdSwMnGDjDj3gJQRSLYlEsLjTTTXyAPaxY8AA7bBhY0dEwMLBhw8AeFqxY0DGwjwVRLIpFsbgwXBVTR9AQdNOChs3U0E0dAwtWNBziEBuiWBSLYvGQH7CHb7GPczyGEzQ0DFPHDvsYHtWwYsGKn3CKKBbFolgauulD/AV3MdCwwwE6hqmjo2HBhhUNAw0d5zhEw4oVUSyKRbEMDOxwF5/hXXyJ4CfTObppmPawj4HuUQ9wihOcYkMUi2JRLA0Dm+kTvIdXEBzhrmmYBjp2WNCxuGoPj2MP57iJDVEsikWxDI+6g2u4jefwNL7Dhsdwhh0WLGguDQycmzo2rHgCUSyKRbG4sMNmOsaKFX/ER/gXXkLDfezQ0LGiYcGGgW5asJq+wteIYlEsisWFzXQD/8G7uINj/Bmf4gvcwjF+xooNGzoaBoapYbjUcYYoFsWiWFy4iTewj+fxFv6A+/gGN3GM7xHcwIKODR3dVZtpw7/xMo4QxaJYFMvLeBXv4yvTP/AsruMHPIcX8F98jL/hBIcYaGiuamjYsIcjfIkoFsWiWG7jtqv+6dc58dtFsSgWxaJYFItiUSyKRbEoFsWiWBSLYlEsikWxKBbF/gdEwNFIcAWS9gAAAABJRU5ErkJg\"></td><td style='text-align:center;vertical-align:middle; margin: 0.5em;border:1px #90999f solid;border-collapse:collapse'><img style='max-width: 100px; max-height:100px;display:inline' src=\"data:image/png;base64,iVBORw0KGgoAAAANSUhEUgAAAHAAAABwCAAAAADji6uXAAAABGdBTUEAALGPC/xhBQAAAAFzUkdCAK7OHOkAAAAgY0hSTQAAeiYAAICEAAD6AAAAgOgAAHUwAADqYAAAOpgAABdwnLpRPAAAArJJREFUaAW9wb+OVAUYB9BzZ37sMLN/wKzAuiaCBRIlamVQiR2RzoLY2Grjc9jZWvgaJhbayAvYSLQx0miQkDW6C8wOssvMvZpckxESTdyY75woFsWiWBSLYlEsikWxKBbFolgUi2JRLIpFsSgWxaJYFItiUSyKRbEoFsWiWBSL/9EQLTq9EQ5wHjf1olgUi2JxBA0atHgWb+BLzDzuQO8aPtaLYlEsisURtXpv4RK28YnHncZVTC1FsSgWxeIIhpjjNbyIHZzHZ9jFGD9hExv42VIUi2JRLP6jAeZYxbs4wHGso8EADS7iFvYQS1EsikWx+AcNOgzQocMQC70PsYOHOIvj2MEQLWY4xAZGWMUMUSyKRbF4QoMOnV6rN8RC7z1s4RsEJ/EbdvE01jHUG2CC87iBKBbFolg8odMbYIAFOiz03scLuIVNNBjjNtbR4gGOo0GndxU3EMWiWBSLvwz0OjRo0VraxjWMcRNrGGETh+gw0VvgAAvM0OKyXhSLYlEsQyzQWur0TuEcLuAZHOI+TmIDxzBCi7M4hrt4hBYD/I4hpriIKBbFolgWemdwFqtYxRjPY4JH2McAJzDGHBM8wAFWcAcnMMEe1vAUZtjCJqJYFIti8acr2MYcpzDEAnNMsYYtNBhhDwOsYYgZ9nEPpy3tocUYI8wRxaJYFMvb+ADf4w6mGOAQQzSYYgUt1tFgjBbHsIUzeAkrGOjNMMFD7OMXRLEoFsXyNV7Hy7isN8cUu9jFPaygwSYuYIINdHgV3+JHXMEInd4ct3Ef64hiUSyK5S4+0lvDJVzAmziHV7CKBh1a7OI7fIUv8NDS53gOv2KKKeY4wA+IYlEsisXf7OM6ruNTR/OOfxfFolgUi2JRLIpFsSgWxaJYFItiUSyKRbEoFsWiWBSLYlEsikWxPwDhvI6Ngv9K8QAAAABJRU5ErkJg\"></td></tr><tr><td style='text-align:center;vertical-align:middle; margin: 0.5em;border:1px #90999f solid;border-collapse:collapse'><img style='max-width: 100px; max-height:100px;display:inline' src=\"data:image/png;base64,iVBORw0KGgoAAAANSUhEUgAAAHAAAABwCAAAAADji6uXAAAABGdBTUEAALGPC/xhBQAAAAFzUkdCAK7OHOkAAAAgY0hSTQAAeiYAAICEAAD6AAAAgOgAAHUwAADqYAAAOpgAABdwnLpRPAAAAqlJREFUaAW9wUGOpVMcB9Bzv/erdFWqNN1aaNIiIUjswQyJNRiT2IQd2IGpMDC2AEMzsQARoQfdRJpuVfXedw3u4KUGdV+N/ufEDXyMD/ADvscznOJVvI+P8B2+dVgUi2JRLCYW7PAPgs9wYvgPx3iCS3yIb9DMRbEoFsViYsWvuIWOjid4jC/xKd7AExzhN4dFsSgWxeKApzjDFg0LXsDneBELjrDBM4dFsSgWxeKAd/EXFsMOt/AWznGOYId3HBbFolgUixto9hq2uDAEO+xw4rAoFsWiWNzADg2rYcEGHau9OCyKRbEoFhMP7HWshoZmr9t7BQ9dL4pFsSgWE6/h3LBDN6xYsMEOO2wN9/DQ9aJYFItiMXEfHQuCLTqaYUXDYu9l/Ox6USyKRbGY+Bc7rNhgh4ZuWA0LmuHYXBSLYlEsJn7CKZ7iCIthRUdHR8dqeGQuikWxKBYTDw1H2BmavW5oWAw/motiUSyKxQ1scImOBd3Q0NEQdKzmolgUi2JxAx3d0A0dHR0bLNg6LIpFsSgWE2euWtDQ0LFgRUNwhAWr60WxKBbFYuKOoaMZmr0F3VV38cj1olgUi2IxcdvQ0AzNXkc3rIYzPHK9KBbFolhM3DV0ew0NHQ0NDavhdfzielEsikWxmLhtr2NBQ0NHQ0Ozd99cFItiUSwmzgwNDQ3N0LBgRUcz3DEXxaJYFIuJ265qrlqwwYrF8Jy5KBbFolhMnBousaDZa4YjnKMZTs1FsSgWxWLi2N6CBTtDQ8diWA13zUWxKBbFYuKeITiyt6BjwQYNC/7ES+aiWBSLYjHxHrbouMAFFmxxgWPs0LFDx9vmolgUi2Ix8RjBGeJ6W1ziBF+Yi2JRLIrFxCf4Cm/iAU7wPE6xYsUWf+B3fI2/zUWxKBbF/gdH/Yes2raKLAAAAABJRU5ErkJg\"></td><td style='text-align:center;vertical-align:middle; margin: 0.5em;border:1px #90999f solid;border-collapse:collapse'><img style='max-width: 100px; max-height:100px;display:inline' src=\"data:image/png;base64,iVBORw0KGgoAAAANSUhEUgAAAHAAAABwCAAAAADji6uXAAAABGdBTUEAALGPC/xhBQAAAAFzUkdCAK7OHOkAAAAgY0hSTQAAeiYAAICEAAD6AAAAgOgAAHUwAADqYAAAOpgAABdwnLpRPAAAApBJREFUaAW9wb1um3UcBtBj+4nzgUghUaGqmFoxIAYWBAsSA1N3GFlZuAYupCvcAUsXBliRCoigtGoRompDSgtETeLY+bDN8A5Wl/g//c6JBlfxBV5grPMCcwwwxDN8jzOXi2JRLIpFg8/wFf7DPm5gDw/wDib4Dm/iG5eLYlEsikWDq/gTU5199LGNTRziOu5bLopFsSgWDbbxHDdwgE0c4TX08Crm2LFcFItiUSwaPMJ7mGGKEc4wwFNsoYf7lotiUSyKRYM5djBCDzfxOvp4oPMHLiwXxaJYFIsGMzzGLub4FNt4Fz/gLvYwxInLRbEoFsWiwT18gns4xS5+xG08xhMcYGy5KBbFolg02MAI13CgE6yijwkusIZTl4tiUSyKRYMRNjDDdQS/YI51DDHAueWiWBSLYtFgjBmOdY7xs846xjjFueWiWBSLYtFginPMMcexzgRDjHCBqeWiWBSLYtHgH8zRxxATnSP0MMFfmFkuikWxKBYN9jFEDxtY0QlGOERfmygWxaJYNDjBCY7Rx5bOCKs4xb/aRLEoFsWiwRQj9BE813mIdaxgTZsoFsWiWDQKthAc6OziLWxirE0Ui2JRLBpt4yFu4bbOT/gAe+hrE8WiWBSLRh/jJm7hc53fsIUv8SvuWi6KRbEoFg16GOBt/I6JzgWu4EOsaBPFolgUiwZzDLGOUwtDBFcQbaJYFIti0egMmxhZOMcUK3iqTRSLYlEsGo2xhomFM/TQx7k2USyKRbFodA0D9C0cY4YBxtpEsSgWxaLR33gDFxYOMMUqnmkTxaJYFItGd/A+ZhaOcIg1PNImikWxKBaNJljD1MvW8QqeaBPFolgUi0Zf4yPc8bJvdXa0iWJRLIr9D6+VkCDXu7g0AAAAAElFTkSuQmCC\"></td><td style='text-align:center;vertical-align:middle; margin: 0.5em;border:1px #90999f solid;border-collapse:collapse'><img style='max-width: 100px; max-height:100px;display:inline' src=\"data:image/png;base64,iVBORw0KGgoAAAANSUhEUgAAAHAAAABwCAAAAADji6uXAAAABGdBTUEAALGPC/xhBQAAAAFzUkdCAK7OHOkAAAAgY0hSTQAAeiYAAICEAAD6AAAAgOgAAHUwAADqYAAAOpgAABdwnLpRPAAAA9ZJREFUaAW9wcGLo2cdAOAH3h9fSJiwwwYClSlbFAsLhbVCTz3sqdCDCAq9+4948ygeBBEseBP8E4SCUNCLC4uFhT1VpuzA0ECWDAn5yMe84OE9fEmcqqff84T/wyN8hvfwBoEO7+OH2GGPX+Ol/y4kC8lCsvA/PMMfcIUV/oTn+An+iAkCG/wGn+PPqB4WkoVkIVn4Dj/Fc6zwD6wxwzP8DX/FFhUXWOMWn+I5XuG3/lNIFpKFZOEBn+HHWGGHHi+wwhQFHZZ4hYonWOA1Jvg+PsEXToVkIVlIFh7wMVYY8BgdBjzCGj0GVHSY4htsUbHCBp/gC6dCspAsJAtnphhQsETFCmvcoWKjuUTRbLHFElMMmke4MwrJQrKQLJx5ig4VF3iLO9yh4h4dZuhQNB3uNJdYo+ID/N0oJAvJQrJw5glu0WOBARtNwQV6VOyxQcVCs8ECBSvMnQrJQrKQLJwJFHyNj7DELTqssUfBHAMuscYGcwx4H19iioVTIVlIFpKFMx0qbrHDR3iBOQZUow4VM80eS2yx1yycCslCspAsnFlijSW2KDhgjil67PEt5uhxjxmucI0LFOyxdCokC8lCsnBmga9xhS8xx4/wTxQc0GOCgoIL9Cjo0WOCPapTIVlIFpKFMwU7LPEan2JuNOCAOdaYoGgGzR5zbDE4FZKFZCFZOFNQNDvcYo5BUzBDQa8JVPSaGzzFHB0e460mJAvJQrJwpqBigr1mhoIJKnpMUTCgoNNc4g3m2KLHJd5qQrKQLCQLRy40BxywQ8G3moKppmKOLSqmmk5TUHBAMQrJQrKQLBxZoGqqZqmpqBg0FRUzVE1FwQ4HzcSpkCwkC8nCmYqCQfMurlE8rDo1xUYzxwozo5AsJAvJwpmKGQbNFDunqu9WMOAGH2g6o5AsJAvJwpEpKioOmoKKGQruNQMGFM0UFYF3MBh1RiFZSBaShSOBAyqK5g4FFR2WCKxwj8DB6AKPUI0mRiFZSBaShSNTzRRVc42tZkDVHNAbFQxYYIdrPENBMQrJQrKQLByZY0CHQdNjhzeYoUPFHj0G3KOi1wzYYK8pRiFZSBaShSNLDAisNK/xFV4ZXeHGw16iYIkJCopRSBaShWThTEWHO801Hmseo+Ip9hhQMMEGA36Gl7hBQXUqJAvJQrJwZIkpCormBX6Pf+FGs0HFzqlf4uf4EO9giVsUo5AsJAvJwpEDLlCw0gz4HX6Fz1HxHi5xwPfwBEtUfKjpcI0DJkYhWUgWkoUjN3gXt7g1eolf4ApTrPADzFDxDf6Cr4w2qJhhZRSShWQh2b8BP/wHt9g2K5QAAAAASUVORK5C\"></td><td style='text-align:center;vertical-align:middle; margin: 0.5em;border:1px #90999f solid;border-collapse:collapse'><img style='max-width: 100px; max-height:100px;display:inline' src=\"data:image/png;base64,iVBORw0KGgoAAAANSUhEUgAAAHAAAABwCAAAAADji6uXAAAABGdBTUEAALGPC/xhBQAAAAFzUkdCAK7OHOkAAAAgY0hSTQAAeiYAAICEAAD6AAAAgOgAAHUwAADqYAAAOpgAABdwnLpRPAAAA0VJREFUaAW9wT+LZfUdB+DnnPPZuTPDzuyIs4isZpdNECKkUVKoBBRR0ULwDYSEFHkD+VOkTSFY2QvpQ/pY+wJsJCSChahF/LPLwuw4M3fuPb8Up1gCc8523+eJGZ1HBmzR8CJ+i3/jJfwV/0GPHht0aK4WxaJYFIsZDR06bEyO8Q9s8TYOcBcvY8To8aJYFItisaDDiDfwJ9zCDyY/xZe4wKf4Jz7Ed+jQXC2KRbEoFjOCDV7GBzjHA5NTfIJj7OIMr+OXeAcb86JYFItiMWNj8hec4wwdehzhAc6xwhpbHOI3+Mi8KBbFolg8xj467GDAJUbsIdhgF+fY4k18ZF4Ui2JRLBY8gxVWGNHQYYsfcQOX6LHBgGcti2JRLIrFgrvoMWIXp+jQsIcOwQWCa2iWRbEoFsViwW00NKxwioYOB2i4xBY3EFziACeuFsWiWBSLBbcw4sKkxxYjGhp6NJxgBwOOcOJqUSyKRbFYcGjyA9a4jTWC0aSZfIOncYkjfO1qUSyKRbFYcGiyxtojzf/rcYEDfItD86JYFItiseDA5D46dCY9GkY0dPgMr2CDm+ZFsSgWxWLBCj0+x230HumxNenxHR4guG5eFItiUSwW7KDDFkdoGEw6NJPgPr7AL3BkXhSLYlEsFqxMfoJbGNGjoUdDhw4/wwka9s2LYlEsisWCYMTPsY/OpENvssKIX2GDhsG8KBbFolgsOMMhnsYpBnRoGNCZDDjGHTxEZ14Ui2JRLBassINzjOjQMHikw2Byhh5b86JYFItiseAr3ECHLYKGDj02aAgGnOApPGdeFItiUSwW/B5/wK/xI/ZwH9fQm3QIRuzjffzdvCgWxaJYPMZbGNGwgy32cIrBZGUSNDw0L4pFsSgWC1Z4BpfosELDCg/RY40VruEMv8PfzItiUSyKxYJXscYKI3bQYR//RbDBCnsYcYwDnLhaFItiUSwWvGYSjCZb7KJhwBrXsMIFzvAKPna1KBbFolgseAEDttjHLhrWuDC5jgHNpOFdfOxqUSyKRbGY8STuoGEHx1jjNm7iCIPJdTyBU4x43rwoFsWiWMy4h+dwE3exwWf4Mz7HHTyPP+J7vId/4R7umRfFolgU+x/Sg7YQkJHO/wAAAABJRU5ErkJg\"></td><td style='text-align:center;vertical-align:middle; margin: 0.5em;border:1px #90999f solid;border-collapse:collapse'><img style='max-width: 100px; max-height:100px;display:inline' src=\"data:image/png;base64,iVBORw0KGgoAAAANSUhEUgAAAHAAAABwCAAAAADji6uXAAAABGdBTUEAALGPC/xhBQAAAAFzUkdCAK7OHOkAAAAgY0hSTQAAeiYAAICEAAD6AAAAgOgAAHUwAADqYAAAOpgAABdwnLpRPAAABANJREFUaAW9wb1vowcdAODH9s+OHcdxcpc7co3oldKPuysnpJNAsCHYGRg6MDMAKwOdOnWHdqEdKoaKf6DqUqYioVMZQEJVoXzl2inOXZprL3F8Tvy+ZniH6HUMapff84Qv4VXcxltYwww/wqt4x7kmSsuFZCFZSBa+gO/h55jiEl5DgTHex4v4IV7CIUr/W0gWkoVk4f94Hr/Ec/grbmGCA2zhQ1xCgSl+jX/jddy3XEgWkoVkYUELBX6G72CMP2GMLm7gBPto4lt4Ew+xjmt4Az/FPpoonQvJQrKQLCwoVG5jhAIzbOJt3MIT+AVexrso0MUJHqGJH+NXKNWFZCFZSBaW2MQKHmATLRxjC+/hK3gR9/AP9NFB4DFG2EELhbqQLCQLycISX0MDXaygwDGexDr2sIttPIUj7GOOFtbQxRCH6kKykCwkC0vsoIttjLCOmxjiGibYxB0c4CN8FS30sa9yA3fVhWQhWUgWltjBFH208CmuYwOPMcV9/B1neIwu/okfYIwDvIC76kKykCwkC0t0sYavo4eP8SnOcBmbWMUAuzhDgSG+iw/xezzjopAsJAvJwhLrWMUA99DHfzDFt3EFf0MfbfQwxj38BK+ghzUXhWQhWUgWlriOUxT4HV7CDCUGuISr+CY+wCnaGOBjTDBAw0UhWUgWkoUlnsABNtDDvxC4gRU8wlPYwV18jus4wtMY4DH6WMWJcyFZSBaShQUdtFFijBP0sYFPsIErWMNf0EUfn2AdxzjEFkbYxq5zIVlIFpKFBc/gFIEh9lCgjRMMsYX38Bwuq0wwQ+AIR7iMgbqQLCQLycKCDUzRwQcYYQdjDDDEHCM8iw4aWEcLD1Cih2MM1YVkIVlIFhZcRWCCEdro4T46KLCP7+MWdvEQXUxQ4BRztNFTF5KFZCFZWLCFR+jgHm5iDR2M8CR6OMQJxpggcKrSxhQNdNWFZCFZSBYW9DDFKg5wFZ9jjA3M0MceLqGLbXyGgUqghQIddSFZSBaShSXaCAReQIkSlzHHQ3RwhgmmmKGDbeyigRlW1YVkIVlIFhaUOMMxbuIuPsI2SlzBDE000cYQDZyiiTZmmCDUhWQhWUgWFjQxwxyH+A2exh08wDdwCw8RGOEM1/AW3scQt1VKdSFZSBaShQVzlRb+qLKLXZU/qDSxgomLHqBEA011IVlIFpKFBVPMVc5UWijQwFylxERdA3McoUQTHXUhWUgWkoUFWwgUmKmbo4G55ZoocIQVPMKZupAsJAvJwoIWZphhz0Vz5xqYo4E5migwQRttHKkLyUKykCwsKLGGDbRUmihcNFeZq5uhhVMcqwvJQrKQLCz4Le5gE39WmfliSpU97KHAZ+pCspAsJPsvkKL5uEHTqowAAAAASUVORK5C\"></td><td style='text-align:center;vertical-align:middle; margin: 0.5em;border:1px #90999f solid;border-collapse:collapse'><img style='max-width: 100px; max-height:100px;display:inline' src=\"data:image/png;base64,iVBORw0KGgoAAAANSUhEUgAAAHAAAABwCAAAAADji6uXAAAABGdBTUEAALGPC/xhBQAAAAFzUkdCAK7OHOkAAAAgY0hSTQAAeiYAAICEAAD6AAAAgOgAAHUwAADqYAAAOpgAABdwnLpRPAAAAqVJREFUaAW9wU9o1gUcB+Dn5z7DN4eTsC1HfxYbBFmBkw4FgeXNCLMIjOywm0GHwJtEdOkQBPUeIiQiiljQuSAQ2aUQQiiZh0lEhwk5Gi9ZORN5X9+C3+Flp7Di+zxRLIpFsSgWxaJYFItiUSyKRbEoFsWiWBSLYlEsikWxKBbFolgUi2JRLIpFsSgWxaJYFIti8R80mMHPmMAJvIdN3NAaw8BIFItiUSxuUYMh5tDFKexHFy/gKRzDl5jBNXyAHhpEsSgWxeIWDbV+wmGt53AGD2I7LuEArmv1jUSxKBbF4l86iHmsYRGrOIJNDDGDbzCPp7GEMUSxKBbF0mgN0WAbBkaCcQy0buAk5nAd6ziOc7iGZfTwOKawiuexhD6iWBSLYhkaGWo1WkP00TeyiPtwARPo4TLuxvuYxkWcwW/4CNM4hiVEsSgWxdLYamCr4DgW0MPHWMaL2ItxnNV6Be9iAb/jLNawhke0olgUi2IZ2moMAxzBXVjATnyCA1jFHO5AB78YGWIaY9iBRZzGVazhXkSxKBbF4m+N1jYMtPahgz7exvfYxAPYwH40eAmnjIxjFj9gBc/iU5zHw4hiUSyKpcGYVh+TmMcsLmAv3sJRTOISengS5zCNg1jWOo878Tm+wFf4DDvRQRSLYlEsQ/SNNHgG96ODfXgIuzGFw+jiCbyBPXgdy9iFDa09Wl2tBawgikWxKJbH8DImMMBN9HEVU7iCGTyKQ9iutY5Jrd34FrfhNH7FUXTxI77DLF5FFItiUSwr+BBTuB0d7EAHHdzEm2jwB3pYwBW8gw2sYxdewz24jAbr+BObuIggikWxKJZNfO3/ccg/i2JRLIpFsSgWxaJYFItiUSyKRbEoFsWiWBSLYlEsikWxKBbFolgUi2JRLIr9BbFrhFPe9++NAAAAAElFTkSuQmCC\"></td><td style='text-align:center;vertical-align:middle; margin: 0.5em;border:1px #90999f solid;border-collapse:collapse'><img style='max-width: 100px; max-height:100px;display:inline' src=\"data:image/png;base64,iVBORw0KGgoAAAANSUhEUgAAAHAAAABwCAAAAADji6uXAAAABGdBTUEAALGPC/xhBQAAAAFzUkdCAK7OHOkAAAAgY0hSTQAAeiYAAICEAAD6AAAAgOgAAHUwAADqYAAAOpgAABdwnLpRPAAABGlJREFUaAW9wdtv1oUZAOCn7fsVWtraFkppbWspUmAIlJFFNB4yndFogkYTY0zUZdnNLpZlS3bI7rxavNF/QF2YiXq1mZjNU3TRENGF4oEzCDZqBUqPjtSO0n67+C6a79dOd/U+T/getajBgorHcRMCUziJ51XUoGxJDcqqhWQhWUgWvseiJTuxH++jjHn8GvuxgDJqUFZRtlxIFpKFZOH/sBWdGMONeBItmMXPcRtuwVO44ruFZCFZSBa+wx48gC68j1ZM4hTWYxafoB7f4Hd4FycwbmUhWUgWkoX/4Sm8jXGcxDH04zEM4zRWYR/ewAnsxU+wF6/gjOVCspAsJAsr2IF9+D1GcBXnMII2/BkDaMAQPkQjvsYohvAb/MJyIVlIFpKFFezBPfgZ7sc4TmIL9qEF/ViPQYxhEJswgRP4u5WFZCFZSBZWcAc+x8eYwWUcxXW4gHewCSXswDg6cRGhogfrMK5aSBaShWRhBS3oxSGcx2pMoxXzOIMWfItBNGMKc3gXD+F6rMW4aiFZSBaShRVMow334hIacAEb0Y9+bMMkBvAcujGE23EzZrHKciFZSBaShRUMYz9uxgDa0YU2NKEVzajDOvRgMxqxDocwjUnLhWQhWUgWCnbgEbyEWgRmcBkzqEc9SiomMIOrWMQVvI4N+DFeUC0kC8lCslCwBhvwU9yLJ3EaF1HCtTiIBVzCJM5gDG34G7ZhF4bxgmohWUgWkoWC4/gj3sQlPIQZfIVFPIpz2IQu3Iop9KIZZfwD/8Rxy4VkIVlIFgo2YxALWI861KEBC+jFdmzFKtSghD604zguYjN24lPVQrKQLCQLBZsxhxIexh9wDNOoxSxexG7MYSNew0G04xnsRiPm0YppS0KykCwkCwV7MIm12IKruAOn0ITb8REG0Yq1eA834Qq+wG6MYh06MG1JSBaShWSh4CA+wA04gCncgHrUogZ1mEUHahEo4QouowVH0Iwx1UKykCwkCwVD+AxDGEUXenABzehDDzaiBw3oRB8mcBolfIXr0IYZS0KykCwkCwX3oQa/whsYxiIOoxf/wjHUYgaBT9COKXTgaWxFN/6EEUtCspAsJAsFv8VBNOEsWlHCHKZxAaOoRTdaUMaXWI16PIsDqMUB1UKykCwkCwUDmEMdTuFOPIgfohtPoA292IbV6MYQ2vEWOtCJerTikiUhWUgWkoWCNehABw7hMM7gAHbhW7yM7TiMOryIQ2jH69iOJqxBg2ohWUgWkoWCZvTgeszibtQhsAEnUMYsjmAA0xhDJ7rwb/ShCatVC8lCspAsFBzBB9iCeTRjHtdgLyZwF9bgc9yIt9CLfpzGe/gBvsFZ1UKykCwkCwVf4E70YRG78DUasRFTKkpoQAOa0Yhe1OA/6MQoplQLyUKykCwUHMEv8SMVf8FeLKAJE9iEeTSiEYuoxxROYid2YARl1UKykCwkCwVX8VecV3EUR1U8j2GUMIoRnMdxjOBVFcNYxJcoqxaShWQh2X8BJvn/j1DnXVEAAAAASUVORK5C\"></td><td style='text-align:center;vertical-align:middle; margin: 0.5em;border:1px #90999f solid;border-collapse:collapse'><img style='max-width: 100px; max-height:100px;display:inline' src=\"data:image/png;base64,iVBORw0KGgoAAAANSUhEUgAAAHAAAABwCAAAAADji6uXAAAABGdBTUEAALGPC/xhBQAAAAFzUkdCAK7OHOkAAAAgY0hSTQAAeiYAAICEAAD6AAAAgOgAAHUwAADqYAAAOpgAABdwnLpRPAAAAqpJREFUaAW9wU2LVQUcB+Dn3PmN86LzYoYGgwMqVBSKm5CIFjaLoEXQFxCCaBO0cNci2rmswH1thL5HoNFuFkabCCwRR6kxZ6brOPec08BZ3KCFbvo/TxSLYlEsikWxKBbFolgUi2JRLIpFsSgWxaJYFItiUSyKRbEoFsWiWBSLYlEsikWxKBbFolg8Q4MGnUGDHiN0Bhu4hTEagwY9GnSmolgUi2LxDD16NGgMenS4jM8wwg/4HCO0Bg06XMV1HCCKRbEoFs+hMegMLuE7bGMHD/CqQWvQo8cH+AIPcANRLIpFsXgOvcF7+NpgjAMsoMVr+BDfYhlv4DJewW1cwQ1EsSgWxTJCZ9AYNOjRm/oUX+En7GEJK9jCy9jFR/gY5zCHTdzHAS7hJUSxKBbF0mCExqBDZ3ARV7GOt3ALi2hxH+ewhqeYQYOH+Aan8QIuYIzgdUSxKBbF0vqvK/gEHVbwBN+jw1Gcwp+mFg3u4SzexDY2cRPncQSnEcWiWBSLQ6t4F8t4Bxv4Cz/jd5zAEu7gGBZwHHs4hS2s4gwOcBd38BQbmEXwCFEsikWxOPQlzuI2TuAmNvEE65jFESzhIU4iWMYsTmIHLY5hBmewihY7mOBXRLEoFsXyNubwC9bwItawjj+wh23MYd9g12AfHVocoEGHDvO4iwbzWMFviGJRLIrlIs7jHnrsYQ+LWMZRrGIRE/R4hA7BCDOYQY8Reowwi96gxWNEsSgWxXIdS3gf6ziOMTrM4Ah6TDCDCVr0Bi1GpkamJpgg2EKHKBbFolgcuoZrWMAFzGMeC+ixj78xwRg7mKBFhx4tGoMRGuziMXpTUSyKRbH4lzF+9P+KYlEsikWxKBbFolgUi2JRLIpFsSgWxaJYFItiUSyKRbEoFsWiWBSLYlEsiv0DF5aWfYu9HCoAAAAASUVORK5C\"></td><td style='text-align:center;vertical-align:middle; margin: 0.5em;border:1px #90999f solid;border-collapse:collapse'><img style='max-width: 100px; max-height:100px;display:inline' src=\"data:image/png;base64,iVBORw0KGgoAAAANSUhEUgAAAHAAAABwCAAAAADji6uXAAAABGdBTUEAALGPC/xhBQAAAAFzUkdCAK7OHOkAAAAgY0hSTQAAeiYAAICEAAD6AAAAgOgAAHUwAADqYAAAOpgAABdwnLpRPAAABANJREFUaAW9wc+LXWcZAODnnPOeMzO5kybaZGoykRYLNhSMCEFbFEShwdKdG126cuvCjSul3bmwtBS7KBRXIgr9C1woFcRFVqVEKVZUEKxOm2R+Offce8/xwhe4M6Spo8L7POF/0KF30jqO/GchWUgWkoX/Qo0BPS7hBnr8DEeoMSpGHy4kC8lCsnBKFQbFS7iBP6DF9/AC3kCNwYOFZCFZSBZOqcMUL+EqnrRyDT/BP/EmAnMfLiQLyUKycAoNpvgKnsJTTnoL38V38CYqDxaShWQhWTiFdRzgObyoqDFY+TW+heu4icDc/UKykCwkC6dwoHgEv1AMVmoMeBtP4CZazN0vJAvJQrJwTIXAqBgVC0VlpUKlaDHFEa7jp+gVlWJUhGQhWUgWjhkx82BftzJiVEwVE2wqForRSSFZSBaShaUKo+KzeAsN5lYexYaPdhlf8tFCspAsJAtLo+IZvIq72MU53MGf8DH8Di/jc5hhjgYP4W1s4Pf4Pp7BbfwdR3gcP0RIFpKFZOGeTZzFX3ERDXZwgMewhQrXMMMR5uiwiys4wgVcQYeH8Rjew03cQkgWkoVk4Z5v4zV8A49gRIsNxZ9Ro0GDERU67OMSDvErfB5zDOgV72EHIVlIFpKFe17Aj7GNdWygxyH2MEGHGWpcVOxjDR/gMv6CZ/EB1nGICZ7GawjJQrKQLCx9Ez/HFI9iwCammGEHF9HhHxhxCxWexBQdHsLT6BQDakxwHjVCspAsJAtLX8CPFBPcQY1NtFjDLubYRoVL6FDhHM7hRaxhH8/iEIEWl7GJkCwkC8nC0qdxS7GJHVSosY4a69jHDB1GnMffcB7voMMX8Ue8i6u4ixYX0CIkC8lCsrC0ZqXFAg0GDFhgDQMW2MAe7qDFAp/EFn6LOb6KHhOMmGALIVlIFpKFY64o5mistBjRosIME1zAbUXga3gHTyDQYw1znMU2QrKQLCQLS4PiM4qFk0ZFh0CPOfawjwvYwxTXcIgj1NjFQrGFkCwkC8nC0qj4lJUBlaJCjcbKHqaKHYzo8D5atGgUvWIbIVlIFpKFpduKjyt6TDBHYMCIAQNaPIw5ZujRIVArWgTm6BTbCMlCspAsLL2OH6DG+1igQoMBAypUaDAqOqyjxsJKhUpRY1BUCMlCspAsLP0SV/E8DhGYokWDQIPaSo3RSqsYUWFEo+gVZxCShWQhWbjnFTyHL6PBvxQNQjFDjwYVRgwYUaFChQoVBsWAHUwRkoVkIVk4Zgc9ZthQzLFQrGMTc4xOGqyMqNEoFjiDawjJQrKQLBxzAzVafML9eryrqK1U6DFiRI0D7GKBA5zFGwjJQrKQLBxzGdexhTPo0OMu9vEb/7+QLCQLyf4N6vnvGjO5ePkAAAAASUVORK5C\"></td><td style='text-align:center;vertical-align:middle; margin: 0.5em;border:1px #90999f solid;border-collapse:collapse'><img style='max-width: 100px; max-height:100px;display:inline' src=\"data:image/png;base64,iVBORw0KGgoAAAANSUhEUgAAAHAAAABwCAAAAADji6uXAAAABGdBTUEAALGPC/xhBQAAAAFzUkdCAK7OHOkAAAAgY0hSTQAAeiYAAICEAAD6AAAAgOgAAHUwAADqYAAAOpgAABdwnLpRPAAAAzhJREFUaAW9wT2I1gUcB/DPc8/33r3zfCnRXn23IBXU6G2opaWhtSVqaDCHoK1FaGvIIXBsiJpaagiMgl6E4sKxcqgEDXzpUjNf7rx77nzuSfgLh0EaIr/PJ4pFsSgWxaJYFItiUSyKRbEoFsWiWBSLYlEsikWxKBbF4i55HG/hDZzy36JYFIticYfa6OJlvI/XMIfP8AVO4jecxB+4ohHFolgUizvQh67GfnyOzTiC43gV9+EiLuAoDuIrRLEoFsXiDrQ02vgEo1iOY/gFP2A5+rAOwbBGFItiUSzuQFfjQ6zEGRzFBB7FZcygg9PYjgWNKBbFolj8Ty2NnsZerMQF3IMt+B0zuIQZrMBqPImPNaJYFItiaaHn9nqW7MfTOI71+Bv92IMF9GEAQwgexLBGFItiUSz+pYWeJW20cA1P4G2cxffYiVmcw3J00YchzCIYwRVswiSiWBSLYnHDAHroYRF9uIauxvN4D4fQwR4M4RuMYgwX0Y8FrNI4iyHsxkeIYlEsiqWnMe9mi5a8gH2YxAQm0MEJjGMDrqKNoB/HMIUNCB7RiGJRLIrFDc/iGcziElrYgo3oRwdr0cFFnMZy7MQlDGMOXczgL+zCIBawVSOKRbEoFtd9jbU4hDHswjJcxBTO4yFM4Rw2YjPGMIMRzKGHaVzGOOZxFaswrxHFolgUyzZswRRGcBiHsRXb0MM4ggsai1jAaQxo9DCCDvqwBvNooR/TGlEsikWxvIkr6Mdj2ISf0cUMZjGNE1iP1biKAQQddDGEBYxjnSWjmMcEXkcUi2JRLJ/iOZzFIrpYiV9xHl3MYQI9DGoMoo1gAB0s4gHM4xpaiEYfgigWxaJYvsQHeAWzmMEoVmAR5/AXlmENZjCOQSxDMIh+XMVltDFnSRuD2IQoFsWiWFz3Dg7iAHZgDPdiGmswrdHWGME4ZjGEKQyjhWVoYxALGEU//sS7iGJRLIrFDdPYq/EUXsRuPIzjGEMH23EEP2Kfm92PA/gWO/Ad5nEMP2lEsSgWxeK6Po1FjUlMutk6nHFrp/CSW4tiUSyKxXWLbu+MuyOKRbEoFsWiWBSLYlEsikWxKBbFolgUi2L/AC1Ltr/tBZrZAAAAAElFTkSuQmCC\"></td></tr><tr><td style='text-align:center;vertical-align:middle; margin: 0.5em;border:1px #90999f solid;border-collapse:collapse'><img style='max-width: 100px; max-height:100px;display:inline' src=\"data:image/png;base64,iVBORw0KGgoAAAANSUhEUgAAAHAAAABwCAAAAADji6uXAAAABGdBTUEAALGPC/xhBQAAAAFzUkdCAK7OHOkAAAAgY0hSTQAAeiYAAICEAAD6AAAAgOgAAHUwAADqYAAAOpgAABdwnLpRPAAABBRJREFUaAW9wT9v3PUdAODne/c5n8/EIQ41sU1aGkj/gCIhITG0pSztwNCtc7cOnVrxBngFvIoO3aouBTpVbQeEkCoEopESWocGBYhix2fH57N9f74dfsOd7VhRl8/zhP/D6xjgYyf9Bu/jvyjOqmZCspAsJAtzCipaqKgal3ABb+CXGOAWrqHiMv6JJWziyPlCspAsJAtzKgqmaGMDr+A5rOA23sJr+Dnu4F3s4xe4iB18hr9j21khWUgWkoU5BRVX8GNcRxdDDPE8ruIO/oCvsYGXcBdjLON7eBV/xodOCslCspAsnNLDdRzjI+xhjBYqAhdxjEXcw20cYRkP0EEXPbyATTMhWUgWkoU5FWuYoI+CbyM02pigoosDXMMW3sTr+C2uYB/f4FlsmgnJQrKQLJyyjn1sYANfoY1VbKFijCECe1jGH/E3PI8+qsYilnCgEZKFZCFZOOUZ7GOECQK72ERFoI0OCr5GxQK20cMq1vAAXaxhUyMkC8lCsnDKIS7hId7ACv6EFno4xBgLmGKKDoYIHGAFR1jEEbbMhGQhWUgWTrmHAdp4FQO8h0WNHlp4CkNUFIxQ8BR+hQ9xCxdwAx9ohGQhWUgW5lzHv/B7/A7/xg38CEfoaxSMUbGENiqW8TR6+BwP8DN08IFGSBaShWRhzh28iS4WcQUVL2IHC+jjGCNUjR6exQgFx1hDH3/F52ZCspAsJAun3EQPi/gLruITPINtDDUqJhhgqNHBGG+j4gBHGJoJyUKykCzMmeBLM1/g19jGPrZxhEUUHKIisIOKVdzCxOOFZCFZSBbmtFDNVCzhFeziETooGKKFLhbQxjoCF7CHFqYaVSMkC8lCsjCnoqKgouA2foodTNHFFFNM0MYyBriGPioqphrVTEgWkoVkYU5FQTWzh1u4jyE6mOBQo4VvYYQWAmMUFEydFJKFZCFZOKWioKJiAXdxiCkmGCHQwhgPsYtd9DDSqCioZkKykCwkC0/wHRxgC3sIHGhMNC6ig8AP8Q9UFFQnhWQhWUgWHqOa6eMneIg+utjFMcYIXEZBxQ+whF2PF5KFZCFZOEdBxX3cxAgXMEAHLUxwjIeo2MU2ikZBdVJIFpKFZOEJLmOAu1jCAQJjFIw0CloILDhfSBaShWThHFXjBlbQxTIeoYtHmGCMpzFFD1fxkfOFZCFZSBaeYIyK76NiFYu4jzE66JkZ4FCjOCskC8lCsjCnoGoUVNzEGi5hjCGuoo0trOAeCir6GKKgOiskC8lCsjCnmqkaL2OE/+ARVvEpOvgSKxhjih6+i8AxCgqqmZAsJAvJwhMs4BrWsYQBjjDBc1hHH8fY0GhpVFQnhWQhWUgWzlFQ8Q5ewCWsYxMXsYMFBHY0Kraxj4LqrJAsJAvJ/gf2Ix7fmPxsDQAAAABJRU5ErkJg\"></td><td style='text-align:center;vertical-align:middle; margin: 0.5em;border:1px #90999f solid;border-collapse:collapse'><img style='max-width: 100px; max-height:100px;display:inline' src=\"data:image/png;base64,iVBORw0KGgoAAAANSUhEUgAAAHAAAABwCAAAAADji6uXAAAABGdBTUEAALGPC/xhBQAAAAFzUkdCAK7OHOkAAAAgY0hSTQAAeiYAAICEAAD6AAAAgOgAAHUwAADqYAAAOpgAABdwnLpRPAAAAu5JREFUaAW9wT1rnQUcB9CTm1/z0qSpptg0tSJqKQWFgkI+gOAk4mBdBAdxcXLxM7g7OIuj/QCKFAQdCoItUkRBhFpbCrFvadrEJDf3xeEZQik+z3X5nxMT+h4D7GEO1zGHFWxhGj28qV0Ui2JRLCawhJdxW+MwTmMXQ/yDWdzWLYpFsSgWE5jDGEEffWxgGksY4zp2dItiUSyKxQTewTJuIuhhDz3MIziKVbyGK/5bFItiUSwm8CHWcQfHMcAp7GCIXQywgjVc8d+iWBSLYjGBs7iMecygh23MINjEJkY4qV0Ui2JRLDqsYhq3cRwj9PEcdrGFQwh2saddFItiUSw6nMC2xhR2cAyX8QoW8Ag9DLCrXRSLYlEsOpzBANsaY6ziNH7GGdzAPobY0y6KRbEoFh3OYhsLGGAFdzV+xDmMMIsx+tpFsSgWxaLDaWxiBgOcxJcaX+AjTGsMMNQuikWxKBYdlrCDMYJD+EzjJ4zQwxB9DLWLYlEsikWHfWxjjMNYxzUH7mEK93EM89pFsSgWxaLDfRzSWMS3HreOEe5gGT3tolgUi2LR4RGeRvASPtHoYYQ/8SzuIjilXRSLYlEsOvQxh0X08JvGNEb4FS/gIZ7BhnZRLIpFsejwC9Ywiz+wrjHS+BofYwEruKddFItiUSw6XMAHGGIJr+MipjR+x02M0MOSdlEsikWx6DDEPhYxwPu4iIHGXazgeSxiV7soFsWiWExgEfPYxZonzeFVzGBeuygWxaJYTOAS3sM9bHnSX1jGDHraRbEoFsViAp/jPEZ4Ci/imgOPcATT2NAuikWxKBYTuIUHWMAM1nDNgT6CGcxqF8WiWBSLDlMY4yLOo4+38ZUDW1hFDz3tolgUi2LRoYchvsG72MEpj9vELO5jWbsoFsWiWHQYaVzCLRzFCZzDVY2HmMc+NrSLYlEsikWHsQM38BYGeANXNY5gXmNFuygWxaJY/A+fYh37+MGBC/gbD/CddlEsikWxfwGEcaAqlJXK8gAAAABJRU5ErkJg\"></td><td style='text-align:center;vertical-align:middle; margin: 0.5em;border:1px #90999f solid;border-collapse:collapse'><img style='max-width: 100px; max-height:100px;display:inline' src=\"data:image/png;base64,iVBORw0KGgoAAAANSUhEUgAAAHAAAABwCAAAAADji6uXAAAABGdBTUEAALGPC/xhBQAAAAFzUkdCAK7OHOkAAAAgY0hSTQAAeiYAAICEAAD6AAAAgOgAAHUwAADqYAAAOpgAABdwnLpRPAAABL9JREFUaAW9wcuLZGcdANBTVb/b1dXVPTXd0zOZGcLoGFDQTURFXWSpoCiiIlm4EyULd4qb7CVLQXDpf+DejYhBF4IDo0QkAZPMe9KP6kc9+nbVvVXXgq9gFEF33znh/7iJX+GzaOMEz/BF/AlbeFXyG/zY/xYyC5mFzMK/aaGR3MDP8Aae4g4OUOB3+AY+j9fxGezjC3gHf8FPceq/hcxCZiGzsNZCI/kFXkeDDzDFBSp08Ca+jq/gCFOMsZB8C6/he/ir/xQyC5mFzMJaI/k5voYpRpIJnmGEM3yAa3gbdzHAnzFAH6eY4pf4Ph6jhQYhs5BZyCysdLDAbXwbj3ADLXSwi0Nso4cxRqjR4I+4gRoHuIpnuI1f46toJCGzkFnILKwEFvghFmiwgRZq9NHFBC18Dh+hj0e4i20UKDBCB6fYQRczScgsZBYyCyszyZcxxwJjTHEdJQrsYoJz1BiijXOcYIE76KHCDNfwE7wlCZmFzEJmYe1VbOIMNT6BdzFE4AiBNsZYeqGNORo8QY0KfRzjNbwlCZmFzEJmYe07KDFHF49wgQ3MsUCgxgBTtFCghT4qBBYInKCLwgshs5BZyCysvYwuSlzBh3gZLYxwC1OMcCIpsYcOTrCFBTroYBM7uIodjBEyC5mFzMJagxp7OMUVnKONJS7QxTWUWKDADg6xh3NcR43n6OEJpvgU7iFkFjILmYW1T+IQXdzCEF300OASE2ziCmqUeIguKuyjwRK38B6O8THsS0JmIbOQWVgb4DnGWGIP1zCVXEGDChNM0UMbWwiUaDDCAa5hihkGkpBZyCxkFtbGaKGPh/gDfoSneIA+tjFDjR2coo9/osY27uAeDvFdDNHFXUnILGQWMgsrBSpUGGAXv0eFGgWu4gK7OEKNbck2CtQIbOEUFRpcoJSEzEJmIbOwso9zzDDHIU4xR4E9bGKEEXqo0cY5ZriOGQZoocItPMAp9iQhs5BZyCys9FGgwK7kBvqYosQIPexijimG2EQtWWKKwBamuMQ++pKQWcgsZBZW2igxxXMcYSQZYxuVFxbYQBcLFFhiA2PUeIT3scQxTiUhs5BZyCyslJISFyhxicAOeigwQoMNTFCggwab6GIXWzhEFyUuUUtCZiGzkFlYqVCiwg4aVBiixgEWGKOLJTpoo4cTPEaD25hghgEKXKKQhMxCZiGzsNLCLp7hEkvUOMQRluhgExfYlHQwRAsvoUSNGQIDnOEWCknILGQWMgsrz3GMAjVu4gxd9NFghh7aKDDBBPuoUGKMwCso8SE6qDCUhMxCZiGzsLaNA5SYYYYexuhhjhlaKHEVQxSosSXZxvs4wwDbCGxIQmYhs5BZWJuhi0ryAFu4iYe4jQpt1KjwcUwxxwRH+DTeQwtX0aBGSxIyC5mFzMLaY9zGMXYkH6HCBkosUGKAEmO0USCwgzEOcYYFNtHGfUnILGQWMgtrv8UPJEPJUxTYQaCLLubYxAVqtDFHFwPclzzGDEv8QxIyC5mFzMLaO1hgDxPJ3/BNPJNMMcAGphggcIwZOhjgieQSXQTOJCGzkFnILKyd4l3s4b7kbXwJfZxgiQPM0cYFWhjiBir8HQeSe3gJQ1xIQmYhs5DZvwAmtGwALs9olAAAAABJRU5ErkJg\"></td><td style='text-align:center;vertical-align:middle; margin: 0.5em;border:1px #90999f solid;border-collapse:collapse'><img style='max-width: 100px; max-height:100px;display:inline' src=\"data:image/png;base64,iVBORw0KGgoAAAANSUhEUgAAAHAAAABwCAAAAADji6uXAAAABGdBTUEAALGPC/xhBQAAAAFzUkdCAK7OHOkAAAAgY0hSTQAAeiYAAICEAAD6AAAAgOgAAHUwAADqYAAAOpgAABdwnLpRPAAAAj1JREFUaAW9wT2IEGQABuBHfQ9RUBOLQsUGyeMowkohoaGhppbGIIgGx5a6oQjawiEaWvuBaLLFpT0QCQnKJaLCREER4ozO5MDrrrThBtfvW97niQmf4SNcseU1nMSycVEWZVEWEy7iCVyxZRNfmRNlURZlMWEvLnvgEI7hJ+OiLMqiLCYsYg8u2rKMc+ZEWZRFWUy4gK9xFlfxPZbMibIoi7KYcAcf41O8jjfwgTlRFmVRFhP24gR+xnt4B5fMibIoi7KYcArPYgfWsRuPmhNlURZlMWER23AYK/gHJ8yJsiiLspiwC/dxDzfwH17FaeOiLMqiLCZcx0lswzKO4oA5URZlURYT7uAePscNnMdtc6IsyqIsJixgEz/iOA5iAw/htjFRFmVRFhP2Yz++xTc4glU8jNvGRFmURVlMeNGW+9iNTfyOFeOiLMqiLCbcwiO27MBNnMeGcVEWZVEWE5Y88C/+wHasGxdlURZlMeEmDuMtXMNL2G5OlEVZlMWE53Edh/A07uGqOVEWZVEWg87gfbyCL7CCP3HMnCiLsiiLQZfxIc5gH9awjsewD38bE2VRFmUx6Em8gHPYhrt4HH9hp3FRFmVRFoMO4DhexhX8gkUcxB6sGBNlURZlMWgHdmIJt7COTfyKBeOiLMqiLAZtYB2ruIs1rOEaVo2LsiiLshi0hF34DUdxChfwCRaMi7Ioi7IY9Da+xBru4xm8iyM4jTeNibIoi7IY9AOewnM4i1vYwCV8Z1yURVmU/Q+9zGU7pxrabwAAAABJRU5ErkJg\"></td><td style='text-align:center;vertical-align:middle; margin: 0.5em;border:1px #90999f solid;border-collapse:collapse'><img style='max-width: 100px; max-height:100px;display:inline' src=\"data:image/png;base64,iVBORw0KGgoAAAANSUhEUgAAAHAAAABwCAAAAADji6uXAAAABGdBTUEAALGPC/xhBQAAAAFzUkdCAK7OHOkAAAAgY0hSTQAAeiYAAICEAAD6AAAAgOgAAHUwAADqYAAAOpgAABdwnLpRPAAAA65JREFUaAW9wT/InVcdAODnnPd3v3zN10RtEiVmsenQQZTiIEWKUOhiRXAR1y7i5KQOzjoKdujc1UUQN7eCi0OXgiBSXAolIE2jzd/vu+99z+lwhst9cyO6/J4n/J9+gi8i8BAf44/+dyFZSBaShZWCbigIzJiwwwUaChou48/4niGw82whWUgWkoWVgo6KhtnwDi5wBzNOcYKHeMXeDhMWx4VkIVlIFlYaNpgNb+IXeAmfouNj3MKEhoI7+C3exuLZQrKQLCQLKxWz4ff4ER7hMRqu4KbhFOcouITf4Jf4Gf6AwM6hkCwkC8nCM7yOH+IjnCAMJ/ga/o5L+ALOcY7H2OBdfIB/oqDbC8lCspAsrDTDT7Fgg4qCwIwZt3CBio6KihkNv8MP0B0KyUKykCwcUfAaHiPQURDYYkHBGZ6gohgC9/FdfAN/cygkC8lCsnDEj/ElPMCEjs9wGRtMeIQJJzg3FENBwc/xlkMhWUgWkoUjvoOGMMx4DhvMCPzHUBBoKOgI7PCap4VkIVlIFo74FhoKZjSc4hwTOm6iYWs4wRYTKrZ44mkhWUgWkoUjbmOHgooFMyZU7NCwwWRomAwTdjjztJAsJAvJwhFfwafYYDI0dHQEKjoWTJixQTd0vIiruG8vJAvJQrJwRMWCE0NFR0NBxSc4w2XsUAwTCorhZbxvLyQLyUKysHLL0FA8raNgQiDQ0AwbbFEML+J9eyFZSBaShZWX7VVUNHsFC65hwTkmBBoCW1TDTYdCspAsJAsrt+3tUAwNFd1wgQkTCjoWNHRUww2HQrKQLCQLK1+217DBzqGCgoKOjgkLGgI7dLzgUEgWkoVkYeW2oaMhsLXXUfEvXMcpOmac4B6uY4cFNxwKyUKykCys3MAOGxQsKIaCCQ1fRTU0LHge7+H7mLDFCw6FZCFZSBZWrmCLy/gID/Bt3MEldEO3V9FwZvg3rmFBOBSShWQhWVi5gie4hg+ww6so6IaCMHR0dFTcw4d4A3dRHQrJQrKQLKxU7Azv4euGZq/jPs4QDt3DX/EGGopDIVlIFpKFlQtMhj/hFcMGFQ0VBRt0FJwYtvgLfoWOzxwKyUKykCyszIaHuIszNFQUVMNVdFR0dMN9XCBQEQ6FZCFZSBZWHuF5nBpmbLGgYkFHRUdHw4InuIqrhgvcdSgkC8lCsrDyJq7jOcNLhoKKioIFHQsCBQXfxK9RHBeShWQhWTjirr0Z55gxY4OCc0wo6Kh4gH/470KykCwk+xwcsOb3fdA1AAAAAABJRU5ErkJg\"></td><td style='text-align:center;vertical-align:middle; margin: 0.5em;border:1px #90999f solid;border-collapse:collapse'><img style='max-width: 100px; max-height:100px;display:inline' src=\"data:image/png;base64,iVBORw0KGgoAAAANSUhEUgAAAHAAAABwCAAAAADji6uXAAAABGdBTUEAALGPC/xhBQAAAAFzUkdCAK7OHOkAAAAgY0hSTQAAeiYAAICEAAD6AAAAgOgAAHUwAADqYAAAOpgAABdwnLpRPAAAAqVJREFUaAW9wUuIFQQABdDz9PqZsogcnSRHEUmwpBaViREYCBLYD2pXFkELBbcRRNAmKGibUCtbWZvIiIyKJBBClMAk+4kRVlRK5m/SamYK3iIGaSHBPSfKoizKoizKoizKoizKoizKoizKoizKoizKoizKoizKoizKoizKoizKoizKoizKoiz+h43YhwsYYNpMszFppiiLsiiLy/Qo7sIi3InHsAfTLjVpaIBpQ1EWZVEWl2krrsMBbMcjuAU7cMZM43gaV2GLoSiLsijLALMNTWKAASbNdDu24hCOYgzzsA17sAln8BHO4n5M4TSmcTf2IsqiLMoyjb/8a9pM67EBz2M/dmE1JrAdIziKE/ge92EM+3AaZ3ElNmMvoizKoiz+cTPm4QAW4g6MYgzb8BqewUKMYQo/YwJbcAaLMYaXcRNW4leMYhRHDUVZlEVZBngOc3AKo5jAG1iG97EAIwjW4CSmMAfHcD0OYRwv4TyOYREuYj9eNBRlURZlWYd5WIzvMBcj2IhRfIkH8CbWYICDeBjvYSnGMYqrsRuf4kmcwlpsw1L8jiiLsijLEnyDc5iF81iML/AZNuBG7ME1OIbdWI8F+ANv4yd8haP4EyexAh/iIYzjLURZlEVZ3sVT+AXLcQpHcC1W4ggexHl8gmAdDuMeDHACpzCOG3AOS3AEv2E5luFWRFmURVkuYB0exzaswkWsxCzci+M4gsNYg02YjylM4UdsNrQDt2EtPsYEVmESLyDKoizKMsA0dmKnoRV4AnOxACMYwdf4AQexCxOYjyuwAqtxHBP4AHOxBK/iFZxGlEVZlGXapb7Fsy7P53jH0Ov+W5RFWZRFWZRFWZRFWZRFWZRFWZRFWZRFWZRFWZRFWZRFWZRFWZRFWZRFWZRFWZT9DcLTiBr7S9AbAAAAAElFTkSuQmCC\"></td><td style='text-align:center;vertical-align:middle; margin: 0.5em;border:1px #90999f solid;border-collapse:collapse'><img style='max-width: 100px; max-height:100px;display:inline' src=\"data:image/png;base64,iVBORw0KGgoAAAANSUhEUgAAAHAAAABwCAAAAADji6uXAAAABGdBTUEAALGPC/xhBQAAAAFzUkdCAK7OHOkAAAAgY0hSTQAAeiYAAICEAAD6AAAAgOgAAHUwAADqYAAAOpgAABdwnLpRPAAAA/lJREFUaAW9wc+PnHUdAODnnfczP3Znd2lLfwCmLkVCgvHQxHgUgwk3L3owUSMejBe1HjhwgMR/gROJHkwMBwJ3E+VKlHgQJDFQY9S0ZRcpkWVtp9uZ2Zn39fA9bN5hqj19nifchwqt4se4hJv4En6H1xQ9tGjdW0gWkoVk4T60iqfxMj7BDD38AO/gb2j8fyFZSBaShRUVWl3P4Oe4jLfwBWzjFt7EH/Eb/AJv+d9CspAsJAsrWvTQ4Id4FucwxZ9wEQ9gHw/iIbyHy/glPsKv8Jr1QrKQLCQLKyo0eAw/w218gCXO4Q7eQQ8z1OhjHz2M8QL+gvdQoXUiJAvJQrKwolVcwRJ3sYEFPsUCQzQ4QI0+NhUTVHgR30WrKyQLyUKycA/fwKcYYqEYYYkR+pigVjSo0Fc8ar2QLCQLycI9DFAh0EOjaDDHf9BDYIgaLWq0aLGFia6QLCQLycI9XMcpVJjgLo5RYYAWc0wxwQBDbCoCZzHRFZKFZCFZWGMXZ9CiwQBTRWATx7iNUBxjF+dwHSN8Dtd0hWQhWUgW1tjFABUexj9xFhPMFROMscQGagQexIcIfA1/0BWShWQhWVjjMioEFlhiiDmWqDHGFiZosIUFrqJBhS/7rJAsJAvJwhpPYIEx3sUQYzSoUWMDH2MLx5jhAn6NZ3GEJ31WSBaShWRhjcexwBiv4juo0WKEPg6wgwY1jrCBN/AT3MEFnMGBEyFZSBaShTWewAQ7eAXfQqBBixoNluhjhhot3sQNnMI+nsHrToRkIVlIFta4idO4pZhgiT7mmGIbUzTYxhxzxW/xI/wbX8XrToRkIVlIFlbsYBNb+JfiPI4RqLDAJgKHmKOHseL3eB7X8JCukCwkC8nCij4q9DFRPIpDLDDCCHvYxiZuocVY8ZGiQa0rJAvJQrKw4mHF1IlHsIcR5hhjCy0W2MYBDvFN7CkG6OsKyUKykCysOI8ax7iNr2CGIwzRQ40dHOEYU/Sxh2/jJcUIN3SFZCFZSBbW2MUHiu/hY4RiAwscoUaFKWocYBdPKU7hhq6QLCQLycKKHirU6OESbqGvaNBiihEW6KFVDHAOd7HArq6QLCQLycKKHcUCm5hjrqgwwwBD1FigQShmuIBDLFHpCslCspAsrLiOQIUNHGKJUDSKxokaleIOLimG2NMVkoVkIVlY8Tb+jNOY4TxuY4oKLY5QY4klWkXgLCosMMO+rpAsJAvJwhr7OIMP8Q98H39Hix56WKLCGC0afB5/xRv4KWY41hWShWQhWVjjcZzGBq7gCp7ERWygwkAxxCd4H9cUX8RzmGGsKyQLyUKysMbX8QiuOXEVV92f93ERp3BTV0gWkoVk/wX98vN6LQhKXQAAAABJRU5ErkJg\"></td><td style='text-align:center;vertical-align:middle; margin: 0.5em;border:1px #90999f solid;border-collapse:collapse'><img style='max-width: 100px; max-height:100px;display:inline' src=\"data:image/png;base64,iVBORw0KGgoAAAANSUhEUgAAAHAAAABwCAAAAADji6uXAAAABGdBTUEAALGPC/xhBQAAAAFzUkdCAK7OHOkAAAAgY0hSTQAAeiYAAICEAAD6AAAAgOgAAHUwAADqYAAAOpgAABdwnLpRPAAAAo1JREFUaAW9wT2IFgQABuDnu++9n67DQ9TMiBK0CBqbonJqd1KIyCFoblKagmoJ+tmkoaEtamqInJyiKYiMKFOIJNEoMuLy7+6+n4Rv+LhqcIj3eaIsyqIsyqIsyqIsyqIsyqIsyqIsyqIsyqIsyqIsyqIsyqIsyqIsyqIsyqIsyqIsyuJ/8B6O4hBuYYgJphhgai7KoizK4i4MMDX3Kp7B+3gTv2EDr+EUhhibmeIo7sFHiLIoi7K4C1NzZ/AULuM09mKERTxoZsvcw3gD6/gEURZlURZ36SH8jHX8imV8g8NYwzaO42u8Ze5tXMV32EKURVmUxT8sYoyJmSfwBTbxPZ7EBezCYdzEBEP8jlN4GWdwBMu4ggewB1EWZVGWgZ227fQKruE69uFH/IG/sIoBRhhgiiEO4CVzF7GBE4iyKIuyuGNqp8dxEkdxDYvYixtmHsUe/3YD53AWn+Irc4/hJKIsyqIsUzOHcAxHcBDBVUwwwhCHzXyLsziPiziPc3Ya4jiO4Wncj48RZVEWZRngHTyLdSzgT2xiP4YI1vEiPvDfVvE6TmCfmSm2sIEr2I0oi7IoywF8hg+xivuwgHXsw34cxClcwALuxTZWsIHn8S6m+BI/4CquYRM3sYRLiLIoi7Js4HMsYIwxhghiJngEz2ENCwiCAbbxAn7BEAOMMMEINzDCdURZlEVZdmMXJphiGQPcxi3cwgiX8JOZMVawgCVsY4BFTHEdA0wwxdRclEVZlOUylrGGZaxhEStYwi6sYgtDjDHEFBOMsYQxFnEbKwg2McIIE9xElEVZlMUdm9jUEWVRFmVRFmVRFmVRFmVRFmVRFmVRFmVRFmVRFmVRFmVRFmVRFmVRFmV/A+WdiszjOyf9AAAAAElFTkSuQmCC\"></td><td style='text-align:center;vertical-align:middle; margin: 0.5em;border:1px #90999f solid;border-collapse:collapse'><img style='max-width: 100px; max-height:100px;display:inline' src=\"data:image/png;base64,iVBORw0KGgoAAAANSUhEUgAAAHAAAABwCAAAAADji6uXAAAABGdBTUEAALGPC/xhBQAAAAFzUkdCAK7OHOkAAAAgY0hSTQAAeiYAAICEAAD6AAAAgOgAAHUwAADqYAAAOpgAABdwnLpRPAAAA0VJREFUaAW9wc2rVHUYAODnzHnvR1p+QlAp2i4ppUVfUG0M10k7oZUQuYiW0aqtf0AhF3IV1MI2LqLAxFSiUghKCmphUhSJimldxTsz50yL3+IyzJm53s37PGEdajSKt7EDn+E8emitLSQLyUKycJ96aNDDabyHC3gHiziFOQzMFpKFZCFZWKc38S4uKg7hI5zCAD20pgvJQrKQLNyHGg324CYuYgFzWMZZHMESAn3ThWQhWUgW1uEJnFP0MVAs4UNFHz20uoVkIVlIFtZQocEW7MBV1GgwwgJWcAFv4QME+rqFZCFZSBbWUGOIF/G5YmTVQHEcxxR99NCaFJKFZCFZWMNQ8RAuK1qrWsyjj+vYjzOo0ZoUkoVkIVmYoYcWu/G3okZjXKX4GgdwBpVuIVlIFpKFGXposRcXFCOTBoov8Tp24XfUaIwLyUKykCzMMFQ8imuK1qQW8+jjCg7gOGo0xoVkIVlIFqYIDPE0LivmMDDbNziM4+ibFJKFZCFZ6FChxhCv4KxiZLqh4iKOYB8umRSShWQhWegwwopiI75XNKZrUeMWfsJTuGRSSBaShWShwxwG2I+tikX0UaEybqQINPgCB/GJSSFZSBaShQ41BtiCTxX3rG1F8S2u6xaShWQhWejQV5zHDevTQ4X/8DCuGReShWQhWejQKg7iVWxAgyEaLKJCgxH66CFQocY/+BgnjQvJQrKQLMzwBrbgNkYYKTZhESPUuIW+olFsw3M4aVxIFpKFZGGGG3gQoWiwCV9hCXvwM45iN1YwhwYDXDIpJAvJQrLQ4QVsw10E7mEBy9iJX/AD/sBN/IVn8CfmMMI2XDUpJAvJQrIwxfM4gZewjB4ewAr24mXsw2k8rpjHHObR4KxJIVlIFpKFDt9hFzZigECFjfgXh3DYqmXcxlYMUKPVLSQLyUKyMMVVPItltLirWMAtBGpUaFGjp2hxR7eQLCQLycIU5/AkNuAeatSoUaNCpeihQosGG3BFt5AsJAvJQocaDY7hNezEHQwVgdqqCg1GaLEdP+oWkoVkIVlYw2PYjnkENmMZj2CIHhr8ihZ3cBJHdQvJQrKQLHQYWXUCm7GCQI0R3sdvZgsMjQvJQrKQ7H+ViMDW8L5KdQAAAABJRU5ErkJg\"></td><td style='text-align:center;vertical-align:middle; margin: 0.5em;border:1px #90999f solid;border-collapse:collapse'><img style='max-width: 100px; max-height:100px;display:inline' src=\"data:image/png;base64,iVBORw0KGgoAAAANSUhEUgAAAHAAAABwCAAAAADji6uXAAAABGdBTUEAALGPC/xhBQAAAAFzUkdCAK7OHOkAAAAgY0hSTQAAeiYAAICEAAD6AAAAgOgAAHUwAADqYAAAOpgAABdwnLpRPAAAA09JREFUaAW9wUuLlQUcB+DnnPObazM6XsjKRhEKEyMCzRYFQYQFES1atCmiXUTfIWgRFOgyDNraok/QIkgiiKAIuoCWVqikjZdx1HGc8ZzzNvAGIYINs/g/TxSLYlEsikWxKBbFolgUi2JRLIpFsSgWxaJYrFMXQ62PMcDb/l8Ui2JRLNaphyE+xV7M4x18hjm3ewgntaJYFItisU59rR9wAL/hTbyPM7iKK5jGFJ7DRUSxKBbFYh06aLTeQh8bcQXH0cUEptFHD8/jKKJYFItisQ4dNFqXMIY+tmMZKxhFB/fgKqbxIqJYFItisQ6N1kfYhj/RxxI2YogOOlorOIFvEcWiWBSLdWi0dqLBAmawWauv1cMNTOIrDBDFolgUizXooHGnC7iAoIfTGCDo4hzG0cFAK4pFsSgWa9BoBX2tT/AGjmITNmCAMa0V9LGExzCBJUSxKBbFYg2CIfpaH+JlHMIuPIA5zGCALhpswQKu4A0cQRSLYlEs7iJafa29OIQe3sU+bMICRtHDMm5gEePYjDE8jSOIYlEsisWqDrpaHQzQoO8/+3EY32AOL+FRnMJGTOEKrqKLSczgFoJZrSgWxaJYrGowcKcdOIjH0ccX2IMnMIWzWMZlXMANBJPYjDk06GIvuohiUSyKxb/2Yw92YhbjWMZ3OIwDeBXT2IARXMQKeujgfnQwj7NoMK41jYOIYlEsisWqffgAn+MYRnARv2IGr+BZbMMC/kYwghkEE5jGInajjwks4jJW8DCiWBSLYrHqBWzHQTyFm5jHFLZhEtfxO8bRRQ8NtiJYwBkMMY9JLGOARQxwHFEsikWx7MYz+AXj2IJ7MYFLOIMhRvAgNqGPEWzANSyhgy2YRB8juKY1jSXsRxSLYlEscziJWfRxGr9hBlsxiyFGEdxCcB3zGME4tuI6TqCLS2jQwxT+wk5EsSgWxTKPt7ELr+NJ7MB53MQiuuigqzWKLkZxDj/jJ9yH1zCGWa0ObmEME4hiUSyKpYsh/sB7WlPYj6exAxuwAz2cwy38iC/xtdvtxSM4hZsIzmMJ3yOKRbEoliE66KLBENdxDMesTRcNGrzl7qJYFItisarBwPoNrV0Ui2JRLIpFsSgWxaJYFItiUewfV8S/6mZbuLkAAAAASUVORK5C\"></td></tr></tbody></table>"
      ],
      "text/plain": [
       "3×10 Matrix{Base.ReinterpretArray{Gray{Float64}, 2, Float64, Matrix{Float64}, true}}:\n",
       " [Gray{Float64}(0.0) Gray{Float64}(0.0) … Gray{Float64}(0.0) Gray{Float64}(0.0); Gray{Float64}(0.0) Gray{Float64}(0.0) … Gray{Float64}(0.0) Gray{Float64}(0.0); … ; Gray{Float64}(0.0) Gray{Float64}(0.0) … Gray{Float64}(0.0) Gray{Float64}(0.0); Gray{Float64}(0.0) Gray{Float64}(0.0) … Gray{Float64}(0.0) Gray{Float64}(0.0)]  …  [Gray{Float64}(0.0) Gray{Float64}(0.0) … Gray{Float64}(0.0) Gray{Float64}(0.0); Gray{Float64}(0.0) Gray{Float64}(0.0) … Gray{Float64}(0.0) Gray{Float64}(0.0); … ; Gray{Float64}(0.0) Gray{Float64}(0.0) … Gray{Float64}(0.0) Gray{Float64}(0.0); Gray{Float64}(0.0) Gray{Float64}(0.0) … Gray{Float64}(0.0) Gray{Float64}(0.0)]\n",
       " [Gray{Float64}(0.0) Gray{Float64}(0.0) … Gray{Float64}(0.0) Gray{Float64}(0.0); Gray{Float64}(0.0) Gray{Float64}(0.0) … Gray{Float64}(0.0) Gray{Float64}(0.0); … ; Gray{Float64}(0.0) Gray{Float64}(0.0) … Gray{Float64}(0.0) Gray{Float64}(0.0); Gray{Float64}(0.0) Gray{Float64}(0.0) … Gray{Float64}(0.0) Gray{Float64}(0.0)]     [Gray{Float64}(0.0) Gray{Float64}(0.0) … Gray{Float64}(0.0) Gray{Float64}(0.0); Gray{Float64}(0.0) Gray{Float64}(0.0) … Gray{Float64}(0.0) Gray{Float64}(0.0); … ; Gray{Float64}(0.0) Gray{Float64}(0.0) … Gray{Float64}(0.0) Gray{Float64}(0.0); Gray{Float64}(0.0) Gray{Float64}(0.0) … Gray{Float64}(0.0) Gray{Float64}(0.0)]\n",
       " [Gray{Float64}(0.0) Gray{Float64}(0.0) … Gray{Float64}(0.0) Gray{Float64}(0.0); Gray{Float64}(0.0) Gray{Float64}(0.0) … Gray{Float64}(0.0) Gray{Float64}(0.0); … ; Gray{Float64}(0.0) Gray{Float64}(0.0) … Gray{Float64}(0.0) Gray{Float64}(0.0); Gray{Float64}(0.0) Gray{Float64}(0.0) … Gray{Float64}(0.0) Gray{Float64}(0.0)]     [Gray{Float64}(0.0) Gray{Float64}(0.0) … Gray{Float64}(0.0) Gray{Float64}(0.0); Gray{Float64}(0.0) Gray{Float64}(0.0) … Gray{Float64}(0.0) Gray{Float64}(0.0); … ; Gray{Float64}(0.0) Gray{Float64}(0.0) … Gray{Float64}(0.0) Gray{Float64}(0.0); Gray{Float64}(0.0) Gray{Float64}(0.0) … Gray{Float64}(0.0) Gray{Float64}(0.0)]"
      ]
     },
     "execution_count": 71,
     "metadata": {},
     "output_type": "execute_result"
    }
   ],
   "source": [
    "samples = get_correctly_predicted_samples(Xtest, ytest, model, 3)\n",
    "colorview.(Gray, [samples[j][i][:,:,1,1] for i in 1:3, j in 0:9])"
   ]
  },
  {
   "cell_type": "markdown",
   "id": "958412bd-d0f0-4c6d-b28c-d4f523886b8a",
   "metadata": {},
   "source": [
    "### Write sample files"
   ]
  },
  {
   "cell_type": "code",
   "execution_count": 119,
   "id": "1f425f4a-166c-4f68-b7ed-3e74f365d273",
   "metadata": {},
   "outputs": [],
   "source": [
    "@showprogress for cls in 0:9, i in 1:3\n",
    "    write_image(samples[cls][i], model, \"results/examples/fashion_mnist_$(i)_cls_$(cls)\")\n",
    "end"
   ]
  }
 ],
 "metadata": {
  "kernelspec": {
   "display_name": "Julia 1.8.5",
   "language": "julia",
   "name": "julia-1.8"
  },
  "language_info": {
   "file_extension": ".jl",
   "mimetype": "application/julia",
   "name": "julia",
   "version": "1.8.5"
  }
 },
 "nbformat": 4,
 "nbformat_minor": 5
}
